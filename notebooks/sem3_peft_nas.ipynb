{
 "cells": [
  {
   "cell_type": "markdown",
   "id": "4c73cb5e",
   "metadata": {},
   "source": [
    "Семинар 3: DARTS и QLoRA\n",
    "===============================\n",
    "\n",
    "**Материал взят из [Источника 1](https://github.com/diff7/Efficient-DL-models-Seminars/blob/41d5d25f0a3291ed72e40d121bf3f68b4f0c32a5/seminar_nas/darts.ipynb) [Источника 2](https://pytorch.org/torchtune/stable/tutorials/qlora_finetune.html)**"
   ]
  },
  {
   "cell_type": "code",
   "execution_count": 1,
   "id": "0f86c8ed",
   "metadata": {},
   "outputs": [],
   "source": [
    "import random\n",
    "\n",
    "import numpy as np\n",
    "\n",
    "import torch"
   ]
  },
  {
   "cell_type": "code",
   "execution_count": 2,
   "id": "3723bafa",
   "metadata": {},
   "outputs": [],
   "source": [
    "def set_global_seed(seed: int) -> None:\n",
    "    \"\"\"\n",
    "    Set global seed for reproducibility.\n",
    "    \"\"\"\n",
    "\n",
    "    torch.manual_seed(seed)\n",
    "    torch.cuda.manual_seed(seed)\n",
    "    torch.cuda.manual_seed_all(seed)\n",
    "    random.seed(seed)\n",
    "    np.random.seed(seed)\n",
    "\n",
    "    torch.backends.cudnn.deterministic = True\n",
    "    torch.backends.cudnn.benchmark = False\n",
    "\n",
    "    \n",
    "set_global_seed(42)"
   ]
  },
  {
   "cell_type": "markdown",
   "id": "82f18a61",
   "metadata": {},
   "source": [
    "# DARTS"
   ]
  },
  {
   "cell_type": "code",
   "execution_count": 3,
   "id": "9dc6d236",
   "metadata": {},
   "outputs": [],
   "source": [
    "# !pip install nni\n",
    "# !pip install pytorch-lightning"
   ]
  },
  {
   "cell_type": "markdown",
   "id": "d71289a2",
   "metadata": {},
   "source": [
    "\n",
    "# Поиск в пространстве поиска DARTS\n",
    "\n",
    "Ниже мы:\n",
    "\n",
    "1) Воспользуемся готовыми пространствами моделей из NNI\n",
    "\n",
    "2) Используем one-shot стратегиями открытия\n",
    "\n",
    "3) Зададим оценщики для получения лучших результатов\n",
    "\n",
    "В конце мы обучим модель для CIFAR-10 с качеством .\n",
    "\n",
    "\n",
    "## Использование преднайденной DARTS модель\n",
    "\n",
    "Пойдем аналогично [the beginner tutorial of PyTorch](https://pytorch.org/tutorials/beginner/blitz/cifar10_tutorial.html) и для начала загрузим датасет.\n"
   ]
  },
  {
   "cell_type": "code",
   "execution_count": 4,
   "id": "ee820f5f",
   "metadata": {},
   "outputs": [],
   "source": [
    "from torchvision import transforms"
   ]
  },
  {
   "cell_type": "code",
   "execution_count": 5,
   "id": "9c9e1267",
   "metadata": {},
   "outputs": [],
   "source": [
    "IMAGE_NET_MEAN = np.array([0.49139968, 0.48215827, 0.44653124])\n",
    "IMAGE_NET_STD  = np.array([0.24703233, 0.24348505, 0.26158768])\n",
    "\n",
    "def inverse_data(data):\n",
    "    \n",
    "    img = data * IMAGE_NET_STD[:, None, None] + IMAGE_NET_MEAN[:, None, None]\n",
    "    img = img.permute(1, 2, 0).cpu().numpy()\n",
    "    img = (img * 255).astype(np.uint8)\n",
    "    \n",
    "    return img\n",
    "\n",
    "\n",
    "def prepare_transform():\n",
    "\n",
    "    train_transform = transforms.Compose([\n",
    "        transforms.RandomCrop(32, padding=4),\n",
    "        transforms.RandomHorizontalFlip(),\n",
    "        transforms.ToTensor(),\n",
    "        transforms.Normalize(mean=IMAGE_NET_MEAN,\n",
    "                             std=IMAGE_NET_STD)\n",
    "    ])\n",
    "\n",
    "    test_transform = transforms.Compose([\n",
    "        transforms.ToTensor(),\n",
    "        transforms.Normalize(mean=IMAGE_NET_MEAN,\n",
    "                             std=IMAGE_NET_STD)\n",
    "    ])\n",
    "\n",
    "\n",
    "    return train_transform, test_transform"
   ]
  },
  {
   "cell_type": "code",
   "execution_count": 6,
   "id": "ae0134e4",
   "metadata": {},
   "outputs": [],
   "source": [
    "transform_train, transform_valid = prepare_transform()"
   ]
  },
  {
   "cell_type": "code",
   "execution_count": 7,
   "id": "52b33643",
   "metadata": {},
   "outputs": [
    {
     "name": "stderr",
     "output_type": "stream",
     "text": [
      "/home/alexandr/miniconda3/envs/ml/lib/python3.9/site-packages/transformers/utils/generic.py:441: FutureWarning: `torch.utils._pytree._register_pytree_node` is deprecated. Please use `torch.utils._pytree.register_pytree_node` instead.\n",
      "  _torch_pytree._register_pytree_node(\n",
      "/home/alexandr/miniconda3/envs/ml/lib/python3.9/site-packages/transformers/utils/generic.py:309: FutureWarning: `torch.utils._pytree._register_pytree_node` is deprecated. Please use `torch.utils._pytree.register_pytree_node` instead.\n",
      "  _torch_pytree._register_pytree_node(\n"
     ]
    },
    {
     "name": "stdout",
     "output_type": "stream",
     "text": [
      "Files already downloaded and verified\n"
     ]
    }
   ],
   "source": [
    "import nni\n",
    "import torch\n",
    "from torchvision import transforms\n",
    "from torchvision.datasets import CIFAR10\n",
    "from nni.nas.evaluator.pytorch import DataLoader\n",
    "\n",
    "valid_data = nni.trace(CIFAR10)(root='./data', train=False, download=True, transform=transform_valid)\n",
    "valid_loader = DataLoader(valid_data, batch_size=256, num_workers=6)"
   ]
  },
  {
   "cell_type": "markdown",
   "id": "ed7864b2",
   "metadata": {},
   "source": [
    "NNI предлагает множество встроенных модельных пространств, а *предварительно найденных моделей* в `</nas/space_hub>`, которые создаются в большинстве популярных статей про NAS.\n",
    "\n",
    "Предварительно обученная модель -- это сохраненная сеть, которая была предварительно обучена на большом наборе данных, например CIFAR-10 или ImageNet.\n",
    "\n",
    "\n",
    "Вы можете легко загрузить эти модели в качестве начальной иницилизации точки, проверить их производительность и при необходимости зайфатюнить их.\n",
    "\n",
    "В этом руководстве мы выбираем модель из пространства поиска `DARTS`, которая изначально обучена на нашем целевом наборе данных CIFAR-10, чтобы избежать утомительных шагов по настройке.\n",
    "\n",
    "\n",
    "Мы рекомендуем прочитать [этот учебник по файтюнингу для задачи обнаружения объектов](https://pytorch.org/tutorials/intermediate/torchvision_tutorial.html), если вы хотите узнать, как обычно выполняется файтюнинг в PyTorch.\n"
   ]
  },
  {
   "cell_type": "markdown",
   "id": "b5983074",
   "metadata": {},
   "source": [
    "## Использование модельного пространства DARTS \n",
    "\n",
    "Модельное пространство, представленное в `DARTS`, взято из статьи [NASNet](https://arxiv.org/abs/1707.07012),\n",
    "где полная модель строится путем многократного наращивания одного вычислительного блока (называемого **cell**).\n",
    "В сети существует два типа `cell`. Первый тип называется *normal cell*, а второй - *reduction cell*.\n",
    "Ключевое различие между normal и reduction cell заключается в том, что reduction ce;; уменьшает дискретизацию входной карты признаков, и уменьшает ее разрешение. Normal и reduction cell укладываются поочередно, как показано на следующем рисунке.\n",
    "\n",
    "<img src=\"https://nni.readthedocs.io/en/stable/_images/nasnet_cell_stack.png\">\n"
   ]
  },
  {
   "cell_type": "markdown",
   "id": "9e78ac0d",
   "metadata": {},
   "source": [
    "`Cell` принимает в качестве входных данных выходы двух предыдущих ячеек и содержит коллекцию `nodes`.\n",
    "Каждая `node` принимает два предыдущих node в пределах одной `cell` (или два входа `cell`) и применяет к каждому входу `operator` (например, свертку или max-pooling), потом суммирует выходы `operator` в качестве выхода `node`.\n",
    "Выход `cell` - это конкатенация всех `node`, которые никогда не используются в качестве входов другого `node`.\n",
    "Для получения более подробной информации желающие могут прочитать [NDS](https://arxiv.org/pdf/1905.13214.pdf) или [ENAS](https://arxiv.org/abs/1802.03268).\n",
    "\n",
    "Пример ячеек показан на следующем рисунке.\n",
    "\n",
    "<img src=\"https://nni.readthedocs.io/en/stable/_images/nasnet_cell.png\">."
   ]
  },
  {
   "cell_type": "markdown",
   "id": "cfe9d2c0",
   "metadata": {},
   "source": [
    "\n",
    "Пространство поиска, предложенное в статье `DARTS`, содержит две модификации исходного пространства\n",
    "в [NASNet](https://arxiv.org/abs/1707.07012).\n",
    "\n",
    "Во-первых, число кандидатов в `operator` было сокращено до семи:\n",
    "\n",
    "- Max pooling 3x3\n",
    "- Average pooling 3x3\n",
    "- Skip connect (Identity)\n",
    "- Separable convolution 3x3\n",
    "- Separable convolution 5x5\n",
    "- Dilated convolution 3x3\n",
    "- Dilated convolution 5x5\n",
    "\n",
    "Во-вторых, выход `cell` - это конкатинация **всех nodes внутри cell**.\n",
    "\n",
    "Поскольку пространство поиска основано на ячейках, после того как normal и reduction cell определены, мы можем складывать их неограниченное количество раз.\n",
    "Чтобы снизить стоимость поиска, обычно уменьшают количество фильтров (т.е. каналов) и количество сложенных ячеек\n",
    "на этапе поиска, и увеличивать их обратно при обучении окончательной искомой архитектуры."
   ]
  },
  {
   "cell_type": "markdown",
   "id": "758705b4",
   "metadata": {},
   "source": [
    "**Примечание**\n",
    "\n",
    "`DARTS` - одна из тех работ, которые являются инновационными как в пространстве поиска, так и в стратегии поиска.\n",
    "  \n",
    "\n",
    "\n",
    "В этом ноутбуке мы выполним поиск в **пространстве моделей**, предоставленном DARTS, с помощью **стратегии поиска**, предложенной DARTS.\n",
    "  \n",
    "Мы называем их  *DARTS model space* (``DartsSpace``) и *DARTS strategy* (``DartsStrategy``) соответственно.\n",
    "  \n",
    " \n",
    "В следующем примере мы инициализируем класс:`~nni.nas.hub.pytorch.DARTS`\n",
    "пространство модели с 16 исходными фильтрами и 8 `cell`.\n",
    "Сеть предназначена для набора данных CIFAR-10 с разрешением входных данных 32x32.\n",
    "\n",
    "Класс:`~nni.nas.hub.pytorch.Пространство моделей DARTS представлено в документе:\"model space hub </nas/space_hub>`,\n",
    "где мы поддерживаем несколько популярных пространств моделей для подключения и воспроизведения.\n",
    "\n",
    "\n",
    "\n",
    "Пространство модели здесь может быть заменено любым пространством, предусмотренным в hub,\n",
    "или даже пространствами, созданными с нуля."
   ]
  },
  {
   "cell_type": "code",
   "execution_count": 8,
   "id": "fafce9f9",
   "metadata": {},
   "outputs": [],
   "source": [
    "from nni.nas.hub.pytorch import DARTS as DartsSpace\n",
    "\n",
    "model_space = DartsSpace(\n",
    "    width=10,           # the initial filters (channel number) for the model\n",
    "    num_cells=8,        # the number of stacked cells in total\n",
    "    dataset='cifar'     # to give a hint about input resolution, here is 32x32\n",
    ")"
   ]
  },
  {
   "cell_type": "markdown",
   "id": "ad90cb71",
   "metadata": {},
   "source": [
    "## Поиск в пространстве моделей\n"
   ]
  },
  {
   "cell_type": "code",
   "execution_count": 9,
   "id": "dc14a38f",
   "metadata": {},
   "outputs": [],
   "source": [
    "fast_dev_run = False # иначе режим дебага"
   ]
  },
  {
   "cell_type": "markdown",
   "id": "0367afbc",
   "metadata": {},
   "source": [
    "### Оценка качества\n",
    "\n",
    "Чтобы начать изучение пространства моделей, сначала нужно, чтобы оценщик предоставил критерий \"хорошей модели\".\n",
    "Поскольку мы проводим поиск по датасету CIFAR-10, в качестве отправной точки можно легко использовать `~nni.nas.evaluator.pytorch.Classification`.\n",
    "\n",
    "Обратите внимание, что для типичной настройки NAS поиск модели должен оцениваться на валидации, а оценка окончательной найденной модели - на тесте. Однако, поскольку в наборе данных CIFAR-10 нет тестового набора данных (только 50 тыс. обучающих + 10 тыс. валидации),\n",
    "мы должны разделить исходный обучающий набор на обучающий набор и валидационный набор.\n",
    "Рекомендуемое соотношение \"train/val\" по стратегии \"DARTS\" составляет 1:1."
   ]
  },
  {
   "cell_type": "code",
   "execution_count": 10,
   "id": "21dd15ef",
   "metadata": {},
   "outputs": [
    {
     "name": "stdout",
     "output_type": "stream",
     "text": [
      "Files already downloaded and verified\n"
     ]
    },
    {
     "name": "stderr",
     "output_type": "stream",
     "text": [
      "GPU available: True (cuda), used: True\n",
      "TPU available: False, using: 0 TPU cores\n",
      "IPU available: False, using: 0 IPUs\n",
      "HPU available: False, using: 0 HPUs\n"
     ]
    }
   ],
   "source": [
    "import numpy as np\n",
    "from nni.nas.evaluator.pytorch import Classification\n",
    "from torch.utils.data import SubsetRandomSampler\n",
    "\n",
    "\n",
    "train_data = nni.trace(CIFAR10)(root='./data', train=True, download=True, transform=transform_train)\n",
    "\n",
    "num_samples = len(train_data)\n",
    "indices = np.random.permutation(num_samples)\n",
    "split = num_samples // 2\n",
    "\n",
    "search_train_loader = DataLoader(\n",
    "    train_data, batch_size=64, num_workers=6,\n",
    "    sampler=SubsetRandomSampler(indices[:split]),\n",
    ")\n",
    "\n",
    "search_valid_loader = DataLoader(\n",
    "    train_data, batch_size=64, num_workers=6,\n",
    "    sampler=SubsetRandomSampler(indices[split:]),\n",
    ")\n",
    "\n",
    "evaluator = Classification(\n",
    "    learning_rate=1e-3,\n",
    "    weight_decay=1e-4,\n",
    "    train_dataloaders=search_train_loader,\n",
    "    val_dataloaders=search_valid_loader,\n",
    "    max_epochs=10,\n",
    "    accelerator='auto',\n",
    "    fast_dev_run=fast_dev_run,\n",
    "    num_classes = 10\n",
    ")"
   ]
  },
  {
   "cell_type": "markdown",
   "id": "8e7083c5",
   "metadata": {},
   "source": [
    "### Стратегия\n",
    "\n",
    "Мы будем использовать `DARTS` (Differentiable ARchiTecture Search) в качестве стратегии поиска для изучения пространства модели.\n",
    "`~nni.nas.strategy.DARTS` относится к категории `one-shot strategy`.\n",
    "Фундаментальное различие между one-shot strategy и multi-shot strategy заключается в том, что одноразовая стратегия сочетает поиск с обучением модели в рамках одного запуска.\n",
    "По сравнению со стратегиями с несколькими испытаниями, NAS one-shot не нуждается в итеративном создании новых испытаний (т.е. моделей) и, таким образом, сокращает чрезмерные затраты на обучение моделей.\n"
   ]
  },
  {
   "cell_type": "code",
   "execution_count": 11,
   "id": "6526be26",
   "metadata": {},
   "outputs": [],
   "source": [
    "from nni.nas.strategy import DARTS as DartsStrategy\n",
    "\n",
    "\n",
    "# The ``DartsStrategy`` here can be replaced by any search strategies, even multi-trial strategies.\n",
    "strategy = DartsStrategy() "
   ]
  },
  {
   "cell_type": "markdown",
   "id": "997ceb7c",
   "metadata": {},
   "source": [
    "Eсли вы хотите знать, как работает стратегия DARTS, вот ее краткая версия.\n",
    "По сути, DARTS преобразует ячейку в плотно связанный граф и помещает операторы на ребра (см. следующий рисунок).\n",
    "Поскольку операторы еще не определены, каждое ребро представляет собой взвешенную комбинацию нескольких операторов (на рисунке показано несколько цветов).\n",
    "Затем DARTS учится назначать оптимальный \"цвет\" для каждого ребра во время обучения сети.\n",
    "В конечном итоге он выбирает один \"цвет\" для каждого ребра и удаляет лишние ребра.\n",
    "Веса по краям называются *архитектурными весами*.\n",
    "\n",
    "<img src=\"https://nni.readthedocs.io/en/stable/_images/darts_illustration.png\">\n",
    "\n",
    "На рисунке не отражено, что для пространства модели DARTS для каждого узла сохраняется ровно два входа.\n",
    "\n"
   ]
  },
  {
   "cell_type": "markdown",
   "id": "ee6b32ae",
   "metadata": {},
   "source": [
    "### Запуск экспериментов"
   ]
  },
  {
   "cell_type": "code",
   "execution_count": 12,
   "id": "be4279fe",
   "metadata": {},
   "outputs": [],
   "source": [
    "from nni.nas.experiment import NasExperiment"
   ]
  },
  {
   "cell_type": "code",
   "execution_count": 13,
   "id": "bec17f28",
   "metadata": {},
   "outputs": [
    {
     "name": "stdout",
     "output_type": "stream",
     "text": [
      "[2024-10-10 21:23:00] \u001b[32mConfig is not provided. Will try to infer.\u001b[0m\n",
      "[2024-10-10 21:23:00] \u001b[32mStrategy is found to be a one-shot strategy. Setting execution engine to \"sequential\" and format to \"raw\".\u001b[0m\n",
      "[2024-10-10 21:23:00] \u001b[33mWARNING: `training_service` will be ignored for sequential execution engine.\u001b[0m\n",
      "[2024-10-10 21:23:00] \u001b[33mWARNING: `training_service` will be ignored for sequential execution engine.\u001b[0m\n",
      "[2024-10-10 21:23:00] \u001b[33mWARNING: `training_service` will be ignored for sequential execution engine.\u001b[0m\n",
      "[2024-10-10 21:23:01] \u001b[33mWARNING: `training_service` will be ignored for sequential execution engine.\u001b[0m\n",
      "[2024-10-10 21:23:01] \u001b[33mWARNING: `training_service` will be ignored for sequential execution engine.\u001b[0m\n",
      "[2024-10-10 21:23:01] \u001b[33mWARNING: `training_service` will be ignored for sequential execution engine.\u001b[0m\n",
      "[2024-10-10 21:23:01] \u001b[33mWARNING: `training_service` will be ignored for sequential execution engine.\u001b[0m\n",
      "[2024-10-10 21:23:01] \u001b[33mWARNING: `training_service` will be ignored for sequential execution engine.\u001b[0m\n",
      "[2024-10-10 21:23:01] \u001b[33mWARNING: Checkpoint callback does not have last_model_path or best_model_path attribute. Either the strategy has not started, or it did not save any checkpoint: <pytorch_lightning.callbacks.model_checkpoint.ModelCheckpoint object at 0x7fe1516267f0>\u001b[0m\n",
      "[2024-10-10 21:23:01] \u001b[33mWARNING: `training_service` will be ignored for sequential execution engine.\u001b[0m\n",
      "[2024-10-10 21:23:01] \u001b[33mWARNING: `training_service` will be ignored for sequential execution engine.\u001b[0m\n",
      "[2024-10-10 21:23:01] \u001b[32mCheckpoint saved to /home/alexandr/nni-experiments/95adtv2s/checkpoint.\u001b[0m\n",
      "[2024-10-10 21:23:01] \u001b[32mExperiment initialized successfully. Starting exploration strategy...\u001b[0m\n",
      "[2024-10-10 21:23:01] \u001b[33mWARNING: Validation dataloaders are missing. Safe to ignore this warning when using one-shot strategy.\u001b[0m\n"
     ]
    },
    {
     "name": "stderr",
     "output_type": "stream",
     "text": [
      "Missing logger folder: /home/alexandr/Документы/spec_course/sem3/lightning_logs\n",
      "LOCAL_RANK: 0 - CUDA_VISIBLE_DEVICES: [0]\n",
      "\n",
      "  | Name            | Type                 | Params\n",
      "---------------------------------------------------------\n",
      "0 | training_module | ClassificationModule | 897 K \n",
      "---------------------------------------------------------\n",
      "897 K     Trainable params\n",
      "0         Non-trainable params\n",
      "897 K     Total params\n",
      "3.591     Total estimated model params size (MB)\n"
     ]
    },
    {
     "data": {
      "application/vnd.jupyter.widget-view+json": {
       "model_id": "f220e45804ee48729d0fb64f068d9558",
       "version_major": 2,
       "version_minor": 0
      },
      "text/plain": [
       "Training: 0it [00:00, ?it/s]"
      ]
     },
     "metadata": {},
     "output_type": "display_data"
    },
    {
     "name": "stderr",
     "output_type": "stream",
     "text": [
      "`Trainer.fit` stopped: `max_epochs=10` reached.\n"
     ]
    },
    {
     "name": "stdout",
     "output_type": "stream",
     "text": [
      "[2024-10-10 22:34:17] \u001b[32mWaiting for models submitted to engine to finish...\u001b[0m\n",
      "[2024-10-10 22:34:17] \u001b[32mExperiment is completed.\u001b[0m\n",
      "[2024-10-10 22:34:17] \u001b[33mWARNING: `training_service` will be ignored for sequential execution engine.\u001b[0m\n"
     ]
    },
    {
     "data": {
      "text/plain": [
       "True"
      ]
     },
     "execution_count": 13,
     "metadata": {},
     "output_type": "execute_result"
    }
   ],
   "source": [
    "experiment = NasExperiment(model_space, evaluator, strategy)\n",
    "\n",
    "experiment.run()"
   ]
  },
  {
   "cell_type": "code",
   "execution_count": 14,
   "id": "7bb99d7e",
   "metadata": {
    "scrolled": true
   },
   "outputs": [
    {
     "name": "stdout",
     "output_type": "stream",
     "text": [
      "[2024-10-10 22:34:17] \u001b[32mSorted weights in differentiable cell export (normal cell, node 2): [(0.1844659298658371, 1, 'sep_conv_3x3'), (0.11377792060375214, 0, 'sep_conv_5x5'), (0.07937182486057281, 0, 'skip_connect'), (0.03506441414356232, 1, 'sep_conv_5x5'), (0.027457697317004204, 1, 'dil_conv_3x3'), (-0.005042980890721083, 0, 'max_pool_3x3'), (-0.01098248828202486, 0, 'sep_conv_3x3'), (-0.03640126809477806, 0, 'dil_conv_3x3'), (-0.044434189796447754, 1, 'skip_connect'), (-0.07988471537828445, 0, 'avg_pool_3x3'), (-0.09090959280729294, 1, 'max_pool_3x3'), (-0.09917645901441574, 0, 'dil_conv_5x5'), (-0.13292928040027618, 1, 'dil_conv_5x5'), (-0.18568815290927887, 1, 'avg_pool_3x3')]\u001b[0m\n",
      "[2024-10-10 22:34:17] \u001b[32mSorted weights in differentiable cell export (normal cell, node 3): [(0.13100354373455048, 2, 'sep_conv_3x3'), (0.07760423421859741, 1, 'sep_conv_3x3'), (0.06957611441612244, 0, 'sep_conv_3x3'), (0.082841657102108, 2, 'dil_conv_3x3'), (0.06798973679542542, 0, 'max_pool_3x3'), (0.029455870389938354, 1, 'dil_conv_5x5'), (0.02438446693122387, 0, 'skip_connect'), (0.013209988363087177, 1, 'dil_conv_3x3'), (-0.0061860885471105576, 0, 'dil_conv_3x3'), (-0.014172972179949284, 0, 'sep_conv_5x5'), (-0.022786814719438553, 1, 'sep_conv_5x5'), (-0.026368916034698486, 1, 'max_pool_3x3'), (-0.034866027534008026, 2, 'skip_connect'), (-0.04213518649339676, 1, 'skip_connect'), (-0.05827237665653229, 0, 'avg_pool_3x3'), (-0.061422307044267654, 2, 'dil_conv_5x5'), (-0.0649019181728363, 2, 'max_pool_3x3'), (-0.08998167514801025, 2, 'avg_pool_3x3'), (-0.11396575719118118, 0, 'dil_conv_5x5'), (-0.1334916353225708, 2, 'sep_conv_5x5'), (-0.1486738920211792, 1, 'avg_pool_3x3')]\u001b[0m\n",
      "[2024-10-10 22:34:17] \u001b[32mSorted weights in differentiable cell export (normal cell, node 4): [(0.23775506019592285, 1, 'sep_conv_3x3'), (0.14201205968856812, 0, 'max_pool_3x3'), (0.12413583695888519, 3, 'sep_conv_3x3'), (0.07676664739847183, 2, 'sep_conv_3x3'), (0.07944103330373764, 3, 'dil_conv_5x5'), (0.04239202290773392, 1, 'sep_conv_5x5'), (0.01700124517083168, 0, 'sep_conv_5x5'), (0.015762632712721825, 1, 'max_pool_3x3'), (0.014040365815162659, 2, 'dil_conv_3x3'), (0.005560683086514473, 3, 'sep_conv_5x5'), (-0.00026444095419719815, 0, 'skip_connect'), (-0.01975773274898529, 2, 'max_pool_3x3'), (-0.03389641270041466, 0, 'sep_conv_3x3'), (-0.035478655248880386, 2, 'sep_conv_5x5'), (-0.039191026240587234, 1, 'dil_conv_5x5'), (-0.04033075273036957, 2, 'skip_connect'), (-0.05097835510969162, 1, 'dil_conv_3x3'), (-0.05431107059121132, 2, 'dil_conv_5x5'), (-0.05685747042298317, 0, 'dil_conv_3x3'), (-0.06233051419258118, 0, 'dil_conv_5x5'), (-0.07030092179775238, 0, 'avg_pool_3x3'), (-0.07931634783744812, 3, 'dil_conv_3x3'), (-0.08750295639038086, 2, 'avg_pool_3x3'), (-0.09326095134019852, 3, 'max_pool_3x3'), (-0.11871515959501266, 3, 'skip_connect'), (-0.14567315578460693, 1, 'skip_connect'), (-0.1819765716791153, 3, 'avg_pool_3x3'), (-0.22211205959320068, 1, 'avg_pool_3x3')]\u001b[0m\n",
      "[2024-10-10 22:34:17] \u001b[32mSorted weights in differentiable cell export (normal cell, node 5): [(0.137407585978508, 4, 'sep_conv_3x3'), (0.0971597284078598, 3, 'sep_conv_3x3'), (0.08431077003479004, 1, 'sep_conv_3x3'), (0.0818377286195755, 2, 'sep_conv_3x3'), (0.060860488563776016, 0, 'sep_conv_3x3'), (0.06204914674162865, 3, 'dil_conv_3x3'), (0.060739293694496155, 4, 'sep_conv_5x5'), (0.05850810185074806, 0, 'dil_conv_3x3'), (0.052247051149606705, 0, 'skip_connect'), (0.037646692246198654, 1, 'dil_conv_3x3'), (0.03656167909502983, 2, 'dil_conv_3x3'), (0.03470819070935249, 4, 'dil_conv_3x3'), (0.019796067848801613, 1, 'sep_conv_5x5'), (0.01111648604273796, 4, 'dil_conv_5x5'), (0.0051466659642755985, 3, 'sep_conv_5x5'), (0.0025601505767554045, 2, 'skip_connect'), (0.0006019790889695287, 3, 'dil_conv_5x5'), (-4.302108209230937e-05, 2, 'sep_conv_5x5'), (-0.024105045944452286, 0, 'sep_conv_5x5'), (-0.027700649574398994, 0, 'avg_pool_3x3'), (-0.031954701989889145, 1, 'skip_connect'), (-0.0365312360227108, 0, 'max_pool_3x3'), (-0.04103328287601471, 1, 'max_pool_3x3'), (-0.06746835261583328, 2, 'avg_pool_3x3'), (-0.07089366763830185, 0, 'dil_conv_5x5'), (-0.08116505295038223, 1, 'dil_conv_5x5'), (-0.08273433893918991, 2, 'dil_conv_5x5'), (-0.09993118792772293, 1, 'avg_pool_3x3'), (-0.10172031819820404, 2, 'max_pool_3x3'), (-0.10596667230129242, 3, 'skip_connect'), (-0.12753959000110626, 4, 'skip_connect'), (-0.16674935817718506, 3, 'avg_pool_3x3'), (-0.17356747388839722, 3, 'max_pool_3x3'), (-0.18387830257415771, 4, 'avg_pool_3x3'), (-0.20881213247776031, 4, 'max_pool_3x3')]\u001b[0m\n",
      "[2024-10-10 22:34:17] \u001b[32mSorted weights in differentiable cell export (reduce cell, node 2): [(0.09586548060178757, 0, 'max_pool_3x3'), (0.08854284137487411, 1, 'sep_conv_5x5'), (0.02462243102490902, 1, 'dil_conv_5x5'), (0.02421504445374012, 1, 'max_pool_3x3'), (0.012576179578900337, 0, 'avg_pool_3x3'), (0.00468810647726059, 1, 'avg_pool_3x3'), (0.004109152592718601, 0, 'dil_conv_5x5'), (0.001615807879716158, 0, 'sep_conv_3x3'), (-0.009034736081957817, 1, 'sep_conv_3x3'), (-0.02014276571571827, 0, 'skip_connect'), (-0.025652622804045677, 0, 'sep_conv_5x5'), (-0.07841228693723679, 0, 'dil_conv_3x3'), (-0.09521283209323883, 1, 'dil_conv_3x3'), (-0.11077430099248886, 1, 'skip_connect')]\u001b[0m\n",
      "[2024-10-10 22:34:17] \u001b[32mSorted weights in differentiable cell export (reduce cell, node 3): [(0.09076564759016037, 0, 'max_pool_3x3'), (0.08181498944759369, 2, 'dil_conv_5x5'), (0.056481603533029556, 1, 'sep_conv_5x5'), (0.04584971070289612, 1, 'skip_connect'), (0.012292749248445034, 0, 'dil_conv_3x3'), (0.009457849897444248, 2, 'skip_connect'), (0.004586660768836737, 1, 'max_pool_3x3'), (0.0023877655621618032, 2, 'sep_conv_3x3'), (0.00016054566367529333, 1, 'sep_conv_3x3'), (-0.004417423624545336, 0, 'avg_pool_3x3'), (-0.005565178114920855, 1, 'dil_conv_5x5'), (-0.006907337345182896, 0, 'dil_conv_5x5'), (-0.01934286393225193, 0, 'sep_conv_3x3'), (-0.020548298954963684, 0, 'skip_connect'), (-0.02362087555229664, 0, 'sep_conv_5x5'), (-0.030051214620471, 2, 'sep_conv_5x5'), (-0.04844852536916733, 2, 'max_pool_3x3'), (-0.0515875369310379, 2, 'dil_conv_3x3'), (-0.05756669119000435, 1, 'avg_pool_3x3'), (-0.058167461305856705, 1, 'dil_conv_3x3'), (-0.08693693578243256, 2, 'avg_pool_3x3')]\u001b[0m\n",
      "[2024-10-10 22:34:17] \u001b[32mSorted weights in differentiable cell export (reduce cell, node 4): [(0.10724809765815735, 0, 'max_pool_3x3'), (0.057827215641736984, 1, 'sep_conv_3x3'), (0.057361505925655365, 3, 'dil_conv_3x3'), (0.033183638006448746, 2, 'sep_conv_5x5'), (0.037800807505846024, 0, 'sep_conv_3x3'), (0.03248182311654091, 3, 'sep_conv_3x3'), (0.03165407478809357, 1, 'dil_conv_3x3'), (0.030966049060225487, 1, 'skip_connect'), (0.03065585531294346, 2, 'sep_conv_3x3'), (0.024997377768158913, 3, 'skip_connect'), (0.012005827389657497, 2, 'dil_conv_3x3'), (0.008869110606610775, 1, 'sep_conv_5x5'), (0.005636176560074091, 0, 'avg_pool_3x3'), (0.004097711760550737, 1, 'max_pool_3x3'), (-0.0016318049747496843, 2, 'dil_conv_5x5'), (-0.006156195420771837, 0, 'skip_connect'), (-0.010162758640944958, 2, 'skip_connect'), (-0.02337542548775673, 3, 'dil_conv_5x5'), (-0.02507866732776165, 0, 'sep_conv_5x5'), (-0.025180738419294357, 0, 'dil_conv_5x5'), (-0.028169065713882446, 1, 'avg_pool_3x3'), (-0.030843235552310944, 0, 'dil_conv_3x3'), (-0.03249004855751991, 3, 'max_pool_3x3'), (-0.032901667058467865, 3, 'sep_conv_5x5'), (-0.06437107920646667, 3, 'avg_pool_3x3'), (-0.07898852229118347, 2, 'max_pool_3x3'), (-0.0929269790649414, 2, 'avg_pool_3x3'), (-0.11319714784622192, 1, 'dil_conv_5x5')]\u001b[0m\n",
      "[2024-10-10 22:34:17] \u001b[32mSorted weights in differentiable cell export (reduce cell, node 5): [(0.0805426687002182, 0, 'max_pool_3x3'), (0.07651422917842865, 2, 'dil_conv_3x3'), (0.07484003901481628, 4, 'dil_conv_3x3'), (0.05966677516698837, 3, 'sep_conv_5x5'), (0.04523049667477608, 1, 'max_pool_3x3'), (0.04111844301223755, 1, 'sep_conv_3x3'), (0.032700978219509125, 3, 'sep_conv_3x3'), (0.028266342356801033, 2, 'sep_conv_5x5'), (0.0267717856913805, 4, 'sep_conv_3x3'), (0.024411780759692192, 1, 'dil_conv_3x3'), (0.023313792422413826, 0, 'sep_conv_5x5'), (0.009415420703589916, 3, 'dil_conv_5x5'), (0.004366549663245678, 1, 'avg_pool_3x3'), (0.002777826739475131, 4, 'sep_conv_5x5'), (-0.00022555215400643647, 0, 'sep_conv_3x3'), (-0.0009700695518404245, 2, 'dil_conv_5x5'), (-0.0024249714333564043, 0, 'dil_conv_5x5'), (-0.0037528881803154945, 1, 'skip_connect'), (-0.01244349218904972, 4, 'skip_connect'), (-0.014933011494576931, 4, 'dil_conv_5x5'), (-0.01510954461991787, 0, 'skip_connect'), (-0.01667766645550728, 2, 'sep_conv_3x3'), (-0.021453682333230972, 2, 'skip_connect'), (-0.022613856941461563, 1, 'dil_conv_5x5'), (-0.026754841208457947, 0, 'avg_pool_3x3'), (-0.03013228066265583, 3, 'dil_conv_3x3'), (-0.031932152807712555, 0, 'dil_conv_3x3'), (-0.03467196226119995, 3, 'skip_connect'), (-0.055021900683641434, 2, 'max_pool_3x3'), (-0.0553835853934288, 4, 'max_pool_3x3'), (-0.055717188864946365, 1, 'sep_conv_5x5'), (-0.07353696972131729, 3, 'max_pool_3x3'), (-0.09943931549787521, 2, 'avg_pool_3x3'), (-0.10486431419849396, 4, 'avg_pool_3x3'), (-0.10520236939191818, 3, 'avg_pool_3x3')]\u001b[0m\n"
     ]
    },
    {
     "data": {
      "text/plain": [
       "{'normal/op_2_0': 'sep_conv_3x3',\n",
       " 'normal/input_2_0': [1],\n",
       " 'normal/op_2_1': 'sep_conv_5x5',\n",
       " 'normal/input_2_1': [0],\n",
       " 'normal/op_3_0': 'sep_conv_3x3',\n",
       " 'normal/input_3_0': [2],\n",
       " 'normal/op_3_1': 'sep_conv_3x3',\n",
       " 'normal/input_3_1': [1],\n",
       " 'normal/op_4_0': 'sep_conv_3x3',\n",
       " 'normal/input_4_0': [1],\n",
       " 'normal/op_4_1': 'max_pool_3x3',\n",
       " 'normal/input_4_1': [0],\n",
       " 'normal/op_5_0': 'sep_conv_3x3',\n",
       " 'normal/input_5_0': [4],\n",
       " 'normal/op_5_1': 'sep_conv_3x3',\n",
       " 'normal/input_5_1': [3],\n",
       " 'reduce/op_2_0': 'max_pool_3x3',\n",
       " 'reduce/input_2_0': [0],\n",
       " 'reduce/op_2_1': 'sep_conv_5x5',\n",
       " 'reduce/input_2_1': [1],\n",
       " 'reduce/op_3_0': 'max_pool_3x3',\n",
       " 'reduce/input_3_0': [0],\n",
       " 'reduce/op_3_1': 'dil_conv_5x5',\n",
       " 'reduce/input_3_1': [2],\n",
       " 'reduce/op_4_0': 'max_pool_3x3',\n",
       " 'reduce/input_4_0': [0],\n",
       " 'reduce/op_4_1': 'sep_conv_3x3',\n",
       " 'reduce/input_4_1': [1],\n",
       " 'reduce/op_5_0': 'max_pool_3x3',\n",
       " 'reduce/input_5_0': [0],\n",
       " 'reduce/op_5_1': 'dil_conv_3x3',\n",
       " 'reduce/input_5_1': [2]}"
      ]
     },
     "execution_count": 14,
     "metadata": {},
     "output_type": "execute_result"
    }
   ],
   "source": [
    "exported_arch = experiment.export_top_models(formatter='dict')[0]\n",
    "\n",
    "exported_arch"
   ]
  },
  {
   "cell_type": "markdown",
   "id": "8657d968",
   "metadata": {},
   "source": [
    "Cell могут быть визуализированы с помощью кода ниже\n",
    "(взято из [DARTS visualization](https://github.com/quark0/darts/blob/master/cnn/visualize.py)).\n"
   ]
  },
  {
   "cell_type": "markdown",
   "id": "36fa150e",
   "metadata": {},
   "source": [
    "Если ``fast_dev_run = False``, мы получим модель, в которой можно заметить интересный факт, что  примерно половина операторов это ``sep_conv_3x3``."
   ]
  },
  {
   "cell_type": "code",
   "execution_count": 26,
   "id": "417e8787",
   "metadata": {},
   "outputs": [
    {
     "data": {
      "image/png": "[encoded data removed]",
      "text/plain": [
       "<Figure size 1000x785.26 with 2 Axes>"
      ]
     },
     "metadata": {},
     "output_type": "display_data"
    }
   ],
   "source": [
    "import io\n",
    "import graphviz\n",
    "import matplotlib.pyplot as plt\n",
    "from PIL import Image\n",
    "\n",
    "def plot_single_cell(arch_dict, cell_name):\n",
    "    g = graphviz.Digraph(\n",
    "        node_attr=dict(style='filled', shape='rect', align='center'),\n",
    "        format='png'\n",
    "    )\n",
    "    g.body.extend(['rankdir=LR'])\n",
    "\n",
    "    g.node('c_{k-2}', fillcolor='darkseagreen2')\n",
    "    g.node('c_{k-1}', fillcolor='darkseagreen2')\n",
    "    assert len(arch_dict) % 2 == 0\n",
    "\n",
    "    for i in range(2, 6):\n",
    "        g.node(str(i), fillcolor='lightblue')\n",
    "\n",
    "    for i in range(2, 6):\n",
    "        for j in range(2):\n",
    "            op = arch_dict[f'{cell_name}/op_{i}_{j}']\n",
    "            from_ = arch_dict[f'{cell_name}/input_{i}_{j}']\n",
    "            if from_ == 0:\n",
    "                u = 'c_{k-2}'\n",
    "            elif from_ == 1:\n",
    "                u = 'c_{k-1}'\n",
    "            else:\n",
    "                u = str(from_)\n",
    "            v = str(i)\n",
    "            g.edge(u, v, label=op, fillcolor='gray')\n",
    "\n",
    "    g.node('c_{k}', fillcolor='palegoldenrod')\n",
    "    for i in range(2, 6):\n",
    "        g.edge(str(i), 'c_{k}', fillcolor='gray')\n",
    "\n",
    "    g.attr(label=f'{cell_name.capitalize()} cell')\n",
    "\n",
    "    image = Image.open(io.BytesIO(g.pipe()))\n",
    "    return image\n",
    "\n",
    "def plot_double_cells(arch_dict):\n",
    "    image1 = plot_single_cell(arch_dict, 'normal')\n",
    "    image2 = plot_single_cell(arch_dict, 'reduce')\n",
    "    height_ratio = max(image1.size[1] / image1.size[0], image2.size[1] / image2.size[0])\n",
    "    _, axs = plt.subplots(2, 1, figsize=(10, 20 * height_ratio))\n",
    "    axs[0].imshow(image1)\n",
    "    axs[1].imshow(image2)\n",
    "    axs[0].axis('off')\n",
    "    axs[1].axis('off')\n",
    "    plt.show()\n",
    "\n",
    "d = {}\n",
    "for k, v in exported_arch.items():\n",
    "    d[k] = v\n",
    "    if isinstance(v, list):\n",
    "        d[k] = v[0]\n",
    "        if len(v) > 1:\n",
    "            print(f\"WARNING {v}\")\n",
    "        \n",
    "plot_double_cells(d)"
   ]
  },
  {
   "cell_type": "markdown",
   "id": "d3ac8219",
   "metadata": {},
   "source": [
    "## Обучение с нуля найденной модели\n",
    "\n",
    "\n",
    "То, что мы получили на последнем шаге - это всего лишь структура cells.\n",
    "Чтобы получить готовую к использованию модель с заданными весами, нам нужно построить реальную модель на основе этой структуры, а затем полностью ее обучить.\n",
    "\n",
    "Чтобы построить фиксированную модель на основе архитектурного dict, экспортированного из эксперимента,\n",
    "мы можем использовать `nni.nas.space.model_context`. В with-context мы создадим фиксированную модель, основанную на `exported_arch`, вместо создания пространства."
   ]
  },
  {
   "cell_type": "code",
   "execution_count": 17,
   "id": "c724c32b",
   "metadata": {},
   "outputs": [],
   "source": [
    "from nni.nas.space import model_context\n",
    "\n",
    "with model_context(exported_arch):\n",
    "    final_model = DartsSpace(width=10, num_cells=8, dataset='cifar')"
   ]
  },
  {
   "cell_type": "code",
   "execution_count": 18,
   "id": "d3d082c4",
   "metadata": {},
   "outputs": [],
   "source": [
    "train_loader = DataLoader(train_data, batch_size=96, num_workers=6)  # Use the original training data"
   ]
  },
  {
   "cell_type": "code",
   "execution_count": 19,
   "id": "cc5ceb84",
   "metadata": {
    "scrolled": false
   },
   "outputs": [
    {
     "name": "stderr",
     "output_type": "stream",
     "text": [
      "GPU available: True (cuda), used: True\n",
      "TPU available: False, using: 0 TPU cores\n",
      "IPU available: False, using: 0 IPUs\n",
      "HPU available: False, using: 0 HPUs\n",
      "LOCAL_RANK: 0 - CUDA_VISIBLE_DEVICES: [0]\n",
      "\n",
      "  | Name      | Type             | Params\n",
      "-----------------------------------------------\n",
      "0 | criterion | CrossEntropyLoss | 0     \n",
      "1 | metrics   | ModuleDict       | 0     \n",
      "2 | _model    | DARTS            | 144 K \n",
      "-----------------------------------------------\n",
      "144 K     Trainable params\n",
      "0         Non-trainable params\n",
      "144 K     Total params\n",
      "0.577     Total estimated model params size (MB)\n"
     ]
    },
    {
     "data": {
      "application/vnd.jupyter.widget-view+json": {
       "model_id": "",
       "version_major": 2,
       "version_minor": 0
      },
      "text/plain": [
       "Sanity Checking: 0it [00:00, ?it/s]"
      ]
     },
     "metadata": {},
     "output_type": "display_data"
    },
    {
     "data": {
      "application/vnd.jupyter.widget-view+json": {
       "model_id": "ac85335306584d4aaa66dfbf57cc5f4a",
       "version_major": 2,
       "version_minor": 0
      },
      "text/plain": [
       "Training: 0it [00:00, ?it/s]"
      ]
     },
     "metadata": {},
     "output_type": "display_data"
    },
    {
     "data": {
      "application/vnd.jupyter.widget-view+json": {
       "model_id": "",
       "version_major": 2,
       "version_minor": 0
      },
      "text/plain": [
       "Validation: 0it [00:00, ?it/s]"
      ]
     },
     "metadata": {},
     "output_type": "display_data"
    },
    {
     "name": "stdout",
     "output_type": "stream",
     "text": [
      "[2024-10-10 22:35:08] \u001b[32mIntermediate result: 0.5232999920845032  (Index 0)\u001b[0m\n"
     ]
    },
    {
     "data": {
      "application/vnd.jupyter.widget-view+json": {
       "model_id": "",
       "version_major": 2,
       "version_minor": 0
      },
      "text/plain": [
       "Validation: 0it [00:00, ?it/s]"
      ]
     },
     "metadata": {},
     "output_type": "display_data"
    },
    {
     "name": "stdout",
     "output_type": "stream",
     "text": [
      "[2024-10-10 22:35:57] \u001b[32mIntermediate result: 0.6236000061035156  (Index 1)\u001b[0m\n"
     ]
    },
    {
     "data": {
      "application/vnd.jupyter.widget-view+json": {
       "model_id": "",
       "version_major": 2,
       "version_minor": 0
      },
      "text/plain": [
       "Validation: 0it [00:00, ?it/s]"
      ]
     },
     "metadata": {},
     "output_type": "display_data"
    },
    {
     "name": "stdout",
     "output_type": "stream",
     "text": [
      "[2024-10-10 22:36:47] \u001b[32mIntermediate result: 0.6937999725341797  (Index 2)\u001b[0m\n"
     ]
    },
    {
     "data": {
      "application/vnd.jupyter.widget-view+json": {
       "model_id": "",
       "version_major": 2,
       "version_minor": 0
      },
      "text/plain": [
       "Validation: 0it [00:00, ?it/s]"
      ]
     },
     "metadata": {},
     "output_type": "display_data"
    },
    {
     "name": "stdout",
     "output_type": "stream",
     "text": [
      "[2024-10-10 22:37:37] \u001b[32mIntermediate result: 0.7269999980926514  (Index 3)\u001b[0m\n"
     ]
    },
    {
     "data": {
      "application/vnd.jupyter.widget-view+json": {
       "model_id": "",
       "version_major": 2,
       "version_minor": 0
      },
      "text/plain": [
       "Validation: 0it [00:00, ?it/s]"
      ]
     },
     "metadata": {},
     "output_type": "display_data"
    },
    {
     "name": "stdout",
     "output_type": "stream",
     "text": [
      "[2024-10-10 22:38:27] \u001b[32mIntermediate result: 0.7458000183105469  (Index 4)\u001b[0m\n"
     ]
    },
    {
     "data": {
      "application/vnd.jupyter.widget-view+json": {
       "model_id": "",
       "version_major": 2,
       "version_minor": 0
      },
      "text/plain": [
       "Validation: 0it [00:00, ?it/s]"
      ]
     },
     "metadata": {},
     "output_type": "display_data"
    },
    {
     "name": "stdout",
     "output_type": "stream",
     "text": [
      "[2024-10-10 22:39:17] \u001b[32mIntermediate result: 0.7657999992370605  (Index 5)\u001b[0m\n"
     ]
    },
    {
     "data": {
      "application/vnd.jupyter.widget-view+json": {
       "model_id": "",
       "version_major": 2,
       "version_minor": 0
      },
      "text/plain": [
       "Validation: 0it [00:00, ?it/s]"
      ]
     },
     "metadata": {},
     "output_type": "display_data"
    },
    {
     "name": "stdout",
     "output_type": "stream",
     "text": [
      "[2024-10-10 22:40:07] \u001b[32mIntermediate result: 0.7843000292778015  (Index 6)\u001b[0m\n"
     ]
    },
    {
     "data": {
      "application/vnd.jupyter.widget-view+json": {
       "model_id": "",
       "version_major": 2,
       "version_minor": 0
      },
      "text/plain": [
       "Validation: 0it [00:00, ?it/s]"
      ]
     },
     "metadata": {},
     "output_type": "display_data"
    },
    {
     "name": "stdout",
     "output_type": "stream",
     "text": [
      "[2024-10-10 22:40:57] \u001b[32mIntermediate result: 0.7943999767303467  (Index 7)\u001b[0m\n"
     ]
    },
    {
     "data": {
      "application/vnd.jupyter.widget-view+json": {
       "model_id": "",
       "version_major": 2,
       "version_minor": 0
      },
      "text/plain": [
       "Validation: 0it [00:00, ?it/s]"
      ]
     },
     "metadata": {},
     "output_type": "display_data"
    },
    {
     "name": "stdout",
     "output_type": "stream",
     "text": [
      "[2024-10-10 22:41:47] \u001b[32mIntermediate result: 0.788100004196167  (Index 8)\u001b[0m\n"
     ]
    },
    {
     "data": {
      "application/vnd.jupyter.widget-view+json": {
       "model_id": "",
       "version_major": 2,
       "version_minor": 0
      },
      "text/plain": [
       "Validation: 0it [00:00, ?it/s]"
      ]
     },
     "metadata": {},
     "output_type": "display_data"
    },
    {
     "name": "stdout",
     "output_type": "stream",
     "text": [
      "[2024-10-10 22:42:37] \u001b[32mIntermediate result: 0.7996000051498413  (Index 9)\u001b[0m\n"
     ]
    },
    {
     "data": {
      "application/vnd.jupyter.widget-view+json": {
       "model_id": "",
       "version_major": 2,
       "version_minor": 0
      },
      "text/plain": [
       "Validation: 0it [00:00, ?it/s]"
      ]
     },
     "metadata": {},
     "output_type": "display_data"
    },
    {
     "name": "stdout",
     "output_type": "stream",
     "text": [
      "[2024-10-10 22:43:27] \u001b[32mIntermediate result: 0.8029000163078308  (Index 10)\u001b[0m\n"
     ]
    },
    {
     "data": {
      "application/vnd.jupyter.widget-view+json": {
       "model_id": "",
       "version_major": 2,
       "version_minor": 0
      },
      "text/plain": [
       "Validation: 0it [00:00, ?it/s]"
      ]
     },
     "metadata": {},
     "output_type": "display_data"
    },
    {
     "name": "stdout",
     "output_type": "stream",
     "text": [
      "[2024-10-10 22:44:17] \u001b[32mIntermediate result: 0.8149999976158142  (Index 11)\u001b[0m\n"
     ]
    },
    {
     "data": {
      "application/vnd.jupyter.widget-view+json": {
       "model_id": "",
       "version_major": 2,
       "version_minor": 0
      },
      "text/plain": [
       "Validation: 0it [00:00, ?it/s]"
      ]
     },
     "metadata": {},
     "output_type": "display_data"
    },
    {
     "name": "stdout",
     "output_type": "stream",
     "text": [
      "[2024-10-10 22:45:06] \u001b[32mIntermediate result: 0.8151000142097473  (Index 12)\u001b[0m\n"
     ]
    },
    {
     "data": {
      "application/vnd.jupyter.widget-view+json": {
       "model_id": "",
       "version_major": 2,
       "version_minor": 0
      },
      "text/plain": [
       "Validation: 0it [00:00, ?it/s]"
      ]
     },
     "metadata": {},
     "output_type": "display_data"
    },
    {
     "name": "stdout",
     "output_type": "stream",
     "text": [
      "[2024-10-10 22:45:56] \u001b[32mIntermediate result: 0.8184000253677368  (Index 13)\u001b[0m\n"
     ]
    },
    {
     "data": {
      "application/vnd.jupyter.widget-view+json": {
       "model_id": "",
       "version_major": 2,
       "version_minor": 0
      },
      "text/plain": [
       "Validation: 0it [00:00, ?it/s]"
      ]
     },
     "metadata": {},
     "output_type": "display_data"
    },
    {
     "name": "stdout",
     "output_type": "stream",
     "text": [
      "[2024-10-10 22:46:46] \u001b[32mIntermediate result: 0.8072999715805054  (Index 14)\u001b[0m\n"
     ]
    },
    {
     "data": {
      "application/vnd.jupyter.widget-view+json": {
       "model_id": "",
       "version_major": 2,
       "version_minor": 0
      },
      "text/plain": [
       "Validation: 0it [00:00, ?it/s]"
      ]
     },
     "metadata": {},
     "output_type": "display_data"
    },
    {
     "name": "stdout",
     "output_type": "stream",
     "text": [
      "[2024-10-10 22:47:36] \u001b[32mIntermediate result: 0.8230000138282776  (Index 15)\u001b[0m\n"
     ]
    },
    {
     "data": {
      "application/vnd.jupyter.widget-view+json": {
       "model_id": "",
       "version_major": 2,
       "version_minor": 0
      },
      "text/plain": [
       "Validation: 0it [00:00, ?it/s]"
      ]
     },
     "metadata": {},
     "output_type": "display_data"
    },
    {
     "name": "stdout",
     "output_type": "stream",
     "text": [
      "[2024-10-10 22:48:26] \u001b[32mIntermediate result: 0.8375999927520752  (Index 16)\u001b[0m\n"
     ]
    },
    {
     "data": {
      "application/vnd.jupyter.widget-view+json": {
       "model_id": "",
       "version_major": 2,
       "version_minor": 0
      },
      "text/plain": [
       "Validation: 0it [00:00, ?it/s]"
      ]
     },
     "metadata": {},
     "output_type": "display_data"
    },
    {
     "name": "stdout",
     "output_type": "stream",
     "text": [
      "[2024-10-10 22:49:16] \u001b[32mIntermediate result: 0.8374999761581421  (Index 17)\u001b[0m\n"
     ]
    },
    {
     "data": {
      "application/vnd.jupyter.widget-view+json": {
       "model_id": "",
       "version_major": 2,
       "version_minor": 0
      },
      "text/plain": [
       "Validation: 0it [00:00, ?it/s]"
      ]
     },
     "metadata": {},
     "output_type": "display_data"
    },
    {
     "name": "stdout",
     "output_type": "stream",
     "text": [
      "[2024-10-10 22:50:05] \u001b[32mIntermediate result: 0.833899974822998  (Index 18)\u001b[0m\n"
     ]
    },
    {
     "data": {
      "application/vnd.jupyter.widget-view+json": {
       "model_id": "",
       "version_major": 2,
       "version_minor": 0
      },
      "text/plain": [
       "Validation: 0it [00:00, ?it/s]"
      ]
     },
     "metadata": {},
     "output_type": "display_data"
    },
    {
     "name": "stdout",
     "output_type": "stream",
     "text": [
      "[2024-10-10 22:50:55] \u001b[32mIntermediate result: 0.8320000171661377  (Index 19)\u001b[0m\n"
     ]
    },
    {
     "data": {
      "application/vnd.jupyter.widget-view+json": {
       "model_id": "",
       "version_major": 2,
       "version_minor": 0
      },
      "text/plain": [
       "Validation: 0it [00:00, ?it/s]"
      ]
     },
     "metadata": {},
     "output_type": "display_data"
    },
    {
     "name": "stdout",
     "output_type": "stream",
     "text": [
      "[2024-10-10 22:51:44] \u001b[32mIntermediate result: 0.8384000062942505  (Index 20)\u001b[0m\n"
     ]
    },
    {
     "data": {
      "application/vnd.jupyter.widget-view+json": {
       "model_id": "",
       "version_major": 2,
       "version_minor": 0
      },
      "text/plain": [
       "Validation: 0it [00:00, ?it/s]"
      ]
     },
     "metadata": {},
     "output_type": "display_data"
    },
    {
     "name": "stdout",
     "output_type": "stream",
     "text": [
      "[2024-10-10 22:52:34] \u001b[32mIntermediate result: 0.8414000272750854  (Index 21)\u001b[0m\n"
     ]
    },
    {
     "data": {
      "application/vnd.jupyter.widget-view+json": {
       "model_id": "",
       "version_major": 2,
       "version_minor": 0
      },
      "text/plain": [
       "Validation: 0it [00:00, ?it/s]"
      ]
     },
     "metadata": {},
     "output_type": "display_data"
    },
    {
     "name": "stdout",
     "output_type": "stream",
     "text": [
      "[2024-10-10 22:53:24] \u001b[32mIntermediate result: 0.8464000225067139  (Index 22)\u001b[0m\n"
     ]
    },
    {
     "data": {
      "application/vnd.jupyter.widget-view+json": {
       "model_id": "",
       "version_major": 2,
       "version_minor": 0
      },
      "text/plain": [
       "Validation: 0it [00:00, ?it/s]"
      ]
     },
     "metadata": {},
     "output_type": "display_data"
    },
    {
     "name": "stdout",
     "output_type": "stream",
     "text": [
      "[2024-10-10 22:54:13] \u001b[32mIntermediate result: 0.8458999991416931  (Index 23)\u001b[0m\n"
     ]
    },
    {
     "data": {
      "application/vnd.jupyter.widget-view+json": {
       "model_id": "",
       "version_major": 2,
       "version_minor": 0
      },
      "text/plain": [
       "Validation: 0it [00:00, ?it/s]"
      ]
     },
     "metadata": {},
     "output_type": "display_data"
    },
    {
     "name": "stdout",
     "output_type": "stream",
     "text": [
      "[2024-10-10 22:55:03] \u001b[32mIntermediate result: 0.8503999710083008  (Index 24)\u001b[0m\n"
     ]
    },
    {
     "data": {
      "application/vnd.jupyter.widget-view+json": {
       "model_id": "",
       "version_major": 2,
       "version_minor": 0
      },
      "text/plain": [
       "Validation: 0it [00:00, ?it/s]"
      ]
     },
     "metadata": {},
     "output_type": "display_data"
    },
    {
     "name": "stdout",
     "output_type": "stream",
     "text": [
      "[2024-10-10 22:55:52] \u001b[32mIntermediate result: 0.8400999903678894  (Index 25)\u001b[0m\n"
     ]
    },
    {
     "data": {
      "application/vnd.jupyter.widget-view+json": {
       "model_id": "",
       "version_major": 2,
       "version_minor": 0
      },
      "text/plain": [
       "Validation: 0it [00:00, ?it/s]"
      ]
     },
     "metadata": {},
     "output_type": "display_data"
    },
    {
     "name": "stdout",
     "output_type": "stream",
     "text": [
      "[2024-10-10 22:56:43] \u001b[32mIntermediate result: 0.8497999906539917  (Index 26)\u001b[0m\n"
     ]
    },
    {
     "data": {
      "application/vnd.jupyter.widget-view+json": {
       "model_id": "",
       "version_major": 2,
       "version_minor": 0
      },
      "text/plain": [
       "Validation: 0it [00:00, ?it/s]"
      ]
     },
     "metadata": {},
     "output_type": "display_data"
    },
    {
     "name": "stdout",
     "output_type": "stream",
     "text": [
      "[2024-10-10 22:57:32] \u001b[32mIntermediate result: 0.8439000248908997  (Index 27)\u001b[0m\n"
     ]
    },
    {
     "data": {
      "application/vnd.jupyter.widget-view+json": {
       "model_id": "",
       "version_major": 2,
       "version_minor": 0
      },
      "text/plain": [
       "Validation: 0it [00:00, ?it/s]"
      ]
     },
     "metadata": {},
     "output_type": "display_data"
    },
    {
     "name": "stdout",
     "output_type": "stream",
     "text": [
      "[2024-10-10 22:58:22] \u001b[32mIntermediate result: 0.8389000296592712  (Index 28)\u001b[0m\n"
     ]
    },
    {
     "data": {
      "application/vnd.jupyter.widget-view+json": {
       "model_id": "",
       "version_major": 2,
       "version_minor": 0
      },
      "text/plain": [
       "Validation: 0it [00:00, ?it/s]"
      ]
     },
     "metadata": {},
     "output_type": "display_data"
    },
    {
     "name": "stdout",
     "output_type": "stream",
     "text": [
      "[2024-10-10 22:59:12] \u001b[32mIntermediate result: 0.8560000061988831  (Index 29)\u001b[0m\n"
     ]
    },
    {
     "data": {
      "application/vnd.jupyter.widget-view+json": {
       "model_id": "",
       "version_major": 2,
       "version_minor": 0
      },
      "text/plain": [
       "Validation: 0it [00:00, ?it/s]"
      ]
     },
     "metadata": {},
     "output_type": "display_data"
    },
    {
     "name": "stdout",
     "output_type": "stream",
     "text": [
      "[2024-10-10 23:00:02] \u001b[32mIntermediate result: 0.8438000082969666  (Index 30)\u001b[0m\n"
     ]
    },
    {
     "data": {
      "application/vnd.jupyter.widget-view+json": {
       "model_id": "",
       "version_major": 2,
       "version_minor": 0
      },
      "text/plain": [
       "Validation: 0it [00:00, ?it/s]"
      ]
     },
     "metadata": {},
     "output_type": "display_data"
    },
    {
     "name": "stdout",
     "output_type": "stream",
     "text": [
      "[2024-10-10 23:00:51] \u001b[32mIntermediate result: 0.8575999736785889  (Index 31)\u001b[0m\n"
     ]
    },
    {
     "data": {
      "application/vnd.jupyter.widget-view+json": {
       "model_id": "",
       "version_major": 2,
       "version_minor": 0
      },
      "text/plain": [
       "Validation: 0it [00:00, ?it/s]"
      ]
     },
     "metadata": {},
     "output_type": "display_data"
    },
    {
     "name": "stdout",
     "output_type": "stream",
     "text": [
      "[2024-10-10 23:01:41] \u001b[32mIntermediate result: 0.854200005531311  (Index 32)\u001b[0m\n"
     ]
    },
    {
     "data": {
      "application/vnd.jupyter.widget-view+json": {
       "model_id": "",
       "version_major": 2,
       "version_minor": 0
      },
      "text/plain": [
       "Validation: 0it [00:00, ?it/s]"
      ]
     },
     "metadata": {},
     "output_type": "display_data"
    },
    {
     "name": "stdout",
     "output_type": "stream",
     "text": [
      "[2024-10-10 23:02:31] \u001b[32mIntermediate result: 0.8553000092506409  (Index 33)\u001b[0m\n"
     ]
    },
    {
     "data": {
      "application/vnd.jupyter.widget-view+json": {
       "model_id": "",
       "version_major": 2,
       "version_minor": 0
      },
      "text/plain": [
       "Validation: 0it [00:00, ?it/s]"
      ]
     },
     "metadata": {},
     "output_type": "display_data"
    },
    {
     "name": "stdout",
     "output_type": "stream",
     "text": [
      "[2024-10-10 23:03:20] \u001b[32mIntermediate result: 0.8529999852180481  (Index 34)\u001b[0m\n"
     ]
    },
    {
     "data": {
      "application/vnd.jupyter.widget-view+json": {
       "model_id": "",
       "version_major": 2,
       "version_minor": 0
      },
      "text/plain": [
       "Validation: 0it [00:00, ?it/s]"
      ]
     },
     "metadata": {},
     "output_type": "display_data"
    },
    {
     "name": "stdout",
     "output_type": "stream",
     "text": [
      "[2024-10-10 23:04:10] \u001b[32mIntermediate result: 0.8561999797821045  (Index 35)\u001b[0m\n"
     ]
    },
    {
     "data": {
      "application/vnd.jupyter.widget-view+json": {
       "model_id": "",
       "version_major": 2,
       "version_minor": 0
      },
      "text/plain": [
       "Validation: 0it [00:00, ?it/s]"
      ]
     },
     "metadata": {},
     "output_type": "display_data"
    },
    {
     "name": "stdout",
     "output_type": "stream",
     "text": [
      "[2024-10-10 23:05:00] \u001b[32mIntermediate result: 0.8479999899864197  (Index 36)\u001b[0m\n"
     ]
    },
    {
     "data": {
      "application/vnd.jupyter.widget-view+json": {
       "model_id": "",
       "version_major": 2,
       "version_minor": 0
      },
      "text/plain": [
       "Validation: 0it [00:00, ?it/s]"
      ]
     },
     "metadata": {},
     "output_type": "display_data"
    },
    {
     "name": "stdout",
     "output_type": "stream",
     "text": [
      "[2024-10-10 23:05:49] \u001b[32mIntermediate result: 0.8468999862670898  (Index 37)\u001b[0m\n"
     ]
    },
    {
     "data": {
      "application/vnd.jupyter.widget-view+json": {
       "model_id": "",
       "version_major": 2,
       "version_minor": 0
      },
      "text/plain": [
       "Validation: 0it [00:00, ?it/s]"
      ]
     },
     "metadata": {},
     "output_type": "display_data"
    },
    {
     "name": "stdout",
     "output_type": "stream",
     "text": [
      "[2024-10-10 23:06:39] \u001b[32mIntermediate result: 0.8572999835014343  (Index 38)\u001b[0m\n"
     ]
    },
    {
     "data": {
      "application/vnd.jupyter.widget-view+json": {
       "model_id": "",
       "version_major": 2,
       "version_minor": 0
      },
      "text/plain": [
       "Validation: 0it [00:00, ?it/s]"
      ]
     },
     "metadata": {},
     "output_type": "display_data"
    },
    {
     "name": "stdout",
     "output_type": "stream",
     "text": [
      "[2024-10-10 23:07:28] \u001b[32mIntermediate result: 0.8540999889373779  (Index 39)\u001b[0m\n"
     ]
    },
    {
     "data": {
      "application/vnd.jupyter.widget-view+json": {
       "model_id": "",
       "version_major": 2,
       "version_minor": 0
      },
      "text/plain": [
       "Validation: 0it [00:00, ?it/s]"
      ]
     },
     "metadata": {},
     "output_type": "display_data"
    },
    {
     "name": "stdout",
     "output_type": "stream",
     "text": [
      "[2024-10-10 23:08:18] \u001b[32mIntermediate result: 0.8553000092506409  (Index 40)\u001b[0m\n"
     ]
    },
    {
     "data": {
      "application/vnd.jupyter.widget-view+json": {
       "model_id": "",
       "version_major": 2,
       "version_minor": 0
      },
      "text/plain": [
       "Validation: 0it [00:00, ?it/s]"
      ]
     },
     "metadata": {},
     "output_type": "display_data"
    },
    {
     "name": "stdout",
     "output_type": "stream",
     "text": [
      "[2024-10-10 23:09:07] \u001b[32mIntermediate result: 0.8644000291824341  (Index 41)\u001b[0m\n"
     ]
    },
    {
     "data": {
      "application/vnd.jupyter.widget-view+json": {
       "model_id": "",
       "version_major": 2,
       "version_minor": 0
      },
      "text/plain": [
       "Validation: 0it [00:00, ?it/s]"
      ]
     },
     "metadata": {},
     "output_type": "display_data"
    },
    {
     "name": "stdout",
     "output_type": "stream",
     "text": [
      "[2024-10-10 23:09:57] \u001b[32mIntermediate result: 0.8615999817848206  (Index 42)\u001b[0m\n"
     ]
    },
    {
     "data": {
      "application/vnd.jupyter.widget-view+json": {
       "model_id": "",
       "version_major": 2,
       "version_minor": 0
      },
      "text/plain": [
       "Validation: 0it [00:00, ?it/s]"
      ]
     },
     "metadata": {},
     "output_type": "display_data"
    },
    {
     "name": "stdout",
     "output_type": "stream",
     "text": [
      "[2024-10-10 23:10:47] \u001b[32mIntermediate result: 0.8682000041007996  (Index 43)\u001b[0m\n"
     ]
    },
    {
     "data": {
      "application/vnd.jupyter.widget-view+json": {
       "model_id": "",
       "version_major": 2,
       "version_minor": 0
      },
      "text/plain": [
       "Validation: 0it [00:00, ?it/s]"
      ]
     },
     "metadata": {},
     "output_type": "display_data"
    },
    {
     "name": "stdout",
     "output_type": "stream",
     "text": [
      "[2024-10-10 23:11:36] \u001b[32mIntermediate result: 0.8618000149726868  (Index 44)\u001b[0m\n"
     ]
    },
    {
     "data": {
      "application/vnd.jupyter.widget-view+json": {
       "model_id": "",
       "version_major": 2,
       "version_minor": 0
      },
      "text/plain": [
       "Validation: 0it [00:00, ?it/s]"
      ]
     },
     "metadata": {},
     "output_type": "display_data"
    },
    {
     "name": "stdout",
     "output_type": "stream",
     "text": [
      "[2024-10-10 23:12:26] \u001b[32mIntermediate result: 0.8618000149726868  (Index 45)\u001b[0m\n"
     ]
    },
    {
     "data": {
      "application/vnd.jupyter.widget-view+json": {
       "model_id": "",
       "version_major": 2,
       "version_minor": 0
      },
      "text/plain": [
       "Validation: 0it [00:00, ?it/s]"
      ]
     },
     "metadata": {},
     "output_type": "display_data"
    },
    {
     "name": "stdout",
     "output_type": "stream",
     "text": [
      "[2024-10-10 23:13:16] \u001b[32mIntermediate result: 0.862500011920929  (Index 46)\u001b[0m\n"
     ]
    },
    {
     "data": {
      "application/vnd.jupyter.widget-view+json": {
       "model_id": "",
       "version_major": 2,
       "version_minor": 0
      },
      "text/plain": [
       "Validation: 0it [00:00, ?it/s]"
      ]
     },
     "metadata": {},
     "output_type": "display_data"
    },
    {
     "name": "stdout",
     "output_type": "stream",
     "text": [
      "[2024-10-10 23:14:06] \u001b[32mIntermediate result: 0.8640000224113464  (Index 47)\u001b[0m\n"
     ]
    },
    {
     "data": {
      "application/vnd.jupyter.widget-view+json": {
       "model_id": "",
       "version_major": 2,
       "version_minor": 0
      },
      "text/plain": [
       "Validation: 0it [00:00, ?it/s]"
      ]
     },
     "metadata": {},
     "output_type": "display_data"
    },
    {
     "name": "stdout",
     "output_type": "stream",
     "text": [
      "[2024-10-10 23:14:56] \u001b[32mIntermediate result: 0.8629999756813049  (Index 48)\u001b[0m\n"
     ]
    },
    {
     "data": {
      "application/vnd.jupyter.widget-view+json": {
       "model_id": "",
       "version_major": 2,
       "version_minor": 0
      },
      "text/plain": [
       "Validation: 0it [00:00, ?it/s]"
      ]
     },
     "metadata": {},
     "output_type": "display_data"
    },
    {
     "name": "stdout",
     "output_type": "stream",
     "text": [
      "[2024-10-10 23:15:45] \u001b[32mIntermediate result: 0.8543999791145325  (Index 49)\u001b[0m\n"
     ]
    },
    {
     "data": {
      "application/vnd.jupyter.widget-view+json": {
       "model_id": "",
       "version_major": 2,
       "version_minor": 0
      },
      "text/plain": [
       "Validation: 0it [00:00, ?it/s]"
      ]
     },
     "metadata": {},
     "output_type": "display_data"
    },
    {
     "name": "stdout",
     "output_type": "stream",
     "text": [
      "[2024-10-10 23:16:35] \u001b[32mIntermediate result: 0.8669999837875366  (Index 50)\u001b[0m\n"
     ]
    },
    {
     "data": {
      "application/vnd.jupyter.widget-view+json": {
       "model_id": "",
       "version_major": 2,
       "version_minor": 0
      },
      "text/plain": [
       "Validation: 0it [00:00, ?it/s]"
      ]
     },
     "metadata": {},
     "output_type": "display_data"
    },
    {
     "name": "stdout",
     "output_type": "stream",
     "text": [
      "[2024-10-10 23:17:24] \u001b[32mIntermediate result: 0.8632000088691711  (Index 51)\u001b[0m\n"
     ]
    },
    {
     "data": {
      "application/vnd.jupyter.widget-view+json": {
       "model_id": "",
       "version_major": 2,
       "version_minor": 0
      },
      "text/plain": [
       "Validation: 0it [00:00, ?it/s]"
      ]
     },
     "metadata": {},
     "output_type": "display_data"
    },
    {
     "name": "stdout",
     "output_type": "stream",
     "text": [
      "[2024-10-10 23:18:14] \u001b[32mIntermediate result: 0.866100013256073  (Index 52)\u001b[0m\n"
     ]
    },
    {
     "data": {
      "application/vnd.jupyter.widget-view+json": {
       "model_id": "",
       "version_major": 2,
       "version_minor": 0
      },
      "text/plain": [
       "Validation: 0it [00:00, ?it/s]"
      ]
     },
     "metadata": {},
     "output_type": "display_data"
    },
    {
     "name": "stdout",
     "output_type": "stream",
     "text": [
      "[2024-10-10 23:19:03] \u001b[32mIntermediate result: 0.8705000281333923  (Index 53)\u001b[0m\n"
     ]
    },
    {
     "data": {
      "application/vnd.jupyter.widget-view+json": {
       "model_id": "",
       "version_major": 2,
       "version_minor": 0
      },
      "text/plain": [
       "Validation: 0it [00:00, ?it/s]"
      ]
     },
     "metadata": {},
     "output_type": "display_data"
    },
    {
     "name": "stdout",
     "output_type": "stream",
     "text": [
      "[2024-10-10 23:19:53] \u001b[32mIntermediate result: 0.8669999837875366  (Index 54)\u001b[0m\n"
     ]
    },
    {
     "data": {
      "application/vnd.jupyter.widget-view+json": {
       "model_id": "",
       "version_major": 2,
       "version_minor": 0
      },
      "text/plain": [
       "Validation: 0it [00:00, ?it/s]"
      ]
     },
     "metadata": {},
     "output_type": "display_data"
    },
    {
     "name": "stdout",
     "output_type": "stream",
     "text": [
      "[2024-10-10 23:20:45] \u001b[32mIntermediate result: 0.8647000193595886  (Index 55)\u001b[0m\n"
     ]
    },
    {
     "data": {
      "application/vnd.jupyter.widget-view+json": {
       "model_id": "",
       "version_major": 2,
       "version_minor": 0
      },
      "text/plain": [
       "Validation: 0it [00:00, ?it/s]"
      ]
     },
     "metadata": {},
     "output_type": "display_data"
    },
    {
     "name": "stdout",
     "output_type": "stream",
     "text": [
      "[2024-10-10 23:21:36] \u001b[32mIntermediate result: 0.867900013923645  (Index 56)\u001b[0m\n",
      "[2024-10-10 23:21:48] \u001b[33mWARNING: Trainer status is detected to be interrupted.\u001b[0m\n"
     ]
    },
    {
     "name": "stderr",
     "output_type": "stream",
     "text": [
      "/home/alexandr/miniconda3/envs/ml/lib/python3.9/site-packages/pytorch_lightning/trainer/call.py:54: UserWarning: Detected KeyboardInterrupt, attempting graceful shutdown...\n",
      "  rank_zero_warn(\"Detected KeyboardInterrupt, attempting graceful shutdown...\")\n"
     ]
    },
    {
     "ename": "KeyboardInterrupt",
     "evalue": "Trainer status is detected to be interrupted.",
     "output_type": "error",
     "traceback": [
      "\u001b[0;31m---------------------------------------------------------------------------\u001b[0m",
      "\u001b[0;31mKeyboardInterrupt\u001b[0m                         Traceback (most recent call last)",
      "Cell \u001b[0;32mIn[19], line 15\u001b[0m\n\u001b[1;32m      1\u001b[0m max_epochs \u001b[38;5;241m=\u001b[39m \u001b[38;5;241m100\u001b[39m\n\u001b[1;32m      3\u001b[0m evaluator \u001b[38;5;241m=\u001b[39m Classification(\n\u001b[1;32m      4\u001b[0m     learning_rate\u001b[38;5;241m=\u001b[39m\u001b[38;5;241m1e-3\u001b[39m,\n\u001b[1;32m      5\u001b[0m     weight_decay\u001b[38;5;241m=\u001b[39m\u001b[38;5;241m1e-4\u001b[39m,\n\u001b[0;32m   (...)\u001b[0m\n\u001b[1;32m     12\u001b[0m     num_classes \u001b[38;5;241m=\u001b[39m \u001b[38;5;241m10\u001b[39m\n\u001b[1;32m     13\u001b[0m )\n\u001b[0;32m---> 15\u001b[0m \u001b[43mevaluator\u001b[49m\u001b[38;5;241;43m.\u001b[39;49m\u001b[43mfit\u001b[49m\u001b[43m(\u001b[49m\u001b[43mfinal_model\u001b[49m\u001b[43m)\u001b[49m\n",
      "File \u001b[0;32m~/miniconda3/envs/ml/lib/python3.9/site-packages/nni/nas/evaluator/pytorch/lightning.py:204\u001b[0m, in \u001b[0;36mLightning.fit\u001b[0;34m(self, model)\u001b[0m\n\u001b[1;32m    202\u001b[0m \u001b[38;5;28;01mdef\u001b[39;00m \u001b[38;5;21mfit\u001b[39m(\u001b[38;5;28mself\u001b[39m, model):\n\u001b[1;32m    203\u001b[0m     warnings\u001b[38;5;241m.\u001b[39mwarn(\u001b[38;5;124m'\u001b[39m\u001b[38;5;124m`fit` is deprecated, please use `evaluate`.\u001b[39m\u001b[38;5;124m'\u001b[39m, \u001b[38;5;167;01mDeprecationWarning\u001b[39;00m)\n\u001b[0;32m--> 204\u001b[0m     \u001b[38;5;28;01mreturn\u001b[39;00m \u001b[38;5;28;43mself\u001b[39;49m\u001b[38;5;241;43m.\u001b[39;49m\u001b[43mevaluate\u001b[49m\u001b[43m(\u001b[49m\u001b[43mmodel\u001b[49m\u001b[43m)\u001b[49m\n",
      "File \u001b[0;32m~/miniconda3/envs/ml/lib/python3.9/site-packages/nni/nas/evaluator/pytorch/lightning.py:183\u001b[0m, in \u001b[0;36mLightning.evaluate\u001b[0;34m(self, model)\u001b[0m\n\u001b[1;32m    181\u001b[0m     \u001b[38;5;28;01mif\u001b[39;00m \u001b[38;5;28mself\u001b[39m\u001b[38;5;241m.\u001b[39mtrainer\u001b[38;5;241m.\u001b[39mstate\u001b[38;5;241m.\u001b[39mstatus \u001b[38;5;241m==\u001b[39m TrainerStatus\u001b[38;5;241m.\u001b[39mINTERRUPTED:\n\u001b[1;32m    182\u001b[0m         _logger\u001b[38;5;241m.\u001b[39mwarning(\u001b[38;5;124m'\u001b[39m\u001b[38;5;124mTrainer status is detected to be interrupted.\u001b[39m\u001b[38;5;124m'\u001b[39m)\n\u001b[0;32m--> 183\u001b[0m         \u001b[38;5;28;01mraise\u001b[39;00m \u001b[38;5;167;01mKeyboardInterrupt\u001b[39;00m(\u001b[38;5;124m'\u001b[39m\u001b[38;5;124mTrainer status is detected to be interrupted.\u001b[39m\u001b[38;5;124m'\u001b[39m)\n\u001b[1;32m    185\u001b[0m \u001b[38;5;28;01mreturn\u001b[39;00m rv\n",
      "\u001b[0;31mKeyboardInterrupt\u001b[0m: Trainer status is detected to be interrupted."
     ]
    }
   ],
   "source": [
    "max_epochs = 100\n",
    "\n",
    "evaluator = Classification(\n",
    "    learning_rate=1e-3,\n",
    "    weight_decay=1e-4,\n",
    "    train_dataloaders=train_loader,\n",
    "    val_dataloaders=valid_loader,\n",
    "    max_epochs=max_epochs,\n",
    "    accelerator='auto',\n",
    "    export_onnx=False,          # Disable ONNX export for this experiment\n",
    "    fast_dev_run=fast_dev_run,   # Should be false for fully training\n",
    "    num_classes = 10\n",
    ")\n",
    "\n",
    "evaluator.fit(final_model)"
   ]
  },
  {
   "cell_type": "markdown",
   "id": "78ecbb24",
   "metadata": {},
   "source": [
    "# QLoRA"
   ]
  },
  {
   "cell_type": "code",
   "execution_count": 1,
   "id": "afcebaa0",
   "metadata": {},
   "outputs": [],
   "source": [
    "# !pip install torchao -q\n",
    "# !pip install torchtune -q"
   ]
  },
  {
   "cell_type": "code",
   "execution_count": 2,
   "id": "78bf7ef5",
   "metadata": {},
   "outputs": [
    {
     "name": "stderr",
     "output_type": "stream",
     "text": [
      "/home/alexandr/miniconda3/envs/ml/lib/python3.9/site-packages/transformers/utils/generic.py:441: UserWarning: torch.utils._pytree._register_pytree_node is deprecated. Please use torch.utils._pytree.register_pytree_node instead.\n",
      "  _torch_pytree._register_pytree_node(\n"
     ]
    }
   ],
   "source": [
    "\n",
    "import gc\n",
    "\n",
    "import torch\n",
    "from torchtune.modules.peft import LoRALinear"
   ]
  },
  {
   "cell_type": "code",
   "execution_count": 4,
   "id": "5521296e",
   "metadata": {},
   "outputs": [],
   "source": [
    "def print_cuda_memory_allocated():\n",
    "    memory = torch.cuda.memory_allocated()\n",
    "    print(f\"Memory allocated {memory} bytes / {memory / 1024 / 1024:0.3f} MB\")\n",
    "    print()\n",
    "\n",
    "def empty_cuda_cache():\n",
    "    torch.cuda.empty_cache()\n",
    "    gc.collect()\n"
   ]
  },
  {
   "cell_type": "code",
   "execution_count": 5,
   "id": "95197af7",
   "metadata": {},
   "outputs": [],
   "source": [
    "torch.set_default_device(\"cuda\")"
   ]
  },
  {
   "cell_type": "markdown",
   "id": "30bfb05d",
   "metadata": {},
   "source": [
    "## Использование QLoRA для сохранения памяти\n"
   ]
  },
  {
   "cell_type": "markdown",
   "id": "d7d56cfa",
   "metadata": {},
   "source": [
    "В этом разделе мы рассмотрим, как применить QLoRA из torchtune. Для более подробного ознакомления с QLoRA в `torchtune` и базовыми абстракциями, пожалуйста, ознакомьтесь с разделом [QLoRA в torchtune deepdive](https://pytorch.org/torchtune/stable/tutorials/qlora_finetune.html#qlora-deepdive-label).\n",
    "\n",
    "Основной идеей QLoRA является различие между вычислительными типами данных и типами данных для хранения (dtypes). В частности, QLoRA сохраняет параметры базовой модели с точностью до 4 бит (т.е. dtype хранилища) и выполняет вычисления с исходной более высокой точностью (dtype вычисления), обычно либо fp32, либо bf16. В качестве первого шага QLoRA необходимо квантовать эти параметры базовой модели с точностью до 4 бит и сохранить их.\n",
    "\n",
    "Вот пример создания квантованного лоралинейного слоя в сравнении с неквантованным лоралинейным слоем. Как мы можем видеть, квантованный слой потребляет в 8 раз меньше памяти, чем его неквантованный аналог."
   ]
  },
  {
   "cell_type": "code",
   "execution_count": 6,
   "id": "db1f7e84",
   "metadata": {},
   "outputs": [
    {
     "name": "stdout",
     "output_type": "stream",
     "text": [
      "Memory allocated 169472 bytes / 0.162 MB\n",
      "\n",
      "<class 'torchao.dtypes.nf4tensor.NF4Tensor'>\n"
     ]
    }
   ],
   "source": [
    "qlora_linear = LoRALinear(512, 512, rank=8, alpha=0.1, quantize_base=True)\n",
    "print_cuda_memory_allocated()\n",
    "\n",
    "for p in qlora_linear.parameters():\n",
    "    print(type(p.data))\n",
    "    break"
   ]
  },
  {
   "cell_type": "code",
   "execution_count": 7,
   "id": "f6672b72",
   "metadata": {},
   "outputs": [],
   "source": [
    "del qlora_linear\n",
    "empty_cuda_cache()"
   ]
  },
  {
   "cell_type": "code",
   "execution_count": 8,
   "id": "96d82ba0",
   "metadata": {},
   "outputs": [
    {
     "name": "stdout",
     "output_type": "stream",
     "text": [
      "Memory allocated 1218048 bytes / 1.162 MB\n",
      "\n",
      "<class 'torch.Tensor'>\n"
     ]
    }
   ],
   "source": [
    "lora_linear = LoRALinear(512, 512, rank=8, alpha=0.1, quantize_base=False)\n",
    "print_cuda_memory_allocated()\n",
    "\n",
    "for p in lora_linear.parameters():\n",
    "    print(type(p.data))\n",
    "    break"
   ]
  },
  {
   "cell_type": "code",
   "execution_count": 9,
   "id": "5d85bee6",
   "metadata": {},
   "outputs": [],
   "source": [
    "del lora_linear\n",
    "empty_cuda_cache()"
   ]
  },
  {
   "cell_type": "markdown",
   "id": "75ccbf31",
   "metadata": {},
   "source": [
    "## Применение QLoRA"
   ]
  },
  {
   "cell_type": "markdown",
   "id": "ca49865e",
   "metadata": {},
   "source": [
    "Теперь мы рассмотрим, как вы можете инициализировать модель Llama2-7b с поддержкой QLoRA, а также некоторые детали, связанные с установкой чекпоинтинтов с помощью QLoRA.\n",
    "\n",
    "С помощью `torchtune` вы можете использовать простой конструктор, аналогичный конструктору LoRa (lora_llama_2_7b), чтобы применить QLoRA к моделям Llama2. Вот простой пример инициализации модели Llama2-7b с QLoRA:"
   ]
  },
  {
   "cell_type": "code",
   "execution_count": 10,
   "id": "73ef16d4",
   "metadata": {},
   "outputs": [],
   "source": [
    "from torchtune.models.llama2 import qlora_llama2_7b"
   ]
  },
  {
   "cell_type": "code",
   "execution_count": 11,
   "id": "d5a8143f",
   "metadata": {},
   "outputs": [
    {
     "name": "stdout",
     "output_type": "stream",
     "text": [
      "Memory allocated 4488200192 bytes / 4280.281 MB\n",
      "\n"
     ]
    }
   ],
   "source": [
    "qlora_model = qlora_llama2_7b(lora_attn_modules=[\"q_proj\"])\n",
    "print_cuda_memory_allocated()"
   ]
  },
  {
   "cell_type": "code",
   "execution_count": 12,
   "id": "740f48d8",
   "metadata": {},
   "outputs": [],
   "source": [
    "del qlora_model\n",
    "empty_cuda_cache()"
   ]
  },
  {
   "cell_type": "markdown",
   "id": "e4bd9669",
   "metadata": {},
   "source": [
    "Возникает вопрос, как сильно отличается память в случае QLoRA и LoRA для не большой LLM как llama2 с 7B параметрами."
   ]
  },
  {
   "cell_type": "code",
   "execution_count": 13,
   "id": "1634cdf6",
   "metadata": {},
   "outputs": [],
   "source": [
    "from torchtune.models.llama2 import lora_llama2_7b"
   ]
  },
  {
   "cell_type": "code",
   "execution_count": 14,
   "id": "a883ee9b",
   "metadata": {},
   "outputs": [
    {
     "ename": "OutOfMemoryError",
     "evalue": "CUDA out of memory. Tried to allocate 64.00 MiB. GPU ",
     "output_type": "error",
     "traceback": [
      "\u001b[0;31m---------------------------------------------------------------------------\u001b[0m",
      "\u001b[0;31mOutOfMemoryError\u001b[0m                          Traceback (most recent call last)",
      "Cell \u001b[0;32mIn[14], line 1\u001b[0m\n\u001b[0;32m----> 1\u001b[0m lora_model \u001b[38;5;241m=\u001b[39m \u001b[43mlora_llama2_7b\u001b[49m\u001b[43m(\u001b[49m\u001b[43mlora_attn_modules\u001b[49m\u001b[38;5;241;43m=\u001b[39;49m\u001b[43m[\u001b[49m\u001b[38;5;124;43m\"\u001b[39;49m\u001b[38;5;124;43mq_proj\u001b[39;49m\u001b[38;5;124;43m\"\u001b[39;49m\u001b[43m]\u001b[49m\u001b[43m,\u001b[49m\u001b[43m \u001b[49m\u001b[43mlora_rank\u001b[49m\u001b[38;5;241;43m=\u001b[39;49m\u001b[38;5;241;43m2\u001b[39;49m\u001b[43m)\u001b[49m\n\u001b[1;32m      2\u001b[0m print_cuda_memory_allocated()\n",
      "File \u001b[0;32m~/miniconda3/envs/ml/lib/python3.9/site-packages/torchtune/models/llama2/_model_builders.py:99\u001b[0m, in \u001b[0;36mlora_llama2_7b\u001b[0;34m(lora_attn_modules, apply_lora_to_mlp, apply_lora_to_output, lora_rank, lora_alpha, lora_dropout, use_dora, quantize_base)\u001b[0m\n\u001b[1;32m     64\u001b[0m \u001b[38;5;28;01mdef\u001b[39;00m \u001b[38;5;21mlora_llama2_7b\u001b[39m(\n\u001b[1;32m     65\u001b[0m     lora_attn_modules: List[LORA_ATTN_MODULES],\n\u001b[1;32m     66\u001b[0m     apply_lora_to_mlp: \u001b[38;5;28mbool\u001b[39m \u001b[38;5;241m=\u001b[39m \u001b[38;5;28;01mFalse\u001b[39;00m,\n\u001b[0;32m   (...)\u001b[0m\n\u001b[1;32m     72\u001b[0m     quantize_base: \u001b[38;5;28mbool\u001b[39m \u001b[38;5;241m=\u001b[39m \u001b[38;5;28;01mFalse\u001b[39;00m,\n\u001b[1;32m     73\u001b[0m ) \u001b[38;5;241m-\u001b[39m\u001b[38;5;241m>\u001b[39m TransformerDecoder:\n\u001b[1;32m     74\u001b[0m \u001b[38;5;250m    \u001b[39m\u001b[38;5;124;03m\"\"\"\u001b[39;00m\n\u001b[1;32m     75\u001b[0m \u001b[38;5;124;03m    Builder for creating a Llama2 7B model with LoRA enabled.\u001b[39;00m\n\u001b[1;32m     76\u001b[0m \n\u001b[0;32m   (...)\u001b[0m\n\u001b[1;32m     97\u001b[0m \u001b[38;5;124;03m        TransformerDecoder: Instantiation of Llama2 7B model with LoRA applied\u001b[39;00m\n\u001b[1;32m     98\u001b[0m \u001b[38;5;124;03m    \"\"\"\u001b[39;00m\n\u001b[0;32m---> 99\u001b[0m     \u001b[38;5;28;01mreturn\u001b[39;00m \u001b[43mlora_llama2\u001b[49m\u001b[43m(\u001b[49m\n\u001b[1;32m    100\u001b[0m \u001b[43m        \u001b[49m\u001b[43mlora_attn_modules\u001b[49m\u001b[38;5;241;43m=\u001b[39;49m\u001b[43mlora_attn_modules\u001b[49m\u001b[43m,\u001b[49m\n\u001b[1;32m    101\u001b[0m \u001b[43m        \u001b[49m\u001b[43mapply_lora_to_mlp\u001b[49m\u001b[38;5;241;43m=\u001b[39;49m\u001b[43mapply_lora_to_mlp\u001b[49m\u001b[43m,\u001b[49m\n\u001b[1;32m    102\u001b[0m \u001b[43m        \u001b[49m\u001b[43mapply_lora_to_output\u001b[49m\u001b[38;5;241;43m=\u001b[39;49m\u001b[43mapply_lora_to_output\u001b[49m\u001b[43m,\u001b[49m\n\u001b[1;32m    103\u001b[0m \u001b[43m        \u001b[49m\u001b[43mvocab_size\u001b[49m\u001b[38;5;241;43m=\u001b[39;49m\u001b[38;5;241;43m32_000\u001b[39;49m\u001b[43m,\u001b[49m\n\u001b[1;32m    104\u001b[0m \u001b[43m        \u001b[49m\u001b[43mnum_layers\u001b[49m\u001b[38;5;241;43m=\u001b[39;49m\u001b[38;5;241;43m32\u001b[39;49m\u001b[43m,\u001b[49m\n\u001b[1;32m    105\u001b[0m \u001b[43m        \u001b[49m\u001b[43mnum_heads\u001b[49m\u001b[38;5;241;43m=\u001b[39;49m\u001b[38;5;241;43m32\u001b[39;49m\u001b[43m,\u001b[49m\n\u001b[1;32m    106\u001b[0m \u001b[43m        \u001b[49m\u001b[43mnum_kv_heads\u001b[49m\u001b[38;5;241;43m=\u001b[39;49m\u001b[38;5;241;43m32\u001b[39;49m\u001b[43m,\u001b[49m\n\u001b[1;32m    107\u001b[0m \u001b[43m        \u001b[49m\u001b[43membed_dim\u001b[49m\u001b[38;5;241;43m=\u001b[39;49m\u001b[38;5;241;43m4096\u001b[39;49m\u001b[43m,\u001b[49m\n\u001b[1;32m    108\u001b[0m \u001b[43m        \u001b[49m\u001b[43mmax_seq_len\u001b[49m\u001b[38;5;241;43m=\u001b[39;49m\u001b[38;5;241;43m4096\u001b[39;49m\u001b[43m,\u001b[49m\n\u001b[1;32m    109\u001b[0m \u001b[43m        \u001b[49m\u001b[43mattn_dropout\u001b[49m\u001b[38;5;241;43m=\u001b[39;49m\u001b[38;5;241;43m0.0\u001b[39;49m\u001b[43m,\u001b[49m\n\u001b[1;32m    110\u001b[0m \u001b[43m        \u001b[49m\u001b[43mnorm_eps\u001b[49m\u001b[38;5;241;43m=\u001b[39;49m\u001b[38;5;241;43m1e-5\u001b[39;49m\u001b[43m,\u001b[49m\n\u001b[1;32m    111\u001b[0m \u001b[43m        \u001b[49m\u001b[43mlora_rank\u001b[49m\u001b[38;5;241;43m=\u001b[39;49m\u001b[43mlora_rank\u001b[49m\u001b[43m,\u001b[49m\n\u001b[1;32m    112\u001b[0m \u001b[43m        \u001b[49m\u001b[43mlora_alpha\u001b[49m\u001b[38;5;241;43m=\u001b[39;49m\u001b[43mlora_alpha\u001b[49m\u001b[43m,\u001b[49m\n\u001b[1;32m    113\u001b[0m \u001b[43m        \u001b[49m\u001b[43mlora_dropout\u001b[49m\u001b[38;5;241;43m=\u001b[39;49m\u001b[43mlora_dropout\u001b[49m\u001b[43m,\u001b[49m\n\u001b[1;32m    114\u001b[0m \u001b[43m        \u001b[49m\u001b[43muse_dora\u001b[49m\u001b[38;5;241;43m=\u001b[39;49m\u001b[43muse_dora\u001b[49m\u001b[43m,\u001b[49m\n\u001b[1;32m    115\u001b[0m \u001b[43m        \u001b[49m\u001b[43mquantize_base\u001b[49m\u001b[38;5;241;43m=\u001b[39;49m\u001b[43mquantize_base\u001b[49m\u001b[43m,\u001b[49m\n\u001b[1;32m    116\u001b[0m \u001b[43m    \u001b[49m\u001b[43m)\u001b[49m\n",
      "File \u001b[0;32m~/miniconda3/envs/ml/lib/python3.9/site-packages/torchtune/models/llama2/_component_builders.py:270\u001b[0m, in \u001b[0;36mlora_llama2\u001b[0;34m(lora_attn_modules, apply_lora_to_mlp, apply_lora_to_output, vocab_size, num_layers, num_heads, num_kv_heads, embed_dim, max_seq_len, intermediate_dim, attn_dropout, norm_eps, lora_rank, lora_alpha, lora_dropout, use_dora, quantize_base)\u001b[0m\n\u001b[1;32m    258\u001b[0m adapter_cls \u001b[38;5;241m=\u001b[39m DoRALinear \u001b[38;5;28;01mif\u001b[39;00m use_dora \u001b[38;5;28;01melse\u001b[39;00m LoRALinear\n\u001b[1;32m    259\u001b[0m output_proj \u001b[38;5;241m=\u001b[39m (\n\u001b[1;32m    260\u001b[0m     adapter_cls(\n\u001b[1;32m    261\u001b[0m         embed_dim,\n\u001b[0;32m   (...)\u001b[0m\n\u001b[1;32m    268\u001b[0m     \u001b[38;5;28;01melse\u001b[39;00m nn\u001b[38;5;241m.\u001b[39mLinear(embed_dim, vocab_size, bias\u001b[38;5;241m=\u001b[39m\u001b[38;5;28;01mFalse\u001b[39;00m)\n\u001b[1;32m    269\u001b[0m )\n\u001b[0;32m--> 270\u001b[0m model \u001b[38;5;241m=\u001b[39m \u001b[43mTransformerDecoder\u001b[49m\u001b[43m(\u001b[49m\n\u001b[1;32m    271\u001b[0m \u001b[43m    \u001b[49m\u001b[43mtok_embeddings\u001b[49m\u001b[38;5;241;43m=\u001b[39;49m\u001b[43mtok_embeddings\u001b[49m\u001b[43m,\u001b[49m\n\u001b[1;32m    272\u001b[0m \u001b[43m    \u001b[49m\u001b[43mlayers\u001b[49m\u001b[38;5;241;43m=\u001b[39;49m\u001b[43mlayer\u001b[49m\u001b[43m,\u001b[49m\n\u001b[1;32m    273\u001b[0m \u001b[43m    \u001b[49m\u001b[43mnum_layers\u001b[49m\u001b[38;5;241;43m=\u001b[39;49m\u001b[43mnum_layers\u001b[49m\u001b[43m,\u001b[49m\n\u001b[1;32m    274\u001b[0m \u001b[43m    \u001b[49m\u001b[43mmax_seq_len\u001b[49m\u001b[38;5;241;43m=\u001b[39;49m\u001b[43mmax_seq_len\u001b[49m\u001b[43m,\u001b[49m\n\u001b[1;32m    275\u001b[0m \u001b[43m    \u001b[49m\u001b[43mnum_heads\u001b[49m\u001b[38;5;241;43m=\u001b[39;49m\u001b[43mnum_heads\u001b[49m\u001b[43m,\u001b[49m\n\u001b[1;32m    276\u001b[0m \u001b[43m    \u001b[49m\u001b[43mhead_dim\u001b[49m\u001b[38;5;241;43m=\u001b[39;49m\u001b[43m(\u001b[49m\u001b[43membed_dim\u001b[49m\u001b[43m \u001b[49m\u001b[38;5;241;43m/\u001b[39;49m\u001b[38;5;241;43m/\u001b[39;49m\u001b[43m \u001b[49m\u001b[43mnum_heads\u001b[49m\u001b[43m)\u001b[49m\u001b[43m,\u001b[49m\n\u001b[1;32m    277\u001b[0m \u001b[43m    \u001b[49m\u001b[43mnorm\u001b[49m\u001b[38;5;241;43m=\u001b[39;49m\u001b[43mRMSNorm\u001b[49m\u001b[43m(\u001b[49m\u001b[43membed_dim\u001b[49m\u001b[43m,\u001b[49m\u001b[43m \u001b[49m\u001b[43meps\u001b[49m\u001b[38;5;241;43m=\u001b[39;49m\u001b[43mnorm_eps\u001b[49m\u001b[43m)\u001b[49m\u001b[43m,\u001b[49m\n\u001b[1;32m    278\u001b[0m \u001b[43m    \u001b[49m\u001b[43moutput\u001b[49m\u001b[38;5;241;43m=\u001b[39;49m\u001b[43moutput_proj\u001b[49m\u001b[43m,\u001b[49m\n\u001b[1;32m    279\u001b[0m \u001b[43m\u001b[49m\u001b[43m)\u001b[49m\n\u001b[1;32m    281\u001b[0m \u001b[38;5;28;01mif\u001b[39;00m quantize_base:\n\u001b[1;32m    282\u001b[0m     \u001b[38;5;66;03m# For QLoRA, we reparametrize 4-bit tensors to higher precision, and offload to CPU on the fly\u001b[39;00m\n\u001b[1;32m    283\u001b[0m     \u001b[38;5;66;03m# so as to not increase peak memory\u001b[39;00m\n\u001b[1;32m    284\u001b[0m     \u001b[38;5;66;03m# TODO this is clowny, figure out a better way to get what precision the rest\u001b[39;00m\n\u001b[1;32m    285\u001b[0m     \u001b[38;5;66;03m# of the model is in\u001b[39;00m\n\u001b[1;32m    286\u001b[0m     _register_reparametrize_state_dict_hooks(model, dtype\u001b[38;5;241m=\u001b[39mtok_embeddings\u001b[38;5;241m.\u001b[39mweight\u001b[38;5;241m.\u001b[39mdtype)\n",
      "File \u001b[0;32m~/miniconda3/envs/ml/lib/python3.9/site-packages/torchtune/modules/transformer.py:362\u001b[0m, in \u001b[0;36mTransformerDecoder.__init__\u001b[0;34m(self, tok_embeddings, layers, max_seq_len, num_heads, head_dim, norm, output, num_layers, output_hidden_states)\u001b[0m\n\u001b[1;32m    360\u001b[0m     \u001b[38;5;28;01mif\u001b[39;00m num_layers \u001b[38;5;129;01mis\u001b[39;00m \u001b[38;5;28;01mNone\u001b[39;00m:\n\u001b[1;32m    361\u001b[0m         \u001b[38;5;28;01mraise\u001b[39;00m \u001b[38;5;167;01mAssertionError\u001b[39;00m(\u001b[38;5;124m\"\u001b[39m\u001b[38;5;124mnum_layers is not defined, layers must be a list\u001b[39m\u001b[38;5;124m\"\u001b[39m)\n\u001b[0;32m--> 362\u001b[0m     layers \u001b[38;5;241m=\u001b[39m \u001b[43m_get_clones\u001b[49m\u001b[43m(\u001b[49m\u001b[43mlayers\u001b[49m\u001b[43m,\u001b[49m\u001b[43m \u001b[49m\u001b[43mnum_layers\u001b[49m\u001b[43m)\u001b[49m\n\u001b[1;32m    364\u001b[0m \u001b[38;5;28mself\u001b[39m\u001b[38;5;241m.\u001b[39mtok_embeddings \u001b[38;5;241m=\u001b[39m tok_embeddings\n\u001b[1;32m    365\u001b[0m \u001b[38;5;28mself\u001b[39m\u001b[38;5;241m.\u001b[39mlayers \u001b[38;5;241m=\u001b[39m layers\n",
      "File \u001b[0;32m~/miniconda3/envs/ml/lib/python3.9/site-packages/torchtune/modules/transformer.py:302\u001b[0m, in \u001b[0;36m_get_clones\u001b[0;34m(module, n)\u001b[0m\n\u001b[1;32m    291\u001b[0m \u001b[38;5;250m\u001b[39m\u001b[38;5;124;03m\"\"\"\u001b[39;00m\n\u001b[1;32m    292\u001b[0m \u001b[38;5;124;03mReturn a list of ``n`` identical layers.\u001b[39;00m\n\u001b[1;32m    293\u001b[0m \n\u001b[0;32m   (...)\u001b[0m\n\u001b[1;32m    299\u001b[0m \u001b[38;5;124;03m    nn.ModuleList: list of ``n`` identical layers\u001b[39;00m\n\u001b[1;32m    300\u001b[0m \u001b[38;5;124;03m\"\"\"\u001b[39;00m\n\u001b[1;32m    301\u001b[0m \u001b[38;5;66;03m# FIXME: copy.deepcopy() is not defined on nn.module\u001b[39;00m\n\u001b[0;32m--> 302\u001b[0m \u001b[38;5;28;01mreturn\u001b[39;00m nn\u001b[38;5;241m.\u001b[39mModuleList([copy\u001b[38;5;241m.\u001b[39mdeepcopy(module) \u001b[38;5;28;01mfor\u001b[39;00m i \u001b[38;5;129;01min\u001b[39;00m \u001b[38;5;28mrange\u001b[39m(n)])\n",
      "File \u001b[0;32m~/miniconda3/envs/ml/lib/python3.9/site-packages/torchtune/modules/transformer.py:302\u001b[0m, in \u001b[0;36m<listcomp>\u001b[0;34m(.0)\u001b[0m\n\u001b[1;32m    291\u001b[0m \u001b[38;5;250m\u001b[39m\u001b[38;5;124;03m\"\"\"\u001b[39;00m\n\u001b[1;32m    292\u001b[0m \u001b[38;5;124;03mReturn a list of ``n`` identical layers.\u001b[39;00m\n\u001b[1;32m    293\u001b[0m \n\u001b[0;32m   (...)\u001b[0m\n\u001b[1;32m    299\u001b[0m \u001b[38;5;124;03m    nn.ModuleList: list of ``n`` identical layers\u001b[39;00m\n\u001b[1;32m    300\u001b[0m \u001b[38;5;124;03m\"\"\"\u001b[39;00m\n\u001b[1;32m    301\u001b[0m \u001b[38;5;66;03m# FIXME: copy.deepcopy() is not defined on nn.module\u001b[39;00m\n\u001b[0;32m--> 302\u001b[0m \u001b[38;5;28;01mreturn\u001b[39;00m nn\u001b[38;5;241m.\u001b[39mModuleList([\u001b[43mcopy\u001b[49m\u001b[38;5;241;43m.\u001b[39;49m\u001b[43mdeepcopy\u001b[49m\u001b[43m(\u001b[49m\u001b[43mmodule\u001b[49m\u001b[43m)\u001b[49m \u001b[38;5;28;01mfor\u001b[39;00m i \u001b[38;5;129;01min\u001b[39;00m \u001b[38;5;28mrange\u001b[39m(n)])\n",
      "File \u001b[0;32m~/miniconda3/envs/ml/lib/python3.9/copy.py:172\u001b[0m, in \u001b[0;36mdeepcopy\u001b[0;34m(x, memo, _nil)\u001b[0m\n\u001b[1;32m    170\u001b[0m                 y \u001b[38;5;241m=\u001b[39m x\n\u001b[1;32m    171\u001b[0m             \u001b[38;5;28;01melse\u001b[39;00m:\n\u001b[0;32m--> 172\u001b[0m                 y \u001b[38;5;241m=\u001b[39m \u001b[43m_reconstruct\u001b[49m\u001b[43m(\u001b[49m\u001b[43mx\u001b[49m\u001b[43m,\u001b[49m\u001b[43m \u001b[49m\u001b[43mmemo\u001b[49m\u001b[43m,\u001b[49m\u001b[43m \u001b[49m\u001b[38;5;241;43m*\u001b[39;49m\u001b[43mrv\u001b[49m\u001b[43m)\u001b[49m\n\u001b[1;32m    174\u001b[0m \u001b[38;5;66;03m# If is its own copy, don't memoize.\u001b[39;00m\n\u001b[1;32m    175\u001b[0m \u001b[38;5;28;01mif\u001b[39;00m y \u001b[38;5;129;01mis\u001b[39;00m \u001b[38;5;129;01mnot\u001b[39;00m x:\n",
      "File \u001b[0;32m~/miniconda3/envs/ml/lib/python3.9/copy.py:270\u001b[0m, in \u001b[0;36m_reconstruct\u001b[0;34m(x, memo, func, args, state, listiter, dictiter, deepcopy)\u001b[0m\n\u001b[1;32m    268\u001b[0m \u001b[38;5;28;01mif\u001b[39;00m state \u001b[38;5;129;01mis\u001b[39;00m \u001b[38;5;129;01mnot\u001b[39;00m \u001b[38;5;28;01mNone\u001b[39;00m:\n\u001b[1;32m    269\u001b[0m     \u001b[38;5;28;01mif\u001b[39;00m deep:\n\u001b[0;32m--> 270\u001b[0m         state \u001b[38;5;241m=\u001b[39m \u001b[43mdeepcopy\u001b[49m\u001b[43m(\u001b[49m\u001b[43mstate\u001b[49m\u001b[43m,\u001b[49m\u001b[43m \u001b[49m\u001b[43mmemo\u001b[49m\u001b[43m)\u001b[49m\n\u001b[1;32m    271\u001b[0m     \u001b[38;5;28;01mif\u001b[39;00m \u001b[38;5;28mhasattr\u001b[39m(y, \u001b[38;5;124m'\u001b[39m\u001b[38;5;124m__setstate__\u001b[39m\u001b[38;5;124m'\u001b[39m):\n\u001b[1;32m    272\u001b[0m         y\u001b[38;5;241m.\u001b[39m__setstate__(state)\n",
      "File \u001b[0;32m~/miniconda3/envs/ml/lib/python3.9/copy.py:146\u001b[0m, in \u001b[0;36mdeepcopy\u001b[0;34m(x, memo, _nil)\u001b[0m\n\u001b[1;32m    144\u001b[0m copier \u001b[38;5;241m=\u001b[39m _deepcopy_dispatch\u001b[38;5;241m.\u001b[39mget(\u001b[38;5;28mcls\u001b[39m)\n\u001b[1;32m    145\u001b[0m \u001b[38;5;28;01mif\u001b[39;00m copier \u001b[38;5;129;01mis\u001b[39;00m \u001b[38;5;129;01mnot\u001b[39;00m \u001b[38;5;28;01mNone\u001b[39;00m:\n\u001b[0;32m--> 146\u001b[0m     y \u001b[38;5;241m=\u001b[39m \u001b[43mcopier\u001b[49m\u001b[43m(\u001b[49m\u001b[43mx\u001b[49m\u001b[43m,\u001b[49m\u001b[43m \u001b[49m\u001b[43mmemo\u001b[49m\u001b[43m)\u001b[49m\n\u001b[1;32m    147\u001b[0m \u001b[38;5;28;01melse\u001b[39;00m:\n\u001b[1;32m    148\u001b[0m     \u001b[38;5;28;01mif\u001b[39;00m \u001b[38;5;28missubclass\u001b[39m(\u001b[38;5;28mcls\u001b[39m, \u001b[38;5;28mtype\u001b[39m):\n",
      "File \u001b[0;32m~/miniconda3/envs/ml/lib/python3.9/copy.py:230\u001b[0m, in \u001b[0;36m_deepcopy_dict\u001b[0;34m(x, memo, deepcopy)\u001b[0m\n\u001b[1;32m    228\u001b[0m memo[\u001b[38;5;28mid\u001b[39m(x)] \u001b[38;5;241m=\u001b[39m y\n\u001b[1;32m    229\u001b[0m \u001b[38;5;28;01mfor\u001b[39;00m key, value \u001b[38;5;129;01min\u001b[39;00m x\u001b[38;5;241m.\u001b[39mitems():\n\u001b[0;32m--> 230\u001b[0m     y[deepcopy(key, memo)] \u001b[38;5;241m=\u001b[39m \u001b[43mdeepcopy\u001b[49m\u001b[43m(\u001b[49m\u001b[43mvalue\u001b[49m\u001b[43m,\u001b[49m\u001b[43m \u001b[49m\u001b[43mmemo\u001b[49m\u001b[43m)\u001b[49m\n\u001b[1;32m    231\u001b[0m \u001b[38;5;28;01mreturn\u001b[39;00m y\n",
      "File \u001b[0;32m~/miniconda3/envs/ml/lib/python3.9/copy.py:172\u001b[0m, in \u001b[0;36mdeepcopy\u001b[0;34m(x, memo, _nil)\u001b[0m\n\u001b[1;32m    170\u001b[0m                 y \u001b[38;5;241m=\u001b[39m x\n\u001b[1;32m    171\u001b[0m             \u001b[38;5;28;01melse\u001b[39;00m:\n\u001b[0;32m--> 172\u001b[0m                 y \u001b[38;5;241m=\u001b[39m \u001b[43m_reconstruct\u001b[49m\u001b[43m(\u001b[49m\u001b[43mx\u001b[49m\u001b[43m,\u001b[49m\u001b[43m \u001b[49m\u001b[43mmemo\u001b[49m\u001b[43m,\u001b[49m\u001b[43m \u001b[49m\u001b[38;5;241;43m*\u001b[39;49m\u001b[43mrv\u001b[49m\u001b[43m)\u001b[49m\n\u001b[1;32m    174\u001b[0m \u001b[38;5;66;03m# If is its own copy, don't memoize.\u001b[39;00m\n\u001b[1;32m    175\u001b[0m \u001b[38;5;28;01mif\u001b[39;00m y \u001b[38;5;129;01mis\u001b[39;00m \u001b[38;5;129;01mnot\u001b[39;00m x:\n",
      "File \u001b[0;32m~/miniconda3/envs/ml/lib/python3.9/copy.py:296\u001b[0m, in \u001b[0;36m_reconstruct\u001b[0;34m(x, memo, func, args, state, listiter, dictiter, deepcopy)\u001b[0m\n\u001b[1;32m    294\u001b[0m     \u001b[38;5;28;01mfor\u001b[39;00m key, value \u001b[38;5;129;01min\u001b[39;00m dictiter:\n\u001b[1;32m    295\u001b[0m         key \u001b[38;5;241m=\u001b[39m deepcopy(key, memo)\n\u001b[0;32m--> 296\u001b[0m         value \u001b[38;5;241m=\u001b[39m \u001b[43mdeepcopy\u001b[49m\u001b[43m(\u001b[49m\u001b[43mvalue\u001b[49m\u001b[43m,\u001b[49m\u001b[43m \u001b[49m\u001b[43mmemo\u001b[49m\u001b[43m)\u001b[49m\n\u001b[1;32m    297\u001b[0m         y[key] \u001b[38;5;241m=\u001b[39m value\n\u001b[1;32m    298\u001b[0m \u001b[38;5;28;01melse\u001b[39;00m:\n",
      "File \u001b[0;32m~/miniconda3/envs/ml/lib/python3.9/copy.py:172\u001b[0m, in \u001b[0;36mdeepcopy\u001b[0;34m(x, memo, _nil)\u001b[0m\n\u001b[1;32m    170\u001b[0m                 y \u001b[38;5;241m=\u001b[39m x\n\u001b[1;32m    171\u001b[0m             \u001b[38;5;28;01melse\u001b[39;00m:\n\u001b[0;32m--> 172\u001b[0m                 y \u001b[38;5;241m=\u001b[39m \u001b[43m_reconstruct\u001b[49m\u001b[43m(\u001b[49m\u001b[43mx\u001b[49m\u001b[43m,\u001b[49m\u001b[43m \u001b[49m\u001b[43mmemo\u001b[49m\u001b[43m,\u001b[49m\u001b[43m \u001b[49m\u001b[38;5;241;43m*\u001b[39;49m\u001b[43mrv\u001b[49m\u001b[43m)\u001b[49m\n\u001b[1;32m    174\u001b[0m \u001b[38;5;66;03m# If is its own copy, don't memoize.\u001b[39;00m\n\u001b[1;32m    175\u001b[0m \u001b[38;5;28;01mif\u001b[39;00m y \u001b[38;5;129;01mis\u001b[39;00m \u001b[38;5;129;01mnot\u001b[39;00m x:\n",
      "File \u001b[0;32m~/miniconda3/envs/ml/lib/python3.9/copy.py:270\u001b[0m, in \u001b[0;36m_reconstruct\u001b[0;34m(x, memo, func, args, state, listiter, dictiter, deepcopy)\u001b[0m\n\u001b[1;32m    268\u001b[0m \u001b[38;5;28;01mif\u001b[39;00m state \u001b[38;5;129;01mis\u001b[39;00m \u001b[38;5;129;01mnot\u001b[39;00m \u001b[38;5;28;01mNone\u001b[39;00m:\n\u001b[1;32m    269\u001b[0m     \u001b[38;5;28;01mif\u001b[39;00m deep:\n\u001b[0;32m--> 270\u001b[0m         state \u001b[38;5;241m=\u001b[39m \u001b[43mdeepcopy\u001b[49m\u001b[43m(\u001b[49m\u001b[43mstate\u001b[49m\u001b[43m,\u001b[49m\u001b[43m \u001b[49m\u001b[43mmemo\u001b[49m\u001b[43m)\u001b[49m\n\u001b[1;32m    271\u001b[0m     \u001b[38;5;28;01mif\u001b[39;00m \u001b[38;5;28mhasattr\u001b[39m(y, \u001b[38;5;124m'\u001b[39m\u001b[38;5;124m__setstate__\u001b[39m\u001b[38;5;124m'\u001b[39m):\n\u001b[1;32m    272\u001b[0m         y\u001b[38;5;241m.\u001b[39m__setstate__(state)\n",
      "File \u001b[0;32m~/miniconda3/envs/ml/lib/python3.9/copy.py:146\u001b[0m, in \u001b[0;36mdeepcopy\u001b[0;34m(x, memo, _nil)\u001b[0m\n\u001b[1;32m    144\u001b[0m copier \u001b[38;5;241m=\u001b[39m _deepcopy_dispatch\u001b[38;5;241m.\u001b[39mget(\u001b[38;5;28mcls\u001b[39m)\n\u001b[1;32m    145\u001b[0m \u001b[38;5;28;01mif\u001b[39;00m copier \u001b[38;5;129;01mis\u001b[39;00m \u001b[38;5;129;01mnot\u001b[39;00m \u001b[38;5;28;01mNone\u001b[39;00m:\n\u001b[0;32m--> 146\u001b[0m     y \u001b[38;5;241m=\u001b[39m \u001b[43mcopier\u001b[49m\u001b[43m(\u001b[49m\u001b[43mx\u001b[49m\u001b[43m,\u001b[49m\u001b[43m \u001b[49m\u001b[43mmemo\u001b[49m\u001b[43m)\u001b[49m\n\u001b[1;32m    147\u001b[0m \u001b[38;5;28;01melse\u001b[39;00m:\n\u001b[1;32m    148\u001b[0m     \u001b[38;5;28;01mif\u001b[39;00m \u001b[38;5;28missubclass\u001b[39m(\u001b[38;5;28mcls\u001b[39m, \u001b[38;5;28mtype\u001b[39m):\n",
      "File \u001b[0;32m~/miniconda3/envs/ml/lib/python3.9/copy.py:230\u001b[0m, in \u001b[0;36m_deepcopy_dict\u001b[0;34m(x, memo, deepcopy)\u001b[0m\n\u001b[1;32m    228\u001b[0m memo[\u001b[38;5;28mid\u001b[39m(x)] \u001b[38;5;241m=\u001b[39m y\n\u001b[1;32m    229\u001b[0m \u001b[38;5;28;01mfor\u001b[39;00m key, value \u001b[38;5;129;01min\u001b[39;00m x\u001b[38;5;241m.\u001b[39mitems():\n\u001b[0;32m--> 230\u001b[0m     y[deepcopy(key, memo)] \u001b[38;5;241m=\u001b[39m \u001b[43mdeepcopy\u001b[49m\u001b[43m(\u001b[49m\u001b[43mvalue\u001b[49m\u001b[43m,\u001b[49m\u001b[43m \u001b[49m\u001b[43mmemo\u001b[49m\u001b[43m)\u001b[49m\n\u001b[1;32m    231\u001b[0m \u001b[38;5;28;01mreturn\u001b[39;00m y\n",
      "File \u001b[0;32m~/miniconda3/envs/ml/lib/python3.9/copy.py:172\u001b[0m, in \u001b[0;36mdeepcopy\u001b[0;34m(x, memo, _nil)\u001b[0m\n\u001b[1;32m    170\u001b[0m                 y \u001b[38;5;241m=\u001b[39m x\n\u001b[1;32m    171\u001b[0m             \u001b[38;5;28;01melse\u001b[39;00m:\n\u001b[0;32m--> 172\u001b[0m                 y \u001b[38;5;241m=\u001b[39m \u001b[43m_reconstruct\u001b[49m\u001b[43m(\u001b[49m\u001b[43mx\u001b[49m\u001b[43m,\u001b[49m\u001b[43m \u001b[49m\u001b[43mmemo\u001b[49m\u001b[43m,\u001b[49m\u001b[43m \u001b[49m\u001b[38;5;241;43m*\u001b[39;49m\u001b[43mrv\u001b[49m\u001b[43m)\u001b[49m\n\u001b[1;32m    174\u001b[0m \u001b[38;5;66;03m# If is its own copy, don't memoize.\u001b[39;00m\n\u001b[1;32m    175\u001b[0m \u001b[38;5;28;01mif\u001b[39;00m y \u001b[38;5;129;01mis\u001b[39;00m \u001b[38;5;129;01mnot\u001b[39;00m x:\n",
      "File \u001b[0;32m~/miniconda3/envs/ml/lib/python3.9/copy.py:296\u001b[0m, in \u001b[0;36m_reconstruct\u001b[0;34m(x, memo, func, args, state, listiter, dictiter, deepcopy)\u001b[0m\n\u001b[1;32m    294\u001b[0m     \u001b[38;5;28;01mfor\u001b[39;00m key, value \u001b[38;5;129;01min\u001b[39;00m dictiter:\n\u001b[1;32m    295\u001b[0m         key \u001b[38;5;241m=\u001b[39m deepcopy(key, memo)\n\u001b[0;32m--> 296\u001b[0m         value \u001b[38;5;241m=\u001b[39m \u001b[43mdeepcopy\u001b[49m\u001b[43m(\u001b[49m\u001b[43mvalue\u001b[49m\u001b[43m,\u001b[49m\u001b[43m \u001b[49m\u001b[43mmemo\u001b[49m\u001b[43m)\u001b[49m\n\u001b[1;32m    297\u001b[0m         y[key] \u001b[38;5;241m=\u001b[39m value\n\u001b[1;32m    298\u001b[0m \u001b[38;5;28;01melse\u001b[39;00m:\n",
      "File \u001b[0;32m~/miniconda3/envs/ml/lib/python3.9/copy.py:172\u001b[0m, in \u001b[0;36mdeepcopy\u001b[0;34m(x, memo, _nil)\u001b[0m\n\u001b[1;32m    170\u001b[0m                 y \u001b[38;5;241m=\u001b[39m x\n\u001b[1;32m    171\u001b[0m             \u001b[38;5;28;01melse\u001b[39;00m:\n\u001b[0;32m--> 172\u001b[0m                 y \u001b[38;5;241m=\u001b[39m \u001b[43m_reconstruct\u001b[49m\u001b[43m(\u001b[49m\u001b[43mx\u001b[49m\u001b[43m,\u001b[49m\u001b[43m \u001b[49m\u001b[43mmemo\u001b[49m\u001b[43m,\u001b[49m\u001b[43m \u001b[49m\u001b[38;5;241;43m*\u001b[39;49m\u001b[43mrv\u001b[49m\u001b[43m)\u001b[49m\n\u001b[1;32m    174\u001b[0m \u001b[38;5;66;03m# If is its own copy, don't memoize.\u001b[39;00m\n\u001b[1;32m    175\u001b[0m \u001b[38;5;28;01mif\u001b[39;00m y \u001b[38;5;129;01mis\u001b[39;00m \u001b[38;5;129;01mnot\u001b[39;00m x:\n",
      "File \u001b[0;32m~/miniconda3/envs/ml/lib/python3.9/copy.py:270\u001b[0m, in \u001b[0;36m_reconstruct\u001b[0;34m(x, memo, func, args, state, listiter, dictiter, deepcopy)\u001b[0m\n\u001b[1;32m    268\u001b[0m \u001b[38;5;28;01mif\u001b[39;00m state \u001b[38;5;129;01mis\u001b[39;00m \u001b[38;5;129;01mnot\u001b[39;00m \u001b[38;5;28;01mNone\u001b[39;00m:\n\u001b[1;32m    269\u001b[0m     \u001b[38;5;28;01mif\u001b[39;00m deep:\n\u001b[0;32m--> 270\u001b[0m         state \u001b[38;5;241m=\u001b[39m \u001b[43mdeepcopy\u001b[49m\u001b[43m(\u001b[49m\u001b[43mstate\u001b[49m\u001b[43m,\u001b[49m\u001b[43m \u001b[49m\u001b[43mmemo\u001b[49m\u001b[43m)\u001b[49m\n\u001b[1;32m    271\u001b[0m     \u001b[38;5;28;01mif\u001b[39;00m \u001b[38;5;28mhasattr\u001b[39m(y, \u001b[38;5;124m'\u001b[39m\u001b[38;5;124m__setstate__\u001b[39m\u001b[38;5;124m'\u001b[39m):\n\u001b[1;32m    272\u001b[0m         y\u001b[38;5;241m.\u001b[39m__setstate__(state)\n",
      "File \u001b[0;32m~/miniconda3/envs/ml/lib/python3.9/copy.py:146\u001b[0m, in \u001b[0;36mdeepcopy\u001b[0;34m(x, memo, _nil)\u001b[0m\n\u001b[1;32m    144\u001b[0m copier \u001b[38;5;241m=\u001b[39m _deepcopy_dispatch\u001b[38;5;241m.\u001b[39mget(\u001b[38;5;28mcls\u001b[39m)\n\u001b[1;32m    145\u001b[0m \u001b[38;5;28;01mif\u001b[39;00m copier \u001b[38;5;129;01mis\u001b[39;00m \u001b[38;5;129;01mnot\u001b[39;00m \u001b[38;5;28;01mNone\u001b[39;00m:\n\u001b[0;32m--> 146\u001b[0m     y \u001b[38;5;241m=\u001b[39m \u001b[43mcopier\u001b[49m\u001b[43m(\u001b[49m\u001b[43mx\u001b[49m\u001b[43m,\u001b[49m\u001b[43m \u001b[49m\u001b[43mmemo\u001b[49m\u001b[43m)\u001b[49m\n\u001b[1;32m    147\u001b[0m \u001b[38;5;28;01melse\u001b[39;00m:\n\u001b[1;32m    148\u001b[0m     \u001b[38;5;28;01mif\u001b[39;00m \u001b[38;5;28missubclass\u001b[39m(\u001b[38;5;28mcls\u001b[39m, \u001b[38;5;28mtype\u001b[39m):\n",
      "File \u001b[0;32m~/miniconda3/envs/ml/lib/python3.9/copy.py:230\u001b[0m, in \u001b[0;36m_deepcopy_dict\u001b[0;34m(x, memo, deepcopy)\u001b[0m\n\u001b[1;32m    228\u001b[0m memo[\u001b[38;5;28mid\u001b[39m(x)] \u001b[38;5;241m=\u001b[39m y\n\u001b[1;32m    229\u001b[0m \u001b[38;5;28;01mfor\u001b[39;00m key, value \u001b[38;5;129;01min\u001b[39;00m x\u001b[38;5;241m.\u001b[39mitems():\n\u001b[0;32m--> 230\u001b[0m     y[deepcopy(key, memo)] \u001b[38;5;241m=\u001b[39m \u001b[43mdeepcopy\u001b[49m\u001b[43m(\u001b[49m\u001b[43mvalue\u001b[49m\u001b[43m,\u001b[49m\u001b[43m \u001b[49m\u001b[43mmemo\u001b[49m\u001b[43m)\u001b[49m\n\u001b[1;32m    231\u001b[0m \u001b[38;5;28;01mreturn\u001b[39;00m y\n",
      "File \u001b[0;32m~/miniconda3/envs/ml/lib/python3.9/copy.py:172\u001b[0m, in \u001b[0;36mdeepcopy\u001b[0;34m(x, memo, _nil)\u001b[0m\n\u001b[1;32m    170\u001b[0m                 y \u001b[38;5;241m=\u001b[39m x\n\u001b[1;32m    171\u001b[0m             \u001b[38;5;28;01melse\u001b[39;00m:\n\u001b[0;32m--> 172\u001b[0m                 y \u001b[38;5;241m=\u001b[39m \u001b[43m_reconstruct\u001b[49m\u001b[43m(\u001b[49m\u001b[43mx\u001b[49m\u001b[43m,\u001b[49m\u001b[43m \u001b[49m\u001b[43mmemo\u001b[49m\u001b[43m,\u001b[49m\u001b[43m \u001b[49m\u001b[38;5;241;43m*\u001b[39;49m\u001b[43mrv\u001b[49m\u001b[43m)\u001b[49m\n\u001b[1;32m    174\u001b[0m \u001b[38;5;66;03m# If is its own copy, don't memoize.\u001b[39;00m\n\u001b[1;32m    175\u001b[0m \u001b[38;5;28;01mif\u001b[39;00m y \u001b[38;5;129;01mis\u001b[39;00m \u001b[38;5;129;01mnot\u001b[39;00m x:\n",
      "File \u001b[0;32m~/miniconda3/envs/ml/lib/python3.9/copy.py:296\u001b[0m, in \u001b[0;36m_reconstruct\u001b[0;34m(x, memo, func, args, state, listiter, dictiter, deepcopy)\u001b[0m\n\u001b[1;32m    294\u001b[0m     \u001b[38;5;28;01mfor\u001b[39;00m key, value \u001b[38;5;129;01min\u001b[39;00m dictiter:\n\u001b[1;32m    295\u001b[0m         key \u001b[38;5;241m=\u001b[39m deepcopy(key, memo)\n\u001b[0;32m--> 296\u001b[0m         value \u001b[38;5;241m=\u001b[39m \u001b[43mdeepcopy\u001b[49m\u001b[43m(\u001b[49m\u001b[43mvalue\u001b[49m\u001b[43m,\u001b[49m\u001b[43m \u001b[49m\u001b[43mmemo\u001b[49m\u001b[43m)\u001b[49m\n\u001b[1;32m    297\u001b[0m         y[key] \u001b[38;5;241m=\u001b[39m value\n\u001b[1;32m    298\u001b[0m \u001b[38;5;28;01melse\u001b[39;00m:\n",
      "File \u001b[0;32m~/miniconda3/envs/ml/lib/python3.9/copy.py:153\u001b[0m, in \u001b[0;36mdeepcopy\u001b[0;34m(x, memo, _nil)\u001b[0m\n\u001b[1;32m    151\u001b[0m copier \u001b[38;5;241m=\u001b[39m \u001b[38;5;28mgetattr\u001b[39m(x, \u001b[38;5;124m\"\u001b[39m\u001b[38;5;124m__deepcopy__\u001b[39m\u001b[38;5;124m\"\u001b[39m, \u001b[38;5;28;01mNone\u001b[39;00m)\n\u001b[1;32m    152\u001b[0m \u001b[38;5;28;01mif\u001b[39;00m copier \u001b[38;5;129;01mis\u001b[39;00m \u001b[38;5;129;01mnot\u001b[39;00m \u001b[38;5;28;01mNone\u001b[39;00m:\n\u001b[0;32m--> 153\u001b[0m     y \u001b[38;5;241m=\u001b[39m \u001b[43mcopier\u001b[49m\u001b[43m(\u001b[49m\u001b[43mmemo\u001b[49m\u001b[43m)\u001b[49m\n\u001b[1;32m    154\u001b[0m \u001b[38;5;28;01melse\u001b[39;00m:\n\u001b[1;32m    155\u001b[0m     reductor \u001b[38;5;241m=\u001b[39m dispatch_table\u001b[38;5;241m.\u001b[39mget(\u001b[38;5;28mcls\u001b[39m)\n",
      "File \u001b[0;32m~/miniconda3/envs/ml/lib/python3.9/site-packages/torch/nn/parameter.py:59\u001b[0m, in \u001b[0;36mParameter.__deepcopy__\u001b[0;34m(self, memo)\u001b[0m\n\u001b[1;32m     57\u001b[0m     \u001b[38;5;28;01mreturn\u001b[39;00m memo[\u001b[38;5;28mid\u001b[39m(\u001b[38;5;28mself\u001b[39m)]\n\u001b[1;32m     58\u001b[0m \u001b[38;5;28;01melse\u001b[39;00m:\n\u001b[0;32m---> 59\u001b[0m     result \u001b[38;5;241m=\u001b[39m \u001b[38;5;28mtype\u001b[39m(\u001b[38;5;28mself\u001b[39m)(\u001b[38;5;28;43mself\u001b[39;49m\u001b[38;5;241;43m.\u001b[39;49m\u001b[43mdata\u001b[49m\u001b[38;5;241;43m.\u001b[39;49m\u001b[43mclone\u001b[49m\u001b[43m(\u001b[49m\u001b[43mmemory_format\u001b[49m\u001b[38;5;241;43m=\u001b[39;49m\u001b[43mtorch\u001b[49m\u001b[38;5;241;43m.\u001b[39;49m\u001b[43mpreserve_format\u001b[49m\u001b[43m)\u001b[49m, \u001b[38;5;28mself\u001b[39m\u001b[38;5;241m.\u001b[39mrequires_grad)\n\u001b[1;32m     60\u001b[0m     memo[\u001b[38;5;28mid\u001b[39m(\u001b[38;5;28mself\u001b[39m)] \u001b[38;5;241m=\u001b[39m result\n\u001b[1;32m     61\u001b[0m     \u001b[38;5;28;01mreturn\u001b[39;00m result\n",
      "File \u001b[0;32m~/miniconda3/envs/ml/lib/python3.9/site-packages/torch/utils/_device.py:78\u001b[0m, in \u001b[0;36mDeviceContext.__torch_function__\u001b[0;34m(self, func, types, args, kwargs)\u001b[0m\n\u001b[1;32m     76\u001b[0m \u001b[38;5;28;01mif\u001b[39;00m func \u001b[38;5;129;01min\u001b[39;00m _device_constructors() \u001b[38;5;129;01mand\u001b[39;00m kwargs\u001b[38;5;241m.\u001b[39mget(\u001b[38;5;124m'\u001b[39m\u001b[38;5;124mdevice\u001b[39m\u001b[38;5;124m'\u001b[39m) \u001b[38;5;129;01mis\u001b[39;00m \u001b[38;5;28;01mNone\u001b[39;00m:\n\u001b[1;32m     77\u001b[0m     kwargs[\u001b[38;5;124m'\u001b[39m\u001b[38;5;124mdevice\u001b[39m\u001b[38;5;124m'\u001b[39m] \u001b[38;5;241m=\u001b[39m \u001b[38;5;28mself\u001b[39m\u001b[38;5;241m.\u001b[39mdevice\n\u001b[0;32m---> 78\u001b[0m \u001b[38;5;28;01mreturn\u001b[39;00m \u001b[43mfunc\u001b[49m\u001b[43m(\u001b[49m\u001b[38;5;241;43m*\u001b[39;49m\u001b[43margs\u001b[49m\u001b[43m,\u001b[49m\u001b[43m \u001b[49m\u001b[38;5;241;43m*\u001b[39;49m\u001b[38;5;241;43m*\u001b[39;49m\u001b[43mkwargs\u001b[49m\u001b[43m)\u001b[49m\n",
      "\u001b[0;31mOutOfMemoryError\u001b[0m: CUDA out of memory. Tried to allocate 64.00 MiB. GPU "
     ]
    }
   ],
   "source": [
    "lora_model = lora_llama2_7b(lora_attn_modules=[\"q_proj\"])\n",
    "print_cuda_memory_allocated()"
   ]
  },
  {
   "cell_type": "markdown",
   "id": "26a591b5",
   "metadata": {},
   "source": [
    "упс... Нам даже не хватит 6GB видеопамяти без квантизаций"
   ]
  },
  {
   "cell_type": "markdown",
   "id": "77f1262c",
   "metadata": {},
   "source": [
    "К сожалению, мы не сможем работать с весами моделей из сеймейства LLAMA, так как нам не дадут доступ для русских аккаунтов...\n",
    "\n",
    "Поэтому мы попробуем Qwen2 и версию 0.5b (у нас нет под рукой лишней V100 или хотя бы RTX4090)"
   ]
  },
  {
   "cell_type": "code",
   "execution_count": 13,
   "id": "1de2a572",
   "metadata": {},
   "outputs": [],
   "source": [
    "from torchtune.models.qwen2 import lora_qwen2_0_5b"
   ]
  },
  {
   "cell_type": "code",
   "execution_count": 14,
   "id": "fc64398b",
   "metadata": {},
   "outputs": [
    {
     "name": "stdout",
     "output_type": "stream",
     "text": [
      "Memory allocated 2384039424 bytes / 2273.597 MB\n",
      "\n"
     ]
    }
   ],
   "source": [
    "lora_model = lora_qwen2_0_5b(lora_attn_modules=[\"q_proj\", \"v_proj\"], use_dora=False, quantize_base=False)\n",
    "print_cuda_memory_allocated()"
   ]
  },
  {
   "cell_type": "code",
   "execution_count": 15,
   "id": "847e6e79",
   "metadata": {},
   "outputs": [],
   "source": [
    "del lora_model\n",
    "empty_cuda_cache()"
   ]
  },
  {
   "cell_type": "code",
   "execution_count": 16,
   "id": "326d8162",
   "metadata": {},
   "outputs": [
    {
     "name": "stdout",
     "output_type": "stream",
     "text": [
      "Memory allocated 1048576 bytes / 1.000 MB\n",
      "\n"
     ]
    }
   ],
   "source": [
    "print_cuda_memory_allocated()"
   ]
  },
  {
   "cell_type": "markdown",
   "id": "3fd9c717",
   "metadata": {},
   "source": [
    "### Загрузка предобученной модели"
   ]
  },
  {
   "cell_type": "markdown",
   "id": "7f489235",
   "metadata": {},
   "source": [
    "Первым шагом в любой работе с finetuning является загрузка предварительно обученной базовой модели. torchtune поддерживает интеграцию с Hugging Face Hub -- коллекцией новейших и лучших весов моделей.\n"
   ]
  },
  {
   "cell_type": "code",
   "execution_count": 17,
   "id": "c9ad6e98",
   "metadata": {},
   "outputs": [],
   "source": [
    "# Вы уверены что хотите запустить???\n",
    "\n",
    "# !tune download Qwen/Qwen2-0.5B-Instruct --output-dir /tmp/Qwen2-0.5B-Instruct --ignore-patterns None"
   ]
  },
  {
   "cell_type": "markdown",
   "id": "3be29495",
   "metadata": {},
   "source": [
    "## Определение конфига"
   ]
  },
  {
   "cell_type": "markdown",
   "id": "bd911363",
   "metadata": {},
   "source": [
    "Очень важным является конфиг (рецепт) для finetuning. В учебных целях мы воспользуемся готовым конфигом, предложенным в библиотеке `torchtune`. \n",
    "\n",
    "\n",
    "Все конфиги для семейства моделей Qwen2 можно найти на [github](https://github.com/pytorch/torchtune/tree/5de500147e57d4d35e296faba68b296c03a1a2a0/recipes/configs/qwen2).\n",
    "\n",
    "\n",
    "Мы воспользуемся [конфигом](https://github.com/pytorch/torchtune/blob/5de500147e57d4d35e296faba68b296c03a1a2a0/recipes/configs/qwen2/0.5B_lora_single_device.yaml) `qwen2/0.5B_lora_single_device`, так как будем учить на одной GPU.\n",
    "\n",
    "[Подробнее про написание своих конфигов](https://pytorch.org/torchtune/stable/deep_dives/configs.html#config-tutorial-label)"
   ]
  },
  {
   "cell_type": "markdown",
   "id": "c39d6b9a",
   "metadata": {},
   "source": [
    "Посмотреть все доступные конфиги можно с помощью следующей команды"
   ]
  },
  {
   "cell_type": "code",
   "execution_count": 18,
   "id": "e74dea0f",
   "metadata": {},
   "outputs": [
    {
     "name": "stdout",
     "output_type": "stream",
     "text": [
      "/home/alexandr/miniconda3/envs/ml/lib/python3.9/site-packages/transformers/utils/generic.py:441: UserWarning: torch.utils._pytree._register_pytree_node is deprecated. Please use torch.utils._pytree.register_pytree_node instead.\n",
      "  _torch_pytree._register_pytree_node(\n",
      "RECIPE                                   CONFIG                                  \n",
      "full_finetune_single_device              llama2/7B_full_low_memory               \n",
      "                                         code_llama2/7B_full_low_memory          \n",
      "                                         llama3/8B_full_single_device            \n",
      "                                         llama3_1/8B_full_single_device          \n",
      "                                         llama3_2/1B_full_single_device          \n",
      "                                         llama3_2/3B_full_single_device          \n",
      "                                         mistral/7B_full_low_memory              \n",
      "                                         phi3/mini_full_low_memory               \n",
      "                                         qwen2/7B_full_single_device             \n",
      "                                         qwen2/0.5B_full_single_device           \n",
      "                                         qwen2/1.5B_full_single_device           \n",
      "                                         llama3_2_vision/11B_full_single_device  \n",
      "full_finetune_distributed                llama2/7B_full                          \n",
      "                                         llama2/13B_full                         \n",
      "                                         llama3/8B_full                          \n",
      "                                         llama3_1/8B_full                        \n",
      "                                         llama3_2/1B_full                        \n",
      "                                         llama3_2/3B_full                        \n",
      "                                         llama3/70B_full                         \n",
      "                                         llama3_1/70B_full                       \n",
      "                                         mistral/7B_full                         \n",
      "                                         gemma/2B_full                           \n",
      "                                         gemma/7B_full                           \n",
      "                                         phi3/mini_full                          \n",
      "                                         qwen2/7B_full                           \n",
      "                                         qwen2/0.5B_full                         \n",
      "                                         qwen2/1.5B_full                         \n",
      "                                         llama3_2_vision/11B_full                \n",
      "lora_finetune_single_device              llama2/7B_lora_single_device            \n",
      "                                         llama2/7B_qlora_single_device           \n",
      "                                         code_llama2/7B_lora_single_device       \n",
      "                                         code_llama2/7B_qlora_single_device      \n",
      "                                         llama3/8B_lora_single_device            \n",
      "                                         llama3_1/8B_lora_single_device          \n",
      "                                         llama3/8B_qlora_single_device           \n",
      "                                         llama3_2/1B_lora_single_device          \n",
      "                                         llama3_2/3B_lora_single_device          \n",
      "                                         llama3/8B_dora_single_device            \n",
      "                                         llama3/8B_qdora_single_device           \n",
      "                                         llama3_1/8B_qlora_single_device         \n",
      "                                         llama3_2/1B_qlora_single_device         \n",
      "                                         llama3_2/3B_qlora_single_device         \n",
      "                                         llama2/13B_qlora_single_device          \n",
      "                                         mistral/7B_lora_single_device           \n",
      "                                         mistral/7B_qlora_single_device          \n",
      "                                         gemma/2B_lora_single_device             \n",
      "                                         gemma/2B_qlora_single_device            \n",
      "                                         gemma/7B_lora_single_device             \n",
      "                                         gemma/7B_qlora_single_device            \n",
      "                                         phi3/mini_lora_single_device            \n",
      "                                         phi3/mini_qlora_single_device           \n",
      "                                         qwen2/7B_lora_single_device             \n",
      "                                         qwen2/0.5B_lora_single_device           \n",
      "                                         qwen2/1.5B_lora_single_device           \n",
      "                                         llama3_2_vision/11B_lora_single_device  \n",
      "lora_dpo_single_device                   llama2/7B_lora_dpo_single_device        \n",
      "lora_dpo_distributed                     llama2/7B_lora_dpo                      \n",
      "ppo_full_finetune_single_device          mistral/7B_full_ppo_low_memory          \n",
      "lora_finetune_distributed                llama2/7B_lora                          \n",
      "                                         llama2/13B_lora                         \n",
      "                                         llama2/70B_lora                         \n",
      "                                         llama2/7B_qlora                         \n",
      "                                         llama2/70B_qlora                        \n",
      "                                         llama3/8B_dora                          \n",
      "                                         llama3/70B_lora                         \n",
      "                                         llama3_1/70B_lora                       \n",
      "                                         llama3/8B_lora                          \n",
      "                                         llama3_1/8B_lora                        \n",
      "                                         llama3_2/1B_lora                        \n",
      "                                         llama3_2/3B_lora                        \n",
      "                                         llama3_1/405B_qlora                     \n",
      "                                         mistral/7B_lora                         \n",
      "                                         gemma/2B_lora                           \n",
      "                                         gemma/7B_lora                           \n",
      "                                         phi3/mini_lora                          \n",
      "                                         qwen2/7B_lora                           \n",
      "                                         qwen2/0.5B_lora                         \n",
      "                                         qwen2/1.5B_lora                         \n",
      "                                         llama3_2_vision/11B_lora                \n",
      "generate                                 generation                              \n",
      "dev/generate_v2                          llama2/generation_v2                    \n",
      "                                         llama3_2_vision/generation_v2           \n",
      "eleuther_eval                            eleuther_evaluation                     \n",
      "                                         llama3_2_vision/evaluation              \n",
      "quantize                                 quantization                            \n",
      "qat_distributed                          llama2/7B_qat_full                      \n",
      "                                         llama3/8B_qat_full                      \n",
      "knowledge_distillation_single_device     qwen2/knowledge_distillation_single_device\n",
      "                                         llama3_2/knowledge_distillation_single_device\n"
     ]
    }
   ],
   "source": [
    "!tune ls"
   ]
  },
  {
   "cell_type": "markdown",
   "id": "a9a7ec08",
   "metadata": {},
   "source": [
    "К счастью, благодаря хорошо прописанным конфигам, обучение можно написать в одну строчку, только при условии что у вас правильная версия `pytorch` и работает следующий `import`"
   ]
  },
  {
   "cell_type": "code",
   "execution_count": 1,
   "id": "41c4d8e4",
   "metadata": {},
   "outputs": [],
   "source": [
    "import torch"
   ]
  },
  {
   "cell_type": "code",
   "execution_count": 2,
   "id": "3b03d58f",
   "metadata": {},
   "outputs": [
    {
     "name": "stdout",
     "output_type": "stream",
     "text": [
      "2.4.0+cu121\n"
     ]
    }
   ],
   "source": [
    "print(torch.__version__)"
   ]
  },
  {
   "cell_type": "code",
   "execution_count": 3,
   "id": "10c6b9bc",
   "metadata": {},
   "outputs": [],
   "source": [
    "from torch.distributed._composable.fsdp import CPUOffloadPolicy"
   ]
  },
  {
   "cell_type": "code",
   "execution_count": 5,
   "id": "0ac2ba98",
   "metadata": {},
   "outputs": [
    {
     "name": "stdout",
     "output_type": "stream",
     "text": [
      "INFO:torchtune.utils._logging:Running LoRAFinetuneRecipeSingleDevice with resolved config:\n",
      "\n",
      "batch_size: 4\n",
      "checkpointer:\n",
      "  _component_: torchtune.training.FullModelHFCheckpointer\n",
      "  checkpoint_dir: /tmp/Qwen2-0.5B-Instruct\n",
      "  checkpoint_files:\n",
      "  - model.safetensors\n",
      "  model_type: QWEN2\n",
      "  output_dir: /tmp/Qwen2-0.5B-Instruct-lora-finetune\n",
      "  recipe_checkpoint: null\n",
      "compile: false\n",
      "dataset:\n",
      "  _component_: torchtune.datasets.alpaca_cleaned_dataset\n",
      "device: cuda\n",
      "dtype: bf16\n",
      "enable_activation_checkpointing: true\n",
      "enable_activation_offloading: false\n",
      "epochs: 1\n",
      "gradient_accumulation_steps: 4\n",
      "log_every_n_steps: 1\n",
      "log_peak_memory_stats: false\n",
      "loss:\n",
      "  _component_: torchtune.modules.loss.CEWithChunkedOutputLoss\n",
      "lr_scheduler:\n",
      "  _component_: torchtune.modules.get_cosine_schedule_with_warmup\n",
      "  num_warmup_steps: 100\n",
      "max_steps_per_epoch: null\n",
      "metric_logger:\n",
      "  _component_: torchtune.training.metric_logging.DiskLogger\n",
      "  log_dir: /tmp/Qwen2-0.5B-Instruct-lora-finetune\n",
      "model:\n",
      "  _component_: torchtune.models.qwen2.lora_qwen2_0_5b\n",
      "  apply_lora_to_mlp: false\n",
      "  lora_alpha: 64\n",
      "  lora_attn_modules:\n",
      "  - q_proj\n",
      "  - k_proj\n",
      "  - v_proj\n",
      "  lora_dropout: 0.0\n",
      "  lora_rank: 32\n",
      "optimizer:\n",
      "  _component_: torch.optim.AdamW\n",
      "  fused: true\n",
      "  lr: 0.002\n",
      "  weight_decay: 0.01\n",
      "output_dir: /tmp/Qwen2-0.5B-Instruct-lora-finetune\n",
      "profiler:\n",
      "  _component_: torchtune.training.setup_torch_profiler\n",
      "  active_steps: 2\n",
      "  cpu: true\n",
      "  cuda: true\n",
      "  enabled: false\n",
      "  num_cycles: 1\n",
      "  output_dir: /tmp/Qwen2-0.5B-Instruct-lora-finetune/profiling_outputs\n",
      "  profile_memory: false\n",
      "  record_shapes: true\n",
      "  wait_steps: 5\n",
      "  warmup_steps: 5\n",
      "  with_flops: false\n",
      "  with_stack: false\n",
      "resume_from_checkpoint: false\n",
      "seed: null\n",
      "shuffle: true\n",
      "tokenizer:\n",
      "  _component_: torchtune.models.qwen2.qwen2_tokenizer\n",
      "  max_seq_len: null\n",
      "  merges_file: /tmp/Qwen2-0.5B-Instruct/merges.txt\n",
      "  path: /tmp/Qwen2-0.5B-Instruct/vocab.json\n",
      "\n",
      "DEBUG:torchtune.utils._logging:Setting manual seed to local seed 2785118032. Local seed is seed + rank = 2785118032 + 0\n",
      "Writing logs to /tmp/Qwen2-0.5B-Instruct-lora-finetune/log_1728580412.txt\n",
      "INFO:torchtune.utils._logging:Model is initialized with precision torch.bfloat16.\n",
      "INFO:torchtune.utils._logging:Memory stats after model init:\n",
      "\tGPU peak memory allocation: 1.35 GiB\n",
      "\tGPU peak memory reserved: 1.40 GiB\n",
      "\tGPU peak memory active: 1.35 GiB\n",
      "INFO:torchtune.utils._logging:Tokenizer is initialized from file.\n",
      "INFO:torchtune.utils._logging:Optimizer and loss are initialized.\n",
      "INFO:torchtune.utils._logging:Loss is initialized.\n",
      "Downloading readme: 100%|██████████████████| 11.6k/11.6k [00:00<00:00, 10.4MB/s]\n",
      "Downloading data files:   0%|                             | 0/1 [00:00<?, ?it/s]\n",
      "Downloading data:   0%|                             | 0.00/44.3M [00:00<?, ?B/s]\u001b[A\n",
      "Downloading data:   9%|█▉                   | 4.19M/44.3M [00:07<01:15, 532kB/s]\u001b[A\n",
      "Downloading data:  28%|█████▋              | 12.6M/44.3M [00:13<00:30, 1.04MB/s]\u001b[A\n",
      "Downloading data:  47%|█████████▉           | 21.0M/44.3M [00:25<00:28, 807kB/s]\u001b[A\n",
      "Downloading data:  66%|█████████████▎      | 29.4M/44.3M [00:30<00:13, 1.08MB/s]\u001b[A\n",
      "Downloading data:  85%|█████████████████   | 37.7M/44.3M [00:33<00:04, 1.34MB/s]\u001b[A\n",
      "Downloading data: 100%|████████████████████| 44.3M/44.3M [00:34<00:00, 1.28MB/s]\u001b[A\n",
      "Downloading data files: 100%|█████████████████████| 1/1 [00:34<00:00, 34.66s/it]\n",
      "Extracting data files: 100%|█████████████████████| 1/1 [00:00<00:00, 608.75it/s]\n",
      "Generating train split: 51760 examples [00:00, 177540.60 examples/s]\n",
      "INFO:torchtune.utils._logging:Dataset and Sampler are initialized.\n",
      "INFO:torchtune.utils._logging:Learning rate scheduler is initialized.\n",
      "WARNING:torchtune.utils._logging: Profiling disabled.\n",
      "INFO:torchtune.utils._logging: Profiler config after instantiation: {'enabled': False}\n",
      "  0%|                                                  | 0/3235 [00:00<?, ?it/s]/home/alexandr/miniconda3/envs/ml/lib/python3.9/site-packages/torch/utils/checkpoint.py:1399: FutureWarning: `torch.cpu.amp.autocast(args...)` is deprecated. Please use `torch.amp.autocast('cpu', args...)` instead.\n",
      "  with device_autocast_ctx, torch.cpu.amp.autocast(**cpu_autocast_kwargs), recompute_context:  # type: ignore[attr-defined]\n",
      "1|31|Loss: 1.1317272186279297:   1%|        | 31/3235 [04:42<8:53:41,  9.99s/it]^C\n",
      "Traceback (most recent call last):\n",
      "  File \"/home/alexandr/miniconda3/envs/ml/bin/tune\", line 8, in <module>\n",
      "    sys.exit(main())\n",
      "  File \"/home/alexandr/miniconda3/envs/ml/lib/python3.9/site-packages/torchtune/_cli/tune.py\", line 49, in main\n",
      "    parser.run(args)\n",
      "  File \"/home/alexandr/miniconda3/envs/ml/lib/python3.9/site-packages/torchtune/_cli/tune.py\", line 43, in run\n",
      "    args.func(args)\n",
      "  File \"/home/alexandr/miniconda3/envs/ml/lib/python3.9/site-packages/torchtune/_cli/run.py\", line 196, in _run_cmd\n",
      "    self._run_single_device(args, is_builtin=is_builtin)\n",
      "  File \"/home/alexandr/miniconda3/envs/ml/lib/python3.9/site-packages/torchtune/_cli/run.py\", line 102, in _run_single_device\n",
      "    runpy.run_path(str(args.recipe), run_name=\"__main__\")\n",
      "  File \"/home/alexandr/miniconda3/envs/ml/lib/python3.9/runpy.py\", line 288, in run_path\n",
      "    return _run_module_code(code, init_globals, run_name,\n",
      "  File \"/home/alexandr/miniconda3/envs/ml/lib/python3.9/runpy.py\", line 97, in _run_module_code\n",
      "    _run_code(code, mod_globals, init_globals,\n",
      "  File \"/home/alexandr/miniconda3/envs/ml/lib/python3.9/runpy.py\", line 87, in _run_code\n",
      "    exec(code, run_globals)\n",
      "  File \"/home/alexandr/miniconda3/envs/ml/lib/python3.9/site-packages/recipes/lora_finetune_single_device.py\", line 793, in <module>\n",
      "    sys.exit(recipe_main())\n",
      "  File \"/home/alexandr/miniconda3/envs/ml/lib/python3.9/site-packages/torchtune/config/_parse.py\", line 99, in wrapper\n",
      "    sys.exit(recipe_main(conf))\n",
      "  File \"/home/alexandr/miniconda3/envs/ml/lib/python3.9/site-packages/recipes/lora_finetune_single_device.py\", line 788, in recipe_main\n",
      "    recipe.train()\n",
      "  File \"/home/alexandr/miniconda3/envs/ml/lib/python3.9/site-packages/recipes/lora_finetune_single_device.py\", line 695, in train\n",
      "    loss = self._loss_step(batch)\n",
      "  File \"/home/alexandr/miniconda3/envs/ml/lib/python3.9/site-packages/recipes/lora_finetune_single_device.py\", line 633, in _loss_step\n",
      "    logits = self._model(**batch)\n",
      "  File \"/home/alexandr/miniconda3/envs/ml/lib/python3.9/site-packages/torch/nn/modules/module.py\", line 1553, in _wrapped_call_impl\n",
      "    return self._call_impl(*args, **kwargs)\n",
      "  File \"/home/alexandr/miniconda3/envs/ml/lib/python3.9/site-packages/torch/nn/modules/module.py\", line 1562, in _call_impl\n",
      "    return forward_call(*args, **kwargs)\n",
      "  File \"/home/alexandr/miniconda3/envs/ml/lib/python3.9/site-packages/torchtune/modules/transformer.py\", line 599, in forward\n",
      "    h = layer(\n",
      "  File \"/home/alexandr/miniconda3/envs/ml/lib/python3.9/site-packages/torch/nn/modules/module.py\", line 1553, in _wrapped_call_impl\n",
      "    return self._call_impl(*args, **kwargs)\n",
      "  File \"/home/alexandr/miniconda3/envs/ml/lib/python3.9/site-packages/torch/nn/modules/module.py\", line 1562, in _call_impl\n",
      "    return forward_call(*args, **kwargs)\n",
      "  File \"/home/alexandr/miniconda3/envs/ml/lib/python3.9/site-packages/torch/distributed/algorithms/_checkpoint/checkpoint_wrapper.py\", line 169, in forward\n",
      "    return self.checkpoint_fn(  # type: ignore[misc]\n",
      "  File \"/home/alexandr/miniconda3/envs/ml/lib/python3.9/site-packages/torch/_compile.py\", line 31, in inner\n",
      "    return disable_fn(*args, **kwargs)\n",
      "  File \"/home/alexandr/miniconda3/envs/ml/lib/python3.9/site-packages/torch/_dynamo/eval_frame.py\", line 600, in _fn\n",
      "    return fn(*args, **kwargs)\n",
      "  File \"/home/alexandr/miniconda3/envs/ml/lib/python3.9/site-packages/torch/utils/checkpoint.py\", line 488, in checkpoint\n",
      "    ret = function(*args, **kwargs)\n",
      "  File \"/home/alexandr/miniconda3/envs/ml/lib/python3.9/site-packages/torch/nn/modules/module.py\", line 1553, in _wrapped_call_impl\n",
      "    return self._call_impl(*args, **kwargs)\n",
      "  File \"/home/alexandr/miniconda3/envs/ml/lib/python3.9/site-packages/torch/nn/modules/module.py\", line 1562, in _call_impl\n",
      "    return forward_call(*args, **kwargs)\n",
      "  File \"/home/alexandr/miniconda3/envs/ml/lib/python3.9/site-packages/torchtune/modules/transformer.py\", line 114, in forward\n",
      "    attn_out = self.attn(h, h, mask=mask, input_pos=input_pos)\n",
      "  File \"/home/alexandr/miniconda3/envs/ml/lib/python3.9/site-packages/torch/nn/modules/module.py\", line 1553, in _wrapped_call_impl\n",
      "    return self._call_impl(*args, **kwargs)\n",
      "  File \"/home/alexandr/miniconda3/envs/ml/lib/python3.9/site-packages/torch/nn/modules/module.py\", line 1562, in _call_impl\n",
      "    return forward_call(*args, **kwargs)\n",
      "  File \"/home/alexandr/miniconda3/envs/ml/lib/python3.9/site-packages/torchtune/modules/attention.py\", line 297, in forward\n",
      "    output = self._attention_call(\n",
      "  File \"/home/alexandr/miniconda3/envs/ml/lib/python3.9/site-packages/torchtune/modules/attention_utils.py\", line 236, in _attention_call\n",
      "    return nn.functional.scaled_dot_product_attention(\n",
      "  File \"/home/alexandr/miniconda3/envs/ml/lib/python3.9/site-packages/torch/utils/checkpoint.py\", line 1092, in pack_hook\n",
      "    def pack_hook(x):\n",
      "KeyboardInterrupt\n",
      "1|31|Loss: 1.1317272186279297:   1%|        | 31/3235 [04:45<8:11:41,  9.21s/it]\n"
     ]
    }
   ],
   "source": [
    "!tune run lora_finetune_single_device --config qwen2/0.5B_lora_single_device"
   ]
  },
  {
   "cell_type": "code",
   "execution_count": null,
   "id": "7b321b1d",
   "metadata": {},
   "outputs": [],
   "source": []
  }
 ],
 "metadata": {
  "kernelspec": {
   "display_name": "Python 3 (ipykernel)",
   "language": "python",
   "name": "python3"
  },
  "language_info": {
   "codemirror_mode": {
    "name": "ipython",
    "version": 3
   },
   "file_extension": ".py",
   "mimetype": "text/x-python",
   "name": "python",
   "nbconvert_exporter": "python",
   "pygments_lexer": "ipython3",
   "version": "3.9.16"
  }
 },
 "nbformat": 4,
 "nbformat_minor": 5
}
