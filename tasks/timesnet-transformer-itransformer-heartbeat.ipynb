{
 "cells": [
  {
   "cell_type": "code",
   "execution_count": 1,
   "metadata": {
    "_cell_guid": "b1076dfc-b9ad-4769-8c92-a6c4dae69d19",
    "_uuid": "8f2839f25d086af736a60e9eeb907d3b93b6e0e5",
    "execution": {
     "iopub.execute_input": "2024-11-06T14:57:23.519265Z",
     "iopub.status.busy": "2024-11-06T14:57:23.518815Z",
     "iopub.status.idle": "2024-11-06T14:57:27.834823Z",
     "shell.execute_reply": "2024-11-06T14:57:27.833100Z",
     "shell.execute_reply.started": "2024-11-06T14:57:23.519209Z"
    },
    "trusted": true
   },
   "outputs": [
    {
     "name": "stdout",
     "output_type": "stream",
     "text": [
      "Cloning into 'Time-Series-Library'...\n",
      "remote: Enumerating objects: 1828, done.\u001b[K\n",
      "remote: Total 1828 (delta 0), reused 0 (delta 0), pack-reused 1828 (from 1)\u001b[K\n",
      "Receiving objects: 100% (1828/1828), 78.19 MiB | 33.31 MiB/s, done.\n",
      "Resolving deltas: 100% (1264/1264), done.\n"
     ]
    }
   ],
   "source": [
    "! git clone https://github.com/thuml/Time-Series-Library.git"
   ]
  },
  {
   "cell_type": "code",
   "execution_count": 2,
   "metadata": {
    "execution": {
     "iopub.execute_input": "2024-11-06T14:57:27.839289Z",
     "iopub.status.busy": "2024-11-06T14:57:27.837150Z",
     "iopub.status.idle": "2024-11-06T14:57:42.933322Z",
     "shell.execute_reply": "2024-11-06T14:57:42.932027Z",
     "shell.execute_reply.started": "2024-11-06T14:57:27.839222Z"
    },
    "trusted": true
   },
   "outputs": [
    {
     "name": "stdout",
     "output_type": "stream",
     "text": [
      "Collecting gdown\n",
      "  Downloading gdown-5.2.0-py3-none-any.whl.metadata (5.8 kB)\n",
      "Requirement already satisfied: beautifulsoup4 in /opt/conda/lib/python3.10/site-packages (from gdown) (4.12.3)\n",
      "Requirement already satisfied: filelock in /opt/conda/lib/python3.10/site-packages (from gdown) (3.15.1)\n",
      "Requirement already satisfied: requests[socks] in /opt/conda/lib/python3.10/site-packages (from gdown) (2.32.3)\n",
      "Requirement already satisfied: tqdm in /opt/conda/lib/python3.10/site-packages (from gdown) (4.66.4)\n",
      "Requirement already satisfied: soupsieve>1.2 in /opt/conda/lib/python3.10/site-packages (from beautifulsoup4->gdown) (2.5)\n",
      "Requirement already satisfied: charset-normalizer<4,>=2 in /opt/conda/lib/python3.10/site-packages (from requests[socks]->gdown) (3.3.2)\n",
      "Requirement already satisfied: idna<4,>=2.5 in /opt/conda/lib/python3.10/site-packages (from requests[socks]->gdown) (3.7)\n",
      "Requirement already satisfied: urllib3<3,>=1.21.1 in /opt/conda/lib/python3.10/site-packages (from requests[socks]->gdown) (1.26.18)\n",
      "Requirement already satisfied: certifi>=2017.4.17 in /opt/conda/lib/python3.10/site-packages (from requests[socks]->gdown) (2024.8.30)\n",
      "Requirement already satisfied: PySocks!=1.5.7,>=1.5.6 in /opt/conda/lib/python3.10/site-packages (from requests[socks]->gdown) (1.7.1)\n",
      "Downloading gdown-5.2.0-py3-none-any.whl (18 kB)\n",
      "Installing collected packages: gdown\n",
      "Successfully installed gdown-5.2.0\n"
     ]
    }
   ],
   "source": [
    "! pip install gdown"
   ]
  },
  {
   "cell_type": "code",
   "execution_count": null,
   "metadata": {
    "execution": {
     "iopub.execute_input": "2024-11-06T14:57:42.935860Z",
     "iopub.status.busy": "2024-11-06T14:57:42.935463Z",
     "iopub.status.idle": "2024-11-06T14:57:43.273932Z",
     "shell.execute_reply": "2024-11-06T14:57:43.272617Z",
     "shell.execute_reply.started": "2024-11-06T14:57:42.935817Z"
    },
    "trusted": true
   },
   "outputs": [],
   "source": [
    "import gdown\n",
    "import os"
   ]
  },
  {
   "cell_type": "code",
   "execution_count": 6,
   "metadata": {
    "execution": {
     "iopub.execute_input": "2024-11-06T14:57:59.930749Z",
     "iopub.status.busy": "2024-11-06T14:57:59.930348Z",
     "iopub.status.idle": "2024-11-06T14:58:03.942631Z",
     "shell.execute_reply": "2024-11-06T14:58:03.941232Z",
     "shell.execute_reply.started": "2024-11-06T14:57:59.930711Z"
    },
    "trusted": true
   },
   "outputs": [
    {
     "name": "stderr",
     "output_type": "stream",
     "text": [
      "Downloading...\n",
      "From (original): https://drive.google.com/uc?id=1ArO13Ix-F4S63M4P8T1gC7diFWOMIdZ5\n",
      "From (redirected): https://drive.google.com/uc?id=1ArO13Ix-F4S63M4P8T1gC7diFWOMIdZ5&confirm=t&uuid=9e79c282-9733-41c3-844c-82e53d507105\n",
      "To: /kaggle/working/heartbit.zip\n",
      "100%|██████████| 27.4M/27.4M [00:00<00:00, 77.0MB/s]\n"
     ]
    },
    {
     "data": {
      "text/plain": [
       "'heartbit.zip'"
      ]
     },
     "execution_count": 6,
     "metadata": {},
     "output_type": "execute_result"
    }
   ],
   "source": [
    "file_id = \"1ArO13Ix-F4S63M4P8T1gC7diFWOMIdZ5\"\n",
    "url = f'https://drive.google.com/uc?id={file_id}'\n",
    "output_path = \"heartbit.zip\"\n",
    "gdown.download(url, output_path)"
   ]
  },
  {
   "cell_type": "code",
   "execution_count": null,
   "metadata": {
    "execution": {
     "iopub.execute_input": "2024-11-06T14:58:05.493730Z",
     "iopub.status.busy": "2024-11-06T14:58:05.493324Z",
     "iopub.status.idle": "2024-11-06T14:58:07.406566Z",
     "shell.execute_reply": "2024-11-06T14:58:07.405272Z",
     "shell.execute_reply.started": "2024-11-06T14:58:05.493690Z"
    },
    "trusted": true
   },
   "outputs": [
    {
     "name": "stdout",
     "output_type": "stream",
     "text": [
      "Archive:  heartbit.zip\n",
      "   creating: dataset/Heartbeat/\n",
      "  inflating: dataset/Heartbeat/Heartbeat_TRAIN.ts  \n",
      "  inflating: dataset/Heartbeat/Heartbeat_TEST.ts  \n"
     ]
    }
   ],
   "source": [
    "os.mkdir(\"dataset\")\n",
    "! unzip heartbit -d dataset"
   ]
  },
  {
   "cell_type": "code",
   "execution_count": 9,
   "metadata": {
    "execution": {
     "iopub.execute_input": "2024-11-06T14:58:09.761764Z",
     "iopub.status.busy": "2024-11-06T14:58:09.760736Z",
     "iopub.status.idle": "2024-11-06T14:58:09.766527Z",
     "shell.execute_reply": "2024-11-06T14:58:09.765469Z",
     "shell.execute_reply.started": "2024-11-06T14:58:09.761715Z"
    },
    "trusted": true
   },
   "outputs": [],
   "source": [
    "import sys\n",
    "sys.path.append('Time-Series-Library')"
   ]
  },
  {
   "cell_type": "code",
   "execution_count": 10,
   "metadata": {
    "collapsed": true,
    "execution": {
     "iopub.execute_input": "2024-11-06T14:58:11.855883Z",
     "iopub.status.busy": "2024-11-06T14:58:11.855134Z",
     "iopub.status.idle": "2024-11-06T14:58:34.388605Z",
     "shell.execute_reply": "2024-11-06T14:58:34.387325Z",
     "shell.execute_reply.started": "2024-11-06T14:58:11.855817Z"
    },
    "jupyter": {
     "outputs_hidden": true
    },
    "trusted": true
   },
   "outputs": [
    {
     "name": "stdout",
     "output_type": "stream",
     "text": [
      "Collecting patool\n",
      "  Downloading patool-3.0.3-py2.py3-none-any.whl.metadata (4.3 kB)\n",
      "Collecting sktime\n",
      "  Downloading sktime-0.34.0-py3-none-any.whl.metadata (34 kB)\n",
      "Collecting reformer-pytorch\n",
      "  Downloading reformer_pytorch-1.4.4-py3-none-any.whl.metadata (764 bytes)\n",
      "Requirement already satisfied: joblib<1.5,>=1.2.0 in /opt/conda/lib/python3.10/site-packages (from sktime) (1.4.2)\n",
      "Requirement already satisfied: numpy<2.2,>=1.21 in /opt/conda/lib/python3.10/site-packages (from sktime) (1.26.4)\n",
      "Requirement already satisfied: packaging in /opt/conda/lib/python3.10/site-packages (from sktime) (21.3)\n",
      "Requirement already satisfied: pandas<2.3.0,>=1.1 in /opt/conda/lib/python3.10/site-packages (from sktime) (2.2.2)\n",
      "Collecting scikit-base<0.12.0,>=0.6.1 (from sktime)\n",
      "  Downloading scikit_base-0.11.0-py3-none-any.whl.metadata (8.5 kB)\n",
      "Requirement already satisfied: scikit-learn<1.6.0,>=0.24 in /opt/conda/lib/python3.10/site-packages (from sktime) (1.2.2)\n",
      "Requirement already satisfied: scipy<2.0.0,>=1.2 in /opt/conda/lib/python3.10/site-packages (from sktime) (1.14.1)\n",
      "Collecting axial-positional-embedding>=0.1.0 (from reformer-pytorch)\n",
      "  Downloading axial_positional_embedding-0.2.1.tar.gz (2.6 kB)\n",
      "  Preparing metadata (setup.py) ... \u001b[?25ldone\n",
      "\u001b[?25hCollecting einops (from reformer-pytorch)\n",
      "  Downloading einops-0.8.0-py3-none-any.whl.metadata (12 kB)\n",
      "Collecting local-attention (from reformer-pytorch)\n",
      "  Downloading local_attention-1.9.15-py3-none-any.whl.metadata (683 bytes)\n",
      "Collecting product-key-memory (from reformer-pytorch)\n",
      "  Downloading product_key_memory-0.2.11-py3-none-any.whl.metadata (717 bytes)\n",
      "Requirement already satisfied: torch in /opt/conda/lib/python3.10/site-packages (from reformer-pytorch) (2.4.0)\n",
      "Requirement already satisfied: python-dateutil>=2.8.2 in /opt/conda/lib/python3.10/site-packages (from pandas<2.3.0,>=1.1->sktime) (2.9.0.post0)\n",
      "Requirement already satisfied: pytz>=2020.1 in /opt/conda/lib/python3.10/site-packages (from pandas<2.3.0,>=1.1->sktime) (2024.1)\n",
      "Requirement already satisfied: tzdata>=2022.7 in /opt/conda/lib/python3.10/site-packages (from pandas<2.3.0,>=1.1->sktime) (2024.1)\n",
      "Requirement already satisfied: threadpoolctl>=2.0.0 in /opt/conda/lib/python3.10/site-packages (from scikit-learn<1.6.0,>=0.24->sktime) (3.5.0)\n",
      "Requirement already satisfied: pyparsing!=3.0.5,>=2.0.2 in /opt/conda/lib/python3.10/site-packages (from packaging->sktime) (3.1.2)\n",
      "Collecting colt5-attention>=0.10.14 (from product-key-memory->reformer-pytorch)\n",
      "  Downloading CoLT5_attention-0.11.1-py3-none-any.whl.metadata (737 bytes)\n",
      "Requirement already satisfied: filelock in /opt/conda/lib/python3.10/site-packages (from torch->reformer-pytorch) (3.15.1)\n",
      "Requirement already satisfied: typing-extensions>=4.8.0 in /opt/conda/lib/python3.10/site-packages (from torch->reformer-pytorch) (4.12.2)\n",
      "Requirement already satisfied: sympy in /opt/conda/lib/python3.10/site-packages (from torch->reformer-pytorch) (1.13.3)\n",
      "Requirement already satisfied: networkx in /opt/conda/lib/python3.10/site-packages (from torch->reformer-pytorch) (3.3)\n",
      "Requirement already satisfied: jinja2 in /opt/conda/lib/python3.10/site-packages (from torch->reformer-pytorch) (3.1.4)\n",
      "Requirement already satisfied: fsspec in /opt/conda/lib/python3.10/site-packages (from torch->reformer-pytorch) (2024.6.1)\n",
      "Requirement already satisfied: six>=1.5 in /opt/conda/lib/python3.10/site-packages (from python-dateutil>=2.8.2->pandas<2.3.0,>=1.1->sktime) (1.16.0)\n",
      "Requirement already satisfied: MarkupSafe>=2.0 in /opt/conda/lib/python3.10/site-packages (from jinja2->torch->reformer-pytorch) (2.1.5)\n",
      "Requirement already satisfied: mpmath<1.4,>=1.1.0 in /opt/conda/lib/python3.10/site-packages (from sympy->torch->reformer-pytorch) (1.3.0)\n",
      "Downloading patool-3.0.3-py2.py3-none-any.whl (98 kB)\n",
      "\u001b[2K   \u001b[90m━━━━━━━━━━━━━━━━━━━━━━━━━━━━━━━━━━━━━━━━\u001b[0m \u001b[32m98.3/98.3 kB\u001b[0m \u001b[31m3.8 MB/s\u001b[0m eta \u001b[36m0:00:00\u001b[0m\n",
      "\u001b[?25hDownloading sktime-0.34.0-py3-none-any.whl (36.7 MB)\n",
      "\u001b[2K   \u001b[90m━━━━━━━━━━━━━━━━━━━━━━━━━━━━━━━━━━━━━━━━\u001b[0m \u001b[32m36.7/36.7 MB\u001b[0m \u001b[31m42.2 MB/s\u001b[0m eta \u001b[36m0:00:00\u001b[0m:00:01\u001b[0m00:01\u001b[0m\n",
      "\u001b[?25hDownloading reformer_pytorch-1.4.4-py3-none-any.whl (16 kB)\n",
      "Downloading scikit_base-0.11.0-py3-none-any.whl (137 kB)\n",
      "\u001b[2K   \u001b[90m━━━━━━━━━━━━━━━━━━━━━━━━━━━━━━━━━━━━━━━━\u001b[0m \u001b[32m137.4/137.4 kB\u001b[0m \u001b[31m8.1 MB/s\u001b[0m eta \u001b[36m0:00:00\u001b[0m\n",
      "\u001b[?25hDownloading einops-0.8.0-py3-none-any.whl (43 kB)\n",
      "\u001b[2K   \u001b[90m━━━━━━━━━━━━━━━━━━━━━━━━━━━━━━━━━━━━━━━━\u001b[0m \u001b[32m43.2/43.2 kB\u001b[0m \u001b[31m2.6 MB/s\u001b[0m eta \u001b[36m0:00:00\u001b[0m\n",
      "\u001b[?25hDownloading local_attention-1.9.15-py3-none-any.whl (9.0 kB)\n",
      "Downloading product_key_memory-0.2.11-py3-none-any.whl (6.5 kB)\n",
      "Downloading CoLT5_attention-0.11.1-py3-none-any.whl (18 kB)\n",
      "Building wheels for collected packages: axial-positional-embedding\n",
      "  Building wheel for axial-positional-embedding (setup.py) ... \u001b[?25ldone\n",
      "\u001b[?25h  Created wheel for axial-positional-embedding: filename=axial_positional_embedding-0.2.1-py3-none-any.whl size=2889 sha256=e1a033acc6dd7124e159c132403a9c6ca8b38408eae00a637a5aac4f9363633c\n",
      "  Stored in directory: /root/.cache/pip/wheels/b1/cb/39/7ce7ff2d2fd37cfe1fe7b3a3c43cf410632b2ad3b3f3986d73\n",
      "Successfully built axial-positional-embedding\n",
      "Installing collected packages: scikit-base, patool, einops, sktime, local-attention, axial-positional-embedding, colt5-attention, product-key-memory, reformer-pytorch\n",
      "Successfully installed axial-positional-embedding-0.2.1 colt5-attention-0.11.1 einops-0.8.0 local-attention-1.9.15 patool-3.0.3 product-key-memory-0.2.11 reformer-pytorch-1.4.4 scikit-base-0.11.0 sktime-0.34.0\n"
     ]
    }
   ],
   "source": [
    "! pip install patool sktime reformer-pytorch"
   ]
  },
  {
   "cell_type": "code",
   "execution_count": 11,
   "metadata": {
    "execution": {
     "iopub.execute_input": "2024-11-06T14:59:48.002806Z",
     "iopub.status.busy": "2024-11-06T14:59:48.002333Z",
     "iopub.status.idle": "2024-11-06T15:01:51.318339Z",
     "shell.execute_reply": "2024-11-06T15:01:51.317132Z",
     "shell.execute_reply.started": "2024-11-06T14:59:48.002752Z"
    },
    "trusted": true
   },
   "outputs": [
    {
     "name": "stdout",
     "output_type": "stream",
     "text": [
      "True\n",
      "Args in experiment:\n",
      "\u001b[1mBasic Config\u001b[0m\n",
      "  Task Name:          classification      Is Training:        1                   \n",
      "  Model ID:           Heartbeat           Model:              TimesNet            \n",
      "\n",
      "\u001b[1mData Loader\u001b[0m\n",
      "  Data:               UEA                 Root Path:          ./dataset/Heartbeat/\n",
      "  Data Path:          ETTh1.csv           Features:           M                   \n",
      "  Target:             OT                  Freq:               h                   \n",
      "  Checkpoints:        ./checkpoints/      \n",
      "\n",
      "\u001b[1mModel Parameters\u001b[0m\n",
      "  Top k:              1                   Num Kernels:        6                   \n",
      "  Enc In:             7                   Dec In:             7                   \n",
      "  C Out:              7                   d model:            16                  \n",
      "  n heads:            8                   e layers:           3                   \n",
      "  d layers:           1                   d FF:               32                  \n",
      "  Moving Avg:         25                  Factor:             1                   \n",
      "  Distil:             1                   Dropout:            0.1                 \n",
      "  Embed:              timeF               Activation:         gelu                \n",
      "\n",
      "\u001b[1mRun Parameters\u001b[0m\n",
      "  Num Workers:        10                  Itr:                1                   \n",
      "  Train Epochs:       30                  Batch Size:         16                  \n",
      "  Patience:           10                  Learning Rate:      0.001               \n",
      "  Des:                Exp                 Loss:               MSE                 \n",
      "  Lradj:              type1               Use Amp:            0                   \n",
      "\n",
      "\u001b[1mGPU\u001b[0m\n",
      "  Use GPU:            1                   GPU:                0                   \n",
      "  Use Multi GPU:      0                   Devices:            0,1,2,3             \n",
      "\n",
      "\u001b[1mDe-stationary Projector Params\u001b[0m\n",
      "  P Hidden Dims:      128, 128            P Hidden Layers:    2                   \n",
      "\n",
      "Use GPU: cuda:0\n",
      "204\n",
      "205\n",
      ">>>>>>>start training : classification_Heartbeat_TimesNet_UEA_ftM_sl405_ll48_pl0_dm16_nh8_el3_dl1_df32_expand2_dc4_fc1_ebtimeF_dtTrue_Exp_0>>>>>>>>>>>>>>>>>>>>>>>>>>\n",
      "204\n",
      "205\n",
      "205\n",
      "Epoch: 1 cost time: 5.502810478210449\n",
      "Epoch: 1, Steps: 13 | Train Loss: 0.633 Vali Loss: 0.566 Vali Acc: 0.717 Test Loss: 0.566 Test Acc: 0.717\n",
      "Validation loss decreased (inf --> -0.717073).  Saving model ...\n",
      "Epoch: 2 cost time: 0.925755500793457\n",
      "Epoch: 2, Steps: 13 | Train Loss: 0.572 Vali Loss: 0.543 Vali Acc: 0.732 Test Loss: 0.543 Test Acc: 0.732\n",
      "Validation loss decreased (-0.717073 --> -0.731707).  Saving model ...\n",
      "Epoch: 3 cost time: 0.9928779602050781\n",
      "Epoch: 3, Steps: 13 | Train Loss: 0.538 Vali Loss: 0.526 Vali Acc: 0.746 Test Loss: 0.526 Test Acc: 0.746\n",
      "Validation loss decreased (-0.731707 --> -0.746341).  Saving model ...\n",
      "Epoch: 4 cost time: 0.9556801319122314\n",
      "Epoch: 4, Steps: 13 | Train Loss: 0.512 Vali Loss: 0.543 Vali Acc: 0.737 Test Loss: 0.543 Test Acc: 0.737\n",
      "EarlyStopping counter: 1 out of 10\n",
      "Epoch: 5 cost time: 0.9041361808776855\n",
      "Epoch: 5, Steps: 13 | Train Loss: 0.460 Vali Loss: 0.536 Vali Acc: 0.741 Test Loss: 0.536 Test Acc: 0.741\n",
      "EarlyStopping counter: 2 out of 10\n",
      "Epoch: 6 cost time: 0.8880894184112549\n",
      "Epoch: 6, Steps: 13 | Train Loss: 0.453 Vali Loss: 0.516 Vali Acc: 0.761 Test Loss: 0.516 Test Acc: 0.761\n",
      "Validation loss decreased (-0.746341 --> -0.760976).  Saving model ...\n",
      "Epoch: 7 cost time: 0.9900941848754883\n",
      "Epoch: 7, Steps: 13 | Train Loss: 0.430 Vali Loss: 0.615 Vali Acc: 0.732 Test Loss: 0.615 Test Acc: 0.732\n",
      "EarlyStopping counter: 1 out of 10\n",
      "Epoch: 8 cost time: 0.9048957824707031\n",
      "Epoch: 8, Steps: 13 | Train Loss: 0.418 Vali Loss: 0.514 Vali Acc: 0.751 Test Loss: 0.514 Test Acc: 0.751\n",
      "EarlyStopping counter: 2 out of 10\n",
      "Epoch: 9 cost time: 0.925886869430542\n",
      "Epoch: 9, Steps: 13 | Train Loss: 0.368 Vali Loss: 0.525 Vali Acc: 0.737 Test Loss: 0.525 Test Acc: 0.737\n",
      "EarlyStopping counter: 3 out of 10\n",
      "Epoch: 10 cost time: 0.8924441337585449\n",
      "Epoch: 10, Steps: 13 | Train Loss: 0.301 Vali Loss: 0.537 Vali Acc: 0.756 Test Loss: 0.537 Test Acc: 0.756\n",
      "EarlyStopping counter: 4 out of 10\n",
      "Epoch: 11 cost time: 0.8983373641967773\n",
      "Epoch: 11, Steps: 13 | Train Loss: 0.310 Vali Loss: 0.494 Vali Acc: 0.771 Test Loss: 0.494 Test Acc: 0.771\n",
      "Validation loss decreased (-0.760976 --> -0.770732).  Saving model ...\n",
      "Epoch: 12 cost time: 0.9208469390869141\n",
      "Epoch: 12, Steps: 13 | Train Loss: 0.285 Vali Loss: 0.666 Vali Acc: 0.727 Test Loss: 0.666 Test Acc: 0.727\n",
      "EarlyStopping counter: 1 out of 10\n",
      "Epoch: 13 cost time: 0.9095985889434814\n",
      "Epoch: 13, Steps: 13 | Train Loss: 0.244 Vali Loss: 0.625 Vali Acc: 0.756 Test Loss: 0.625 Test Acc: 0.756\n",
      "EarlyStopping counter: 2 out of 10\n",
      "Epoch: 14 cost time: 0.9987072944641113\n",
      "Epoch: 14, Steps: 13 | Train Loss: 0.202 Vali Loss: 0.582 Vali Acc: 0.785 Test Loss: 0.582 Test Acc: 0.785\n",
      "Validation loss decreased (-0.770732 --> -0.785366).  Saving model ...\n",
      "Epoch: 15 cost time: 0.9887492656707764\n",
      "Epoch: 15, Steps: 13 | Train Loss: 0.185 Vali Loss: 0.562 Vali Acc: 0.712 Test Loss: 0.562 Test Acc: 0.712\n",
      "EarlyStopping counter: 1 out of 10\n",
      "Epoch: 16 cost time: 0.9545795917510986\n",
      "Epoch: 16, Steps: 13 | Train Loss: 0.170 Vali Loss: 0.567 Vali Acc: 0.761 Test Loss: 0.567 Test Acc: 0.761\n",
      "EarlyStopping counter: 2 out of 10\n",
      "Epoch: 17 cost time: 0.889000654220581\n",
      "Epoch: 17, Steps: 13 | Train Loss: 0.148 Vali Loss: 0.666 Vali Acc: 0.717 Test Loss: 0.666 Test Acc: 0.717\n",
      "EarlyStopping counter: 3 out of 10\n",
      "Epoch: 18 cost time: 1.081634759902954\n",
      "Epoch: 18, Steps: 13 | Train Loss: 0.118 Vali Loss: 0.534 Vali Acc: 0.756 Test Loss: 0.534 Test Acc: 0.756\n",
      "EarlyStopping counter: 4 out of 10\n",
      "Epoch: 19 cost time: 0.9025695323944092\n",
      "Epoch: 19, Steps: 13 | Train Loss: 0.106 Vali Loss: 0.533 Vali Acc: 0.810 Test Loss: 0.533 Test Acc: 0.810\n",
      "Validation loss decreased (-0.785366 --> -0.809756).  Saving model ...\n",
      "Epoch: 20 cost time: 0.9070072174072266\n",
      "Epoch: 20, Steps: 13 | Train Loss: 0.079 Vali Loss: 0.720 Vali Acc: 0.639 Test Loss: 0.720 Test Acc: 0.639\n",
      "EarlyStopping counter: 1 out of 10\n",
      "Epoch: 21 cost time: 0.9341192245483398\n",
      "Epoch: 21, Steps: 13 | Train Loss: 0.087 Vali Loss: 0.543 Vali Acc: 0.766 Test Loss: 0.543 Test Acc: 0.766\n",
      "EarlyStopping counter: 2 out of 10\n",
      "Epoch: 22 cost time: 0.9456777572631836\n",
      "Epoch: 22, Steps: 13 | Train Loss: 0.157 Vali Loss: 0.851 Vali Acc: 0.659 Test Loss: 0.851 Test Acc: 0.659\n",
      "EarlyStopping counter: 3 out of 10\n",
      "Epoch: 23 cost time: 0.9332423210144043\n",
      "Epoch: 23, Steps: 13 | Train Loss: 0.060 Vali Loss: 0.709 Vali Acc: 0.717 Test Loss: 0.709 Test Acc: 0.717\n",
      "EarlyStopping counter: 4 out of 10\n",
      "Epoch: 24 cost time: 0.9576256275177002\n",
      "Epoch: 24, Steps: 13 | Train Loss: 0.044 Vali Loss: 0.673 Vali Acc: 0.712 Test Loss: 0.673 Test Acc: 0.712\n",
      "EarlyStopping counter: 5 out of 10\n",
      "Epoch: 25 cost time: 1.0256402492523193\n",
      "Epoch: 25, Steps: 13 | Train Loss: 0.072 Vali Loss: 0.670 Vali Acc: 0.746 Test Loss: 0.670 Test Acc: 0.746\n",
      "EarlyStopping counter: 6 out of 10\n",
      "Epoch: 26 cost time: 0.9469072818756104\n",
      "Epoch: 26, Steps: 13 | Train Loss: 0.031 Vali Loss: 0.700 Vali Acc: 0.717 Test Loss: 0.700 Test Acc: 0.717\n",
      "EarlyStopping counter: 7 out of 10\n",
      "Epoch: 27 cost time: 0.8710691928863525\n",
      "Epoch: 27, Steps: 13 | Train Loss: 0.024 Vali Loss: 0.777 Vali Acc: 0.698 Test Loss: 0.777 Test Acc: 0.698\n",
      "EarlyStopping counter: 8 out of 10\n",
      "Epoch: 28 cost time: 0.9153585433959961\n",
      "Epoch: 28, Steps: 13 | Train Loss: 0.048 Vali Loss: 0.675 Vali Acc: 0.766 Test Loss: 0.675 Test Acc: 0.766\n",
      "EarlyStopping counter: 9 out of 10\n",
      "Epoch: 29 cost time: 0.894007682800293\n",
      "Epoch: 29, Steps: 13 | Train Loss: 0.046 Vali Loss: 0.790 Vali Acc: 0.732 Test Loss: 0.790 Test Acc: 0.732\n",
      "EarlyStopping counter: 10 out of 10\n",
      "Early stopping\n",
      ">>>>>>>testing : classification_Heartbeat_TimesNet_UEA_ftM_sl405_ll48_pl0_dm16_nh8_el3_dl1_df32_expand2_dc4_fc1_ebtimeF_dtTrue_Exp_0<<<<<<<<<<<<<<<<<<<<<<<<<<<<<<<<<\n",
      "205\n",
      "test shape: torch.Size([205, 2]) torch.Size([205, 1])\n",
      "accuracy:0.8097560975609757\n"
     ]
    }
   ],
   "source": [
    "! python -u Time-Series-Library/run.py \\\n",
    "  --task_name classification \\\n",
    "  --is_training 1 \\\n",
    "  --root_path ./dataset/Heartbeat/ \\\n",
    "  --model_id Heartbeat \\\n",
    "  --model TimesNet \\\n",
    "  --data UEA \\\n",
    "  --e_layers 3 \\\n",
    "  --batch_size 16 \\\n",
    "  --d_model 16 \\\n",
    "  --d_ff 32 \\\n",
    "  --top_k 1 \\\n",
    "  --des 'Exp' \\\n",
    "  --itr 1 \\\n",
    "  --learning_rate 0.001 \\\n",
    "  --train_epochs 30 \\\n",
    "  --patience 10"
   ]
  },
  {
   "cell_type": "code",
   "execution_count": 12,
   "metadata": {
    "execution": {
     "iopub.execute_input": "2024-11-06T15:01:59.453522Z",
     "iopub.status.busy": "2024-11-06T15:01:59.453034Z",
     "iopub.status.idle": "2024-11-06T15:03:22.637175Z",
     "shell.execute_reply": "2024-11-06T15:03:22.636050Z",
     "shell.execute_reply.started": "2024-11-06T15:01:59.453472Z"
    },
    "trusted": true
   },
   "outputs": [
    {
     "name": "stdout",
     "output_type": "stream",
     "text": [
      "True\n",
      "Args in experiment:\n",
      "\u001b[1mBasic Config\u001b[0m\n",
      "  Task Name:          classification      Is Training:        1                   \n",
      "  Model ID:           Heartbeat           Model:              Transformer         \n",
      "\n",
      "\u001b[1mData Loader\u001b[0m\n",
      "  Data:               UEA                 Root Path:          ./dataset/Heartbeat/\n",
      "  Data Path:          ETTh1.csv           Features:           M                   \n",
      "  Target:             OT                  Freq:               h                   \n",
      "  Checkpoints:        ./checkpoints/      \n",
      "\n",
      "\u001b[1mModel Parameters\u001b[0m\n",
      "  Top k:              3                   Num Kernels:        6                   \n",
      "  Enc In:             7                   Dec In:             7                   \n",
      "  C Out:              7                   d model:            64                  \n",
      "  n heads:            8                   e layers:           3                   \n",
      "  d layers:           1                   d FF:               128                 \n",
      "  Moving Avg:         25                  Factor:             1                   \n",
      "  Distil:             1                   Dropout:            0.1                 \n",
      "  Embed:              timeF               Activation:         gelu                \n",
      "\n",
      "\u001b[1mRun Parameters\u001b[0m\n",
      "  Num Workers:        10                  Itr:                1                   \n",
      "  Train Epochs:       30                  Batch Size:         16                  \n",
      "  Patience:           10                  Learning Rate:      0.001               \n",
      "  Des:                Exp                 Loss:               MSE                 \n",
      "  Lradj:              type1               Use Amp:            0                   \n",
      "\n",
      "\u001b[1mGPU\u001b[0m\n",
      "  Use GPU:            1                   GPU:                0                   \n",
      "  Use Multi GPU:      0                   Devices:            0,1,2,3             \n",
      "\n",
      "\u001b[1mDe-stationary Projector Params\u001b[0m\n",
      "  P Hidden Dims:      128, 128            P Hidden Layers:    2                   \n",
      "\n",
      "Use GPU: cuda:0\n",
      "204\n",
      "205\n",
      ">>>>>>>start training : classification_Heartbeat_Transformer_UEA_ftM_sl405_ll48_pl0_dm64_nh8_el3_dl1_df128_expand2_dc4_fc1_ebtimeF_dtTrue_Exp_0>>>>>>>>>>>>>>>>>>>>>>>>>>\n",
      "204\n",
      "205\n",
      "205\n",
      "Epoch: 1 cost time: 3.495743989944458\n",
      "Epoch: 1, Steps: 13 | Train Loss: 0.624 Vali Loss: 0.542 Vali Acc: 0.746 Test Loss: 0.542 Test Acc: 0.746\n",
      "Validation loss decreased (inf --> -0.746341).  Saving model ...\n",
      "Epoch: 2 cost time: 0.7992582321166992\n",
      "Epoch: 2, Steps: 13 | Train Loss: 0.525 Vali Loss: 0.581 Vali Acc: 0.732 Test Loss: 0.581 Test Acc: 0.732\n",
      "EarlyStopping counter: 1 out of 10\n",
      "Epoch: 3 cost time: 0.8050878047943115\n",
      "Epoch: 3, Steps: 13 | Train Loss: 0.474 Vali Loss: 0.535 Vali Acc: 0.751 Test Loss: 0.535 Test Acc: 0.751\n",
      "Validation loss decreased (-0.746341 --> -0.751220).  Saving model ...\n",
      "Epoch: 4 cost time: 0.9783852100372314\n",
      "Epoch: 4, Steps: 13 | Train Loss: 0.417 Vali Loss: 0.495 Vali Acc: 0.766 Test Loss: 0.495 Test Acc: 0.766\n",
      "Validation loss decreased (-0.751220 --> -0.765854).  Saving model ...\n",
      "Epoch: 5 cost time: 0.7829086780548096\n",
      "Epoch: 5, Steps: 13 | Train Loss: 0.337 Vali Loss: 0.513 Vali Acc: 0.771 Test Loss: 0.513 Test Acc: 0.771\n",
      "Validation loss decreased (-0.765854 --> -0.770732).  Saving model ...\n",
      "Epoch: 6 cost time: 0.7843036651611328\n",
      "Epoch: 6, Steps: 13 | Train Loss: 0.288 Vali Loss: 0.625 Vali Acc: 0.746 Test Loss: 0.625 Test Acc: 0.746\n",
      "EarlyStopping counter: 1 out of 10\n",
      "Epoch: 7 cost time: 0.7950363159179688\n",
      "Epoch: 7, Steps: 13 | Train Loss: 0.233 Vali Loss: 0.571 Vali Acc: 0.712 Test Loss: 0.571 Test Acc: 0.712\n",
      "EarlyStopping counter: 2 out of 10\n",
      "Epoch: 8 cost time: 0.756166934967041\n",
      "Epoch: 8, Steps: 13 | Train Loss: 0.232 Vali Loss: 0.653 Vali Acc: 0.629 Test Loss: 0.653 Test Acc: 0.629\n",
      "EarlyStopping counter: 3 out of 10\n",
      "Epoch: 9 cost time: 0.8146336078643799\n",
      "Epoch: 9, Steps: 13 | Train Loss: 0.192 Vali Loss: 0.549 Vali Acc: 0.732 Test Loss: 0.549 Test Acc: 0.732\n",
      "EarlyStopping counter: 4 out of 10\n",
      "Epoch: 10 cost time: 0.8058815002441406\n",
      "Epoch: 10, Steps: 13 | Train Loss: 0.126 Vali Loss: 0.576 Vali Acc: 0.717 Test Loss: 0.576 Test Acc: 0.717\n",
      "EarlyStopping counter: 5 out of 10\n",
      "Epoch: 11 cost time: 0.7896206378936768\n",
      "Epoch: 11, Steps: 13 | Train Loss: 0.123 Vali Loss: 0.612 Vali Acc: 0.756 Test Loss: 0.612 Test Acc: 0.756\n",
      "EarlyStopping counter: 6 out of 10\n",
      "Epoch: 12 cost time: 0.8079211711883545\n",
      "Epoch: 12, Steps: 13 | Train Loss: 0.071 Vali Loss: 0.799 Vali Acc: 0.615 Test Loss: 0.799 Test Acc: 0.615\n",
      "EarlyStopping counter: 7 out of 10\n",
      "Epoch: 13 cost time: 0.8113806247711182\n",
      "Epoch: 13, Steps: 13 | Train Loss: 0.090 Vali Loss: 0.702 Vali Acc: 0.727 Test Loss: 0.702 Test Acc: 0.727\n",
      "EarlyStopping counter: 8 out of 10\n",
      "Epoch: 14 cost time: 0.7973289489746094\n",
      "Epoch: 14, Steps: 13 | Train Loss: 0.056 Vali Loss: 0.679 Vali Acc: 0.712 Test Loss: 0.679 Test Acc: 0.712\n",
      "EarlyStopping counter: 9 out of 10\n",
      "Epoch: 15 cost time: 0.762972354888916\n",
      "Epoch: 15, Steps: 13 | Train Loss: 0.054 Vali Loss: 0.833 Vali Acc: 0.639 Test Loss: 0.833 Test Acc: 0.639\n",
      "EarlyStopping counter: 10 out of 10\n",
      "Early stopping\n",
      ">>>>>>>testing : classification_Heartbeat_Transformer_UEA_ftM_sl405_ll48_pl0_dm64_nh8_el3_dl1_df128_expand2_dc4_fc1_ebtimeF_dtTrue_Exp_0<<<<<<<<<<<<<<<<<<<<<<<<<<<<<<<<<\n",
      "205\n",
      "test shape: torch.Size([205, 2]) torch.Size([205, 1])\n",
      "accuracy:0.7707317073170732\n"
     ]
    }
   ],
   "source": [
    "! python -u Time-Series-Library/run.py \\\n",
    "  --task_name classification \\\n",
    "  --is_training 1 \\\n",
    "  --root_path ./dataset/Heartbeat/ \\\n",
    "  --model_id Heartbeat \\\n",
    "  --model Transformer \\\n",
    "  --data UEA \\\n",
    "  --e_layers 3 \\\n",
    "  --batch_size 16 \\\n",
    "  --d_model 64 \\\n",
    "  --d_ff 128 \\\n",
    "  --top_k 3 \\\n",
    "  --des 'Exp' \\\n",
    "  --itr 1 \\\n",
    "  --learning_rate 0.001 \\\n",
    "  --train_epochs 30 \\\n",
    "  --patience 10"
   ]
  },
  {
   "cell_type": "code",
   "execution_count": 13,
   "metadata": {
    "execution": {
     "iopub.execute_input": "2024-11-06T15:07:17.657213Z",
     "iopub.status.busy": "2024-11-06T15:07:17.656324Z",
     "iopub.status.idle": "2024-11-06T15:08:33.318618Z",
     "shell.execute_reply": "2024-11-06T15:08:33.317514Z",
     "shell.execute_reply.started": "2024-11-06T15:07:17.657164Z"
    },
    "trusted": true
   },
   "outputs": [
    {
     "name": "stdout",
     "output_type": "stream",
     "text": [
      "True\n",
      "Args in experiment:\n",
      "\u001b[1mBasic Config\u001b[0m\n",
      "  Task Name:          classification      Is Training:        1                   \n",
      "  Model ID:           Heartbeat           Model:              iTransformer        \n",
      "\n",
      "\u001b[1mData Loader\u001b[0m\n",
      "  Data:               UEA                 Root Path:          ./dataset/Heartbeat/\n",
      "  Data Path:          ETTh1.csv           Features:           M                   \n",
      "  Target:             OT                  Freq:               h                   \n",
      "  Checkpoints:        ./checkpoints/      \n",
      "\n",
      "\u001b[1mModel Parameters\u001b[0m\n",
      "  Top k:              3                   Num Kernels:        6                   \n",
      "  Enc In:             3                   Dec In:             7                   \n",
      "  C Out:              7                   d model:            64                  \n",
      "  n heads:            8                   e layers:           3                   \n",
      "  d layers:           1                   d FF:               128                 \n",
      "  Moving Avg:         25                  Factor:             1                   \n",
      "  Distil:             1                   Dropout:            0.1                 \n",
      "  Embed:              timeF               Activation:         gelu                \n",
      "\n",
      "\u001b[1mRun Parameters\u001b[0m\n",
      "  Num Workers:        10                  Itr:                1                   \n",
      "  Train Epochs:       30                  Batch Size:         16                  \n",
      "  Patience:           10                  Learning Rate:      0.001               \n",
      "  Des:                Exp                 Loss:               MSE                 \n",
      "  Lradj:              type1               Use Amp:            0                   \n",
      "\n",
      "\u001b[1mGPU\u001b[0m\n",
      "  Use GPU:            1                   GPU:                0                   \n",
      "  Use Multi GPU:      0                   Devices:            0,1,2,3             \n",
      "\n",
      "\u001b[1mDe-stationary Projector Params\u001b[0m\n",
      "  P Hidden Dims:      128, 128            P Hidden Layers:    2                   \n",
      "\n",
      "Use GPU: cuda:0\n",
      "204\n",
      "205\n",
      ">>>>>>>start training : classification_Heartbeat_iTransformer_UEA_ftM_sl405_ll48_pl0_dm64_nh8_el3_dl1_df128_expand2_dc4_fc1_ebtimeF_dtTrue_Exp_0>>>>>>>>>>>>>>>>>>>>>>>>>>\n",
      "204\n",
      "205\n",
      "205\n",
      "Epoch: 1 cost time: 3.3226287364959717\n",
      "Epoch: 1, Steps: 13 | Train Loss: 0.604 Vali Loss: 0.575 Vali Acc: 0.717 Test Loss: 0.575 Test Acc: 0.717\n",
      "Validation loss decreased (inf --> -0.717073).  Saving model ...\n",
      "Epoch: 2 cost time: 0.5991930961608887\n",
      "Epoch: 2, Steps: 13 | Train Loss: 0.554 Vali Loss: 0.569 Vali Acc: 0.722 Test Loss: 0.569 Test Acc: 0.722\n",
      "Validation loss decreased (-0.717073 --> -0.721951).  Saving model ...\n",
      "Epoch: 3 cost time: 0.6115243434906006\n",
      "Epoch: 3, Steps: 13 | Train Loss: 0.494 Vali Loss: 0.545 Vali Acc: 0.751 Test Loss: 0.545 Test Acc: 0.751\n",
      "Validation loss decreased (-0.721951 --> -0.751220).  Saving model ...\n",
      "Epoch: 4 cost time: 0.7699935436248779\n",
      "Epoch: 4, Steps: 13 | Train Loss: 0.442 Vali Loss: 0.552 Vali Acc: 0.741 Test Loss: 0.552 Test Acc: 0.741\n",
      "EarlyStopping counter: 1 out of 10\n",
      "Epoch: 5 cost time: 0.5957560539245605\n",
      "Epoch: 5, Steps: 13 | Train Loss: 0.358 Vali Loss: 0.564 Vali Acc: 0.707 Test Loss: 0.564 Test Acc: 0.707\n",
      "EarlyStopping counter: 2 out of 10\n",
      "Epoch: 6 cost time: 0.5886356830596924\n",
      "Epoch: 6, Steps: 13 | Train Loss: 0.316 Vali Loss: 0.581 Vali Acc: 0.732 Test Loss: 0.581 Test Acc: 0.732\n",
      "EarlyStopping counter: 3 out of 10\n",
      "Epoch: 7 cost time: 0.5827927589416504\n",
      "Epoch: 7, Steps: 13 | Train Loss: 0.255 Vali Loss: 0.644 Vali Acc: 0.712 Test Loss: 0.644 Test Acc: 0.712\n",
      "EarlyStopping counter: 4 out of 10\n",
      "Epoch: 8 cost time: 0.5957393646240234\n",
      "Epoch: 8, Steps: 13 | Train Loss: 0.196 Vali Loss: 0.686 Vali Acc: 0.727 Test Loss: 0.686 Test Acc: 0.727\n",
      "EarlyStopping counter: 5 out of 10\n",
      "Epoch: 9 cost time: 0.5908417701721191\n",
      "Epoch: 9, Steps: 13 | Train Loss: 0.157 Vali Loss: 0.754 Vali Acc: 0.688 Test Loss: 0.754 Test Acc: 0.688\n",
      "EarlyStopping counter: 6 out of 10\n",
      "Epoch: 10 cost time: 0.6095492839813232\n",
      "Epoch: 10, Steps: 13 | Train Loss: 0.111 Vali Loss: 0.843 Vali Acc: 0.659 Test Loss: 0.843 Test Acc: 0.659\n",
      "EarlyStopping counter: 7 out of 10\n",
      "Epoch: 11 cost time: 0.6202330589294434\n",
      "Epoch: 11, Steps: 13 | Train Loss: 0.094 Vali Loss: 0.892 Vali Acc: 0.673 Test Loss: 0.892 Test Acc: 0.673\n",
      "EarlyStopping counter: 8 out of 10\n",
      "Epoch: 12 cost time: 0.6154158115386963\n",
      "Epoch: 12, Steps: 13 | Train Loss: 0.094 Vali Loss: 1.088 Vali Acc: 0.629 Test Loss: 1.088 Test Acc: 0.629\n",
      "EarlyStopping counter: 9 out of 10\n",
      "Epoch: 13 cost time: 0.6005477905273438\n",
      "Epoch: 13, Steps: 13 | Train Loss: 0.085 Vali Loss: 0.940 Vali Acc: 0.673 Test Loss: 0.940 Test Acc: 0.673\n",
      "EarlyStopping counter: 10 out of 10\n",
      "Early stopping\n",
      ">>>>>>>testing : classification_Heartbeat_iTransformer_UEA_ftM_sl405_ll48_pl0_dm64_nh8_el3_dl1_df128_expand2_dc4_fc1_ebtimeF_dtTrue_Exp_0<<<<<<<<<<<<<<<<<<<<<<<<<<<<<<<<<\n",
      "205\n",
      "test shape: torch.Size([205, 2]) torch.Size([205, 1])\n",
      "accuracy:0.751219512195122\n"
     ]
    }
   ],
   "source": [
    "! python -u Time-Series-Library/run.py \\\n",
    "  --task_name classification \\\n",
    "  --is_training 1 \\\n",
    "  --root_path ./dataset/Heartbeat/ \\\n",
    "  --model_id Heartbeat \\\n",
    "  --model iTransformer \\\n",
    "  --data UEA \\\n",
    "  --e_layers 3 \\\n",
    "  --batch_size 16 \\\n",
    "  --d_model 64 \\\n",
    "  --d_ff 128 \\\n",
    "  --top_k 3 \\\n",
    "  --des 'Exp' \\\n",
    "  --itr 1 \\\n",
    "  --learning_rate 0.001 \\\n",
    "  --train_epochs 30 \\\n",
    "  --patience 10 \\\n",
    "  --enc_in 3\n"
   ]
  }
 ],
 "metadata": {
  "kaggle": {
   "accelerator": "gpu",
   "dataSources": [],
   "dockerImageVersionId": 30786,
   "isGpuEnabled": true,
   "isInternetEnabled": true,
   "language": "python",
   "sourceType": "notebook"
  },
  "kernelspec": {
   "display_name": "Python 3",
   "language": "python",
   "name": "python3"
  },
  "language_info": {
   "codemirror_mode": {
    "name": "ipython",
    "version": 3
   },
   "file_extension": ".py",
   "mimetype": "text/x-python",
   "name": "python",
   "nbconvert_exporter": "python",
   "pygments_lexer": "ipython3",
   "version": "3.10.14"
  }
 },
 "nbformat": 4,
 "nbformat_minor": 4
}
